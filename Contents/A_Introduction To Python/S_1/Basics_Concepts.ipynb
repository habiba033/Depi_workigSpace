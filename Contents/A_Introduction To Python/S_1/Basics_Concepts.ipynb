{
 "cells": [
  {
   "cell_type": "code",
   "execution_count": 4,
   "id": "3f5fbe95",
   "metadata": {},
   "outputs": [
    {
     "name": "stdout",
     "output_type": "stream",
     "text": [
      "the length of this list is 5\n",
      "the square of 4 is 16\n"
     ]
    }
   ],
   "source": [
    "'''\n",
    "functions in python are\n",
    "1- defined using the def keyword UDFs\n",
    "2- built-in functions\n",
    "3- lambda functions\n",
    "'''\n",
    "# user defined function\n",
    "def greet(name):\n",
    "    return f\"Hello, {name}!\" # output: Hello, Alice!\n",
    "\n",
    "\n",
    "# built-in function\n",
    "numbers = [1, 2, 3, 4, 5]\n",
    "print(f\"the length of this list is {len(numbers)}\")  # Output: 5\n",
    "\n",
    "# lambda function\n",
    "square = lambda x: x * x\n",
    "print(f\"the square of 4 is {square(4)}\")  # Output: 16"
   ]
  },
  {
   "cell_type": "code",
   "execution_count": 6,
   "id": "9c855f20",
   "metadata": {},
   "outputs": [
    {
     "name": "stdout",
     "output_type": "stream",
     "text": [
      "Alice is 25 years old.\n"
     ]
    }
   ],
   "source": [
    "\"\"\"\n",
    "data types :\n",
    "1-  Basic Data Types : int, float, str, bool\n",
    "2-  Collection Data Types : list, tuple, set, dict\n",
    "3-  User-Defined Data Types : classes\n",
    "\"\"\"\n",
    "\n",
    "# Basic Data Types\n",
    "age = 25               # int\n",
    "height = 5.9          # float\n",
    "name = \"Alice\"        # str\n",
    "is_student = True     # bool\n",
    "\n",
    "# Collection Data Types\n",
    "fruits = [\"apple\", \"banana\", \"cherry\"]  # list\n",
    "coordinates = (10.0, 20.0)               # tuple\n",
    "unique_numbers = {1, 2, 3}               # set\n",
    "person = {\"name\": \"Alice\", \"age\": 25}    # dict\n",
    "\n",
    "# User-Defined Data Types\n",
    "class Person:\n",
    "    def __init__(self, name, age):\n",
    "        self.name = name\n",
    "        self.age = age\n",
    "alice = Person(\"Alice\", 25)\n",
    "print(f\"{alice.name} is {alice.age} years old.\")  # Output: Alice"
   ]
  },
  {
   "cell_type": "code",
   "execution_count": 9,
   "id": "8f5ef0a4",
   "metadata": {},
   "outputs": [
    {
     "name": "stdout",
     "output_type": "stream",
     "text": [
      "hello\n",
      " el wrd\n",
      " hell\n",
      ",world\n",
      "world\n",
      " l od\n",
      "dlrow, olleh \n",
      "hlo,o\n",
      "drw le\n",
      "olleh\n"
     ]
    }
   ],
   "source": [
    "'''\n",
    "String Slicing in Python\n",
    "1- basic slicing\n",
    "2- slicing syntax\n",
    "3- examples\n",
    "4- using slicing with step\n",
    "'''\n",
    "\n",
    "# basic slicing\n",
    "text = \" hello ,world\"\n",
    "print(text[1:6])  # Output: hello\n",
    "\n",
    "# slicing syntax\n",
    "# text[start:end:step]\n",
    "print(text[::2])  # Output: hlo ol\n",
    "\n",
    "# examples\n",
    "print(text[:5])   # Output:  hell\n",
    "print(text[7:])   # Output: world\n",
    "print(text[-5:])  # Output: world\n",
    "\n",
    "# using slicing with step\n",
    "print(text[::3])  # Output: hl r\n",
    "print(text[::-1])  # Output: dlrow ,olleh\n",
    "print(text[1:10:2])  # Output: hlo ol\n",
    "print(text[-1:-12:-2])  # Output: dlr ol\n",
    "print(text[5:0:-1])  # Output: , olle\n"
   ]
  },
  {
   "cell_type": "code",
   "execution_count": null,
   "id": "867fec0a",
   "metadata": {},
   "outputs": [
    {
     "name": "stdout",
     "output_type": "stream",
     "text": [
      " HELLO ,WORLD \n",
      " hello ,world \n",
      " Hello ,World \n",
      " hello ,world \n",
      " HELLO ,WORLD \n",
      "8\n",
      " hello ,Python \n",
      "2\n",
      "True\n",
      "True\n",
      "2\n",
      "9\n",
      "9\n",
      "True\n"
     ]
    }
   ],
   "source": [
    "'''\n",
    "Python String Functions & Methods\n",
    "1- case changing methods\n",
    "2- searching and replacing methods\n",
    "3- trimming methods\n",
    "4- splitting and joining methods\n",
    "5- other useful methods\n",
    "'''\n",
    "# case changing methods\n",
    "text = \" hello ,world \"\n",
    "print(text.upper())        # Output:  HELLO ,WORLD\n",
    "print(text.lower())        # Output:  hello ,world\n",
    "print(text.title())        # Output:  Hello ,World\n",
    "print(text.capitalize())   # Output:  hello ,world\n",
    "print(text.swapcase())     # Output:  HELLO ,WORLD\n",
    "\n",
    "# searching and replacing methods\n",
    "print(text.find(\"world\"))      # Output: 8\n",
    "print(text.replace(\"world\", \"Python\"))  # Output:  hello ,Python\n",
    "print(text.count(\"o\"))        # Output: 2\n",
    "print(text.startswith(\" hello\"))  # Output: True\n",
    "print(text.endswith(\"world \"))    # Output: True\n",
    "print(text.index(\"e\"))        # Output: 2\n",
    "print(text.rfind(\"o\"))       # Output: 10\n",
    "print(text.rindex(\"o\"))      # Output: 10\n",
    "print(\"hello\" in text)      # Output: True\n",
    "print(\"Python\" not in text)  # Output: True\n",
    "\n",
    "# trimming methods\n",
    "print(text.strip())         # Output: hello ,world\n",
    "print(text.lstrip())        # Output: hello ,world\n",
    "print(text.rstrip())        # Output:  hello ,world\n",
    "\n",
    "# splitting and joining methods\n",
    "words = text.split(\",\")     # Split by comma\n",
    "print(words)                # Output: [' hello ', 'world ']\n",
    "joined_text = \" - \".join(words)\n",
    "print(joined_text)          # Output:  hello  - world\n",
    "print(text.split())         # Output: ['hello', ',world']\n",
    "print(\" \".join(text.split())) # Output: hello ,world\n",
    "print(text.splitlines())    # Output: [' hello ,world ']\n",
    "print(\" \".join(text.splitlines())) # Output:  hello ,world\n",
    "\n",
    "# other useful methods\n",
    "print(text.isalpha())       # Output: False\n",
    "print(text.isdigit())       # Output: False\n",
    "print(text.isalnum())       # Output: False\n",
    "print(text.isspace())       # Output: False\n",
    "\n",
    "\n",
    "\n",
    "\n"
   ]
  },
  {
   "cell_type": "code",
   "execution_count": 27,
   "id": "52e91200",
   "metadata": {},
   "outputs": [
    {
     "name": "stdout",
     "output_type": "stream",
     "text": [
      "AMIT-LEARNING\n",
      "amit-learning\n",
      "amit learning\n",
      "Amit-learning\n",
      "Amit-Learning\n",
      "1\n",
      "AMIT-LEARNING\n",
      "['amit', 'learning']\n",
      "this - is - a - sentence - .\n",
      "5\n",
      "False\n",
      "True\n",
      "['welcome', 'to', 'depi']\n",
      "21\n"
     ]
    },
    {
     "data": {
      "text/plain": [
       "'habiba'"
      ]
     },
     "execution_count": 27,
     "metadata": {},
     "output_type": "execute_result"
    }
   ],
   "source": [
    "# string slicing\n",
    "name = \"amit-learning\"\n",
    "name[0:6:2]\n",
    "\n",
    "# funcs to string\n",
    "print(name.upper())\n",
    "print(name.lower())\n",
    "print(name.replace(\"-\",\" \"))\n",
    "print(name.capitalize())\n",
    "print(name.title())\n",
    "print(name.count(\"-\"))\n",
    "print(name.swapcase())\n",
    "print(name.replace(\"-\",\" \").split())\n",
    "\n",
    "words =['this' , 'is' , 'a', 'sentence','.']\n",
    "print(' - '.join(words))\n",
    "print(len(words))\n",
    "print(name.startswith(\"hello\"))\n",
    "\n",
    "print(\"x\" in \"hello xavir\")\n",
    "\n",
    "s= \"welcome    to        depi\"\n",
    "print(s.split())\n",
    "print(s.find(\"depi\"))\n",
    "\n",
    "input(\"enter your name\")"
   ]
  }
 ],
 "metadata": {
  "kernelspec": {
   "display_name": ".env",
   "language": "python",
   "name": "python3"
  },
  "language_info": {
   "codemirror_mode": {
    "name": "ipython",
    "version": 3
   },
   "file_extension": ".py",
   "mimetype": "text/x-python",
   "name": "python",
   "nbconvert_exporter": "python",
   "pygments_lexer": "ipython3",
   "version": "3.13.6"
  }
 },
 "nbformat": 4,
 "nbformat_minor": 5
}
