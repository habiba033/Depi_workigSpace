{
 "cells": [
  {
   "cell_type": "code",
   "execution_count": 4,
   "id": "18985f85",
   "metadata": {},
   "outputs": [
    {
     "data": {
      "text/plain": [
       "'AI'"
      ]
     },
     "execution_count": 4,
     "metadata": {},
     "output_type": "execute_result"
    }
   ],
   "source": [
    "list1 = [1,2,3,4,5,\"depi\",\"habiba\",True,[1,2,3,\"true\",[\"ML\",\"AI\",\"DS\"]]]\n",
    "list1[8][4][1]"
   ]
  },
  {
   "cell_type": "code",
   "execution_count": 5,
   "id": "3a36fa96",
   "metadata": {},
   "outputs": [
    {
     "data": {
      "text/plain": [
       "[1,\n",
       " 2,\n",
       " 3,\n",
       " 4,\n",
       " 'amit',\n",
       " 'depi',\n",
       " 'habiba',\n",
       " True,\n",
       " [1, 2, 3, 'true', ['ML', 'AI', 'DS']]]"
      ]
     },
     "execution_count": 5,
     "metadata": {},
     "output_type": "execute_result"
    }
   ],
   "source": [
    "list1[4] = \"amit\"\n",
    "list1"
   ]
  },
  {
   "cell_type": "code",
   "execution_count": 7,
   "id": "01a437a7",
   "metadata": {},
   "outputs": [
    {
     "name": "stdout",
     "output_type": "stream",
     "text": [
      "<class 'str'>\n",
      "<class 'list'>\n"
     ]
    }
   ],
   "source": [
    "x= \"habiba\"\n",
    "print(type(x))\n",
    "y = list(x)\n",
    "print(type(y))"
   ]
  },
  {
   "cell_type": "code",
   "execution_count": 17,
   "id": "87803b18",
   "metadata": {},
   "outputs": [
    {
     "data": {
      "text/plain": [
       "[1, 2, 3, 4, 5, 6]"
      ]
     },
     "execution_count": 17,
     "metadata": {},
     "output_type": "execute_result"
    }
   ],
   "source": [
    "# Add items to lists\n",
    "#   1-append\n",
    "list2 = [1,2,3,4,5,6,\"ali\",\"habiba\",True,[7,8,9,\"amit\"]]\n",
    "list2.append(\"learning\")\n",
    "list2\n",
    "#   2- insert\n",
    "list2.insert(0,\"Depi\")\n",
    "list2\n",
    "\n",
    "#   3-extend\n",
    "x1= [1,2,3]\n",
    "x2 = [4,5,6]\n",
    "x1.extend(x2)\n",
    "x1"
   ]
  },
  {
   "cell_type": "code",
   "execution_count": null,
   "id": "b9affcfb",
   "metadata": {},
   "outputs": [
    {
     "data": {
      "text/plain": [
       "['hala', 'hany', 'haidy', 'haneen', 'habiba']"
      ]
     },
     "execution_count": 22,
     "metadata": {},
     "output_type": "execute_result"
    }
   ],
   "source": [
    "#delete items in lists\n",
    "#   1- remove()\n",
    "list3 = ['hala' , 'hany' ,'haidy' , 'heba' , 'hanan' , 'haneen' , 'habiba' , 'helal']\n",
    "list3.remove('hanan')\n",
    "list3\n",
    "\n",
    "#   2- pop()\n",
    "list3.pop(3) #returns the selected\n",
    "list3\n",
    "list3.pop() # returns the last item\n",
    "list3"
   ]
  },
  {
   "cell_type": "code",
   "execution_count": 26,
   "id": "8f3ca193",
   "metadata": {},
   "outputs": [
    {
     "data": {
      "text/plain": [
       "[]"
      ]
     },
     "execution_count": 26,
     "metadata": {},
     "output_type": "execute_result"
    }
   ],
   "source": [
    "#sorting items in list\n",
    "list4 = [2,5,8,1,0,11,863,12,3215,4,87,4,27,92,7]\n",
    "list4.sort()\n",
    "list4\n",
    "list4.reverse()\n",
    "list4\n",
    "#   --- \n",
    "list4.clear()\n",
    "list4"
   ]
  },
  {
   "cell_type": "code",
   "execution_count": 28,
   "id": "874a0114",
   "metadata": {},
   "outputs": [
    {
     "name": "stdout",
     "output_type": "stream",
     "text": [
      "<class 'tuple'>\n"
     ]
    }
   ],
   "source": [
    "#       TUPLES\n",
    "tuple1 = (1,2,3,4,5,\"depi\",\"habiba\",True,[1,2,3,\"true\",[\"ML\",\"AI\",\"DS\"]])\n",
    "print(type(tuple1))"
   ]
  },
  {
   "cell_type": "code",
   "execution_count": null,
   "id": "b063e76e",
   "metadata": {},
   "outputs": [
    {
     "data": {
      "text/plain": [
       "(1, 2, 3, 4, 5, 'depi', 'change', True, [1, 2, 3, 'true', ['ML', 'AI', 'DS']])"
      ]
     },
     "execution_count": 34,
     "metadata": {},
     "output_type": "execute_result"
    }
   ],
   "source": [
    "#       CHANGE ITEMS IN TUPLES  \n",
    "# tuple1[6] = \"change\"  -> ERROR\n",
    "x = list(tuple1)\n",
    "type(x)\n",
    "x[6] = \"change\"\n",
    "x\n",
    "y = tuple(x)\n",
    "y"
   ]
  },
  {
   "cell_type": "code",
   "execution_count": 36,
   "id": "7ab6d69b",
   "metadata": {},
   "outputs": [
    {
     "data": {
      "text/plain": [
       "{'ahmed', 'ali', 'mona', 'rana'}"
      ]
     },
     "execution_count": 36,
     "metadata": {},
     "output_type": "execute_result"
    }
   ],
   "source": [
    "list5 = ['ahmed' , 'ali' , 'mona' ,'rana','mona']\n",
    "z = set(list5)\n",
    "z"
   ]
  },
  {
   "cell_type": "code",
   "execution_count": 38,
   "id": "8cb71be0",
   "metadata": {},
   "outputs": [
    {
     "data": {
      "text/plain": [
       "{'key1': 'amit learning', 'key2': 'depi', 'key3': 'python'}"
      ]
     },
     "execution_count": 38,
     "metadata": {},
     "output_type": "execute_result"
    }
   ],
   "source": [
    "# ------    dictionary\n",
    "dict1 = {\"key1\" : 12 , \"key2\" : \"depi\" , \"key3\" : \"python\"}\n",
    "dict1[\"key1\"] = \"amit learning\"\n",
    "dict1"
   ]
  },
  {
   "cell_type": "code",
   "execution_count": 40,
   "id": "7f38206c",
   "metadata": {},
   "outputs": [
    {
     "data": {
      "text/plain": [
       "{'a': 1, 'b': 2, 'C': 3}"
      ]
     },
     "execution_count": 40,
     "metadata": {},
     "output_type": "execute_result"
    }
   ],
   "source": [
    "list6 = [(\"a\",1) , (\"b\",2) , (\"C\",3)]\n",
    "type(list6)\n",
    "w = dict(list6)\n",
    "w"
   ]
  },
  {
   "cell_type": "code",
   "execution_count": 42,
   "id": "a7a90cc9",
   "metadata": {},
   "outputs": [
    {
     "name": "stdout",
     "output_type": "stream",
     "text": [
      "sunny dayyy!\n",
      "warm weather\n"
     ]
    }
   ],
   "source": [
    "# ------ Condition -------\n",
    "#if-condition \n",
    "# short-hand if\n",
    "x=5 \n",
    "result = \"even\" if x % 2 == 0 else \"Odd\"    \n",
    "result\n",
    "\n",
    "#Nested if\n",
    "is_Sunny = True\n",
    "temp = 25\n",
    "if is_Sunny :\n",
    "    print(\"sunny dayyy!\")\n",
    "    if temp > 20 :\n",
    "        print(\"warm weather\")\n",
    "    else:\n",
    "        print(\"cool weather\")\n",
    "else :\n",
    "    print(\"not a sunny day\")"
   ]
  },
  {
   "cell_type": "code",
   "execution_count": 45,
   "id": "2fe0abed",
   "metadata": {},
   "outputs": [
    {
     "name": "stdout",
     "output_type": "stream",
     "text": [
      "F\n"
     ]
    }
   ],
   "source": [
    "# --- exercise ---    \n",
    "grade = int(input(\"enter your grade\"))\n",
    "if grade >= 90 and grade <= 100 :\n",
    "    print('A')\n",
    "elif grade >= 80 and grade <= 90 :\n",
    "    print('B')\n",
    "elif grade >= 70 and grade <= 80 :\n",
    "    print('C')\n",
    "elif grade >= 60 and grade <= 70 :\n",
    "    print('D')\n",
    "else:\n",
    "    print('F')"
   ]
  },
  {
   "cell_type": "code",
   "execution_count": 49,
   "id": "ad8b2d06",
   "metadata": {},
   "outputs": [
    {
     "name": "stdout",
     "output_type": "stream",
     "text": [
      "0\n",
      "1\n",
      "2\n",
      "\n",
      "\n",
      "0\n",
      "1\n",
      "2\n",
      "4\n",
      "\n",
      "\n",
      "0\n",
      "1\n",
      "2\n",
      "4\n"
     ]
    }
   ],
   "source": [
    "## LOOP CONTROL KEYWORDS\n",
    "#break\n",
    "for i in range(5):\n",
    "    if i == 3:\n",
    "        break\n",
    "    print(i)\n",
    "print('\\n')\n",
    "# continue\n",
    "for i in range(5):\n",
    "    if i == 3:\n",
    "        continue\n",
    "    print(i)\n",
    "print('\\n')\n",
    "#pass\n",
    "for i in range(5):\n",
    "    if i == 3:\n",
    "        pass\n",
    "    else:\n",
    "        print(i)"
   ]
  },
  {
   "cell_type": "code",
   "execution_count": null,
   "id": "502d7031",
   "metadata": {},
   "outputs": [],
   "source": [
    "# LOOOPS\n",
    "#While\n",
    "x=4\n",
    "while x>5 and x<10:\n",
    "    print(x)\n"
   ]
  },
  {
   "cell_type": "code",
   "execution_count": 5,
   "id": "f547a50e",
   "metadata": {},
   "outputs": [
    {
     "name": "stdout",
     "output_type": "stream",
     "text": [
      "hello Depi  , So glad learning here :D\n"
     ]
    }
   ],
   "source": [
    "# File Handling\n",
    "import os \n",
    "import sys\n",
    "\n",
    "f= open(r\"C:\\Users\\habib\\OneDrive\\المستندات\\DEPI_RECAP\\DEPI_RECAP\\.env\\python\\A_Introduction To Python\\S_2\\test_for_file_handling.txt\", 'r')\n",
    "print (f.read())\n",
    "f.close()"
   ]
  },
  {
   "cell_type": "code",
   "execution_count": null,
   "id": "bb92e3e7",
   "metadata": {},
   "outputs": [
    {
     "name": "stdout",
     "output_type": "stream",
     "text": [
      "hello Depi  , So glad learning here :D\n"
     ]
    }
   ],
   "source": [
    "# Better Way\n",
    "File_Path = r\"C:\\Users\\habib\\OneDrive\\المستندات\\DEPI_RECAP\\DEPI_RECAP\\.env\\python\\A_Introduction To Python\\S_2\\test_for_file_handling.txt\"\n",
    "with open(File_Path , 'r') as f:\n",
    "    reading_content = f.read()\n",
    "    print(reading_content)"
   ]
  },
  {
   "cell_type": "code",
   "execution_count": 9,
   "id": "24759fbe",
   "metadata": {},
   "outputs": [
    {
     "name": "stdout",
     "output_type": "stream",
     "text": [
      "hello Depi  , So glad learning here :D\n",
      "so today , i've learnt so many anout data types\n",
      "actually , i find file handling is soo good !!\n"
     ]
    }
   ],
   "source": [
    "#Read line by line: ##for larger files\n",
    "with open (File_Path,'r') as f:\n",
    "    for line in f:\n",
    "        print(line.strip())"
   ]
  },
  {
   "cell_type": "code",
   "execution_count": null,
   "id": "e77c1155",
   "metadata": {},
   "outputs": [
    {
     "name": "stdout",
     "output_type": "stream",
     "text": [
      "I am editing XD\n"
     ]
    }
   ],
   "source": [
    "# Write to a file :\n",
    "with open(File_Path , 'w') as f :\n",
    "    f.write (\"I am editing XD\") # it clears alllll the content and write from scratch\n",
    "with open (File_Path,'r') as f:\n",
    "    for line in f :\n",
    "        print(line.strip())"
   ]
  },
  {
   "cell_type": "code",
   "execution_count": 15,
   "id": "85d25216",
   "metadata": {},
   "outputs": [
    {
     "name": "stdout",
     "output_type": "stream",
     "text": [
      "I am editing XD\n",
      "add another line\n"
     ]
    }
   ],
   "source": [
    "# Append to a file \n",
    "with open(File_Path , 'a') as f:\n",
    "    f.write(\"\\n add another line\" )\n",
    "with open (File_Path,'r') as f:\n",
    "    for line in f :\n",
    "        print(line.strip())"
   ]
  },
  {
   "cell_type": "code",
   "execution_count": null,
   "id": "a0616147",
   "metadata": {},
   "outputs": [
    {
     "name": "stdout",
     "output_type": "stream",
     "text": [
      "File exists!\n"
     ]
    }
   ],
   "source": [
    "#Checks if file exists\n",
    "if os.path.exists(File_Path):\n",
    "    print(\"File exists!\")\n",
    "else :\n",
    "    print(\"file doesn't exsist\")"
   ]
  }
 ],
 "metadata": {
  "kernelspec": {
   "display_name": ".env",
   "language": "python",
   "name": "python3"
  },
  "language_info": {
   "codemirror_mode": {
    "name": "ipython",
    "version": 3
   },
   "file_extension": ".py",
   "mimetype": "text/x-python",
   "name": "python",
   "nbconvert_exporter": "python",
   "pygments_lexer": "ipython3",
   "version": "3.13.6"
  }
 },
 "nbformat": 4,
 "nbformat_minor": 5
}
