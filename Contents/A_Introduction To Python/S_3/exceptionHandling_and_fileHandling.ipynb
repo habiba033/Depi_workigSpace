{
 "cells": [
  {
   "cell_type": "code",
   "execution_count": 7,
   "id": "98ea7a6b",
   "metadata": {},
   "outputs": [
    {
     "name": "stdout",
     "output_type": "stream",
     "text": [
      "division by zero\n"
     ]
    }
   ],
   "source": [
    "# EXCEPTION HANDLING\n",
    "'''\n",
    "try:\n",
    "    # code that may cause error\n",
    "except SomeError:\n",
    "    # what to do if error happens'''\n",
    "    \n",
    "num = int(input(\"enter a number :\"))\n",
    "try:\n",
    "    print(int(5/num))\n",
    "except Exception as e:\n",
    "    print(e)"
   ]
  },
  {
   "cell_type": "code",
   "execution_count": 14,
   "id": "ca9c42d6",
   "metadata": {},
   "outputs": [
    {
     "name": "stdout",
     "output_type": "stream",
     "text": [
      "16\n",
      "0.5484659403284936\n",
      "habiba\n"
     ]
    }
   ],
   "source": [
    "# RANDOM LIBERARY\n",
    "import random\n",
    "n = random.random()\n",
    "def calc_degree(n):\n",
    "    return n*n\n",
    "print(calc_degree(4))\n",
    "print(calc_degree(n))\n",
    "\n",
    "list1 = [\"habiba\",\"hagar\",\"salma\",\"ahmed\"]\n",
    "print(random.choice(list1))"
   ]
  },
  {
   "cell_type": "code",
   "execution_count": null,
   "id": "f3e5034b",
   "metadata": {},
   "outputs": [
    {
     "name": "stdout",
     "output_type": "stream",
     "text": [
      "folder is already exists\n",
      "the file is removed\n"
     ]
    }
   ],
   "source": [
    "#FILE HANDLING\n",
    "import os\n",
    "fpath= r\"C:\\Users\\habib\\OneDrive\\المستندات\\Depi_workingSpace\\Depi_workigSpace\\Contents\\A_Introduction To Python\\S_3\"\n",
    "\n",
    "os.listdir(fpath) # folders in the path\n",
    "\n",
    "os.path.join(fpath,r\"C:\\Users\\habib\\OneDrive\\المستندات\\Depi_workingSpace\\Depi_workigSpace\\Contents\\A_Introduction To Python\\S_3\\text.txt\")\n",
    "\n",
    "if not os.path.exists(fpath):\n",
    "    os.makedirs(\"S_3\")\n",
    "else: \n",
    "    print(\"folder is already exists\")\n",
    "    \n",
    "if not os.path.exists(r\"C:\\Users\\habib\\OneDrive\\المستندات\\Depi_workingSpace\\Depi_workigSpace\\Contents\\A_Introduction To Python\\S_3\\remove.txt\"):\n",
    "    print(\"the file is removed\")\n",
    "else: \n",
    "    os.remove(r\"C:\\Users\\habib\\OneDrive\\المستندات\\Depi_workingSpace\\Depi_workigSpace\\Contents\\A_Introduction To Python\\S_3\\remove.txt\")\n",
    "    \n"
   ]
  },
  {
   "cell_type": "code",
   "execution_count": 23,
   "id": "8ba59a39",
   "metadata": {},
   "outputs": [],
   "source": [
    "#create a file \n",
    "with open(\"creatFile.txt\",'w') as f:\n",
    "    f.write(\"hello, world!\")\n",
    "    \n",
    "#create multi files \n",
    "for i in range(3):\n",
    "    with open(f\"file {i}.txt\",'w') as f:\n",
    "        f.write(f'this is the file n.{i}')"
   ]
  },
  {
   "cell_type": "code",
   "execution_count": 25,
   "id": "74377ad3",
   "metadata": {},
   "outputs": [],
   "source": [
    "#make folders and files inside one folder\n",
    "import os \n",
    "main_folder = r\"C:\\Users\\habib\\OneDrive\\المستندات\\Depi_workingSpace\\Depi_workigSpace\\Contents\\A_Introduction To Python\\S_3\\main_folder_exercise\"\n",
    "sub_folder = \"sub_folder\"\n",
    "sub_folder_path = os.path.join(main_folder,sub_folder)\n",
    "\n",
    "if not os.path.exists(sub_folder_path):\n",
    "    os.makedirs(sub_folder_path)\n",
    "#creating folders inside it\n",
    "for i in range(5):\n",
    "    folders = os.path.join(sub_folder_path,f\"dir_{i}\")\n",
    "    if not os.path.exists(folders):\n",
    "        os.makedirs(folders)\n",
    "        \n",
    "#creating files inside the sub folder\n",
    "for i in range(10):\n",
    "    files = os.path.join(sub_folder_path,f\"file_{i}\")\n",
    "    with open(files,'w') as f:\n",
    "        f.write(f'this is the file n.{i}')\n",
    "        "
   ]
  }
 ],
 "metadata": {
  "kernelspec": {
   "display_name": "Python 3",
   "language": "python",
   "name": "python3"
  },
  "language_info": {
   "codemirror_mode": {
    "name": "ipython",
    "version": 3
   },
   "file_extension": ".py",
   "mimetype": "text/x-python",
   "name": "python",
   "nbconvert_exporter": "python",
   "pygments_lexer": "ipython3",
   "version": "3.13.6"
  }
 },
 "nbformat": 4,
 "nbformat_minor": 5
}
