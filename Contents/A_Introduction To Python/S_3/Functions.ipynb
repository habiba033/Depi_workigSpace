{
 "cells": [
  {
   "cell_type": "code",
   "execution_count": null,
   "id": "1cfd3f47",
   "metadata": {},
   "outputs": [
    {
     "data": {
      "text/plain": [
       "('habiba', 32)"
      ]
     },
     "execution_count": 2,
     "metadata": {},
     "output_type": "execute_result"
    }
   ],
   "source": [
    "# User Defined Functions\n",
    "def std(name,age) :\n",
    "    '''\n",
    "    default parameter  -> must put a value when calling it\n",
    "    parm_1 : take the name of the user\n",
    "    type_parm_1 : str\n",
    "    parm_2 : take the user's age\n",
    "    type_parm_2 : int\n",
    "    return _ returnning the ame and age of the user\n",
    "    type_return : str , int\n",
    "    '''\n",
    "    return name , age\n",
    "\n",
    "std('habiba' , 32)"
   ]
  },
  {
   "cell_type": "code",
   "execution_count": null,
   "id": "1cbf5fda",
   "metadata": {},
   "outputs": [
    {
     "data": {
      "text/plain": [
       "3"
      ]
     },
     "execution_count": 8,
     "metadata": {},
     "output_type": "execute_result"
    }
   ],
   "source": [
    "## TYPES OF FUNCTIONS\n",
    "#           1- postional\n",
    "def std(name,age) :\n",
    "    return name , age\n",
    "\n",
    "\n",
    "#           2- default \n",
    "# default argument  -> must put a value when calling it\n",
    "def std(name = \"abc\", age =32) :\n",
    "    return name , age\n",
    "\n",
    "def std(name , age =32) : #if i want to put default for parm , just fo the last one \n",
    "    return name , age\n",
    "\n",
    "# def std(name = 'habiba' , age) : #  it gives an error\n",
    "#     return name , age\n",
    "\n",
    "\n",
    "#           3- keyword argument \n",
    "def std(name:str,age:int) :\n",
    "    return name , age\n",
    "#           4- varadic argument\n",
    "#it can accept a var num of arguments\n",
    "def info_std(*name):\n",
    "    return name\n",
    "info_std(\"habiba\",\"hagar\",\"ali\") # stores them in tuple .\n",
    "\n",
    "#           5- **kwargs argument\n",
    "#2- ** , it can accept any num of parm , but stores in dict\n",
    "def func(**name):\n",
    "    return name\n",
    "func(habiba= 22 , hagar= 20) #keys don't stores in '' or \"\"\n",
    "\n",
    "#               6- LAMBDA FUNC\n",
    "#can't take any nums or arguments , no name \n",
    "lambda x : x+20\n",
    "def sum(x):\n",
    "    return x+20\n",
    "sum(10)\n",
    "# lambda = sum\n",
    "\n",
    "sum1 = lambda x,y : x+y #just putting a name for it\n",
    "sum1(1,2)"
   ]
  },
  {
   "cell_type": "code",
   "execution_count": null,
   "id": "661f3cf7",
   "metadata": {},
   "outputs": [],
   "source": []
  }
 ],
 "metadata": {
  "kernelspec": {
   "display_name": "Python 3",
   "language": "python",
   "name": "python3"
  },
  "language_info": {
   "codemirror_mode": {
    "name": "ipython",
    "version": 3
   },
   "file_extension": ".py",
   "mimetype": "text/x-python",
   "name": "python",
   "nbconvert_exporter": "python",
   "pygments_lexer": "ipython3",
   "version": "3.13.6"
  }
 },
 "nbformat": 4,
 "nbformat_minor": 5
}
