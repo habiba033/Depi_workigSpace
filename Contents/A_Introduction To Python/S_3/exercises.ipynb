{
 "cells": [
  {
   "cell_type": "code",
   "execution_count": null,
   "id": "c6db73d9",
   "metadata": {},
   "outputs": [
    {
     "name": "stdout",
     "output_type": "stream",
     "text": [
      " my name habiba ,my age 18 , my skills no skills provided,some favorite things no details\n",
      " my name habiba ,my age 22 , my skills python, sql,some favorite things no details\n"
     ]
    },
    {
     "data": {
      "text/plain": [
       "100"
      ]
     },
     "metadata": {},
     "output_type": "display_data"
    }
   ],
   "source": [
    "# # exercise \n",
    "'''\n",
    "Create a function called student_info that:\n",
    "Takes a positional argument name.\n",
    "Takes a default parameter age=18.\n",
    "Accepts any number of extra skills using *skills.\n",
    "Accepts any number of additional details using **details.\n",
    "Returns a formatted string showing all the information.\n",
    "Create a lambda function to calculate the square of the student’s age.\n",
    "Call the function in different ways:\n",
    "Once with only the name (so age uses its default).\n",
    "Once with name and a custom age.\n",
    "Once with name, age, multiple skills, and multiple details.'''\n",
    "\n",
    "def student_info(name , age =18 , *skills , **details ):\n",
    "    adv_skills = \", \".join(skills) if skills else \"no skills provided\"\n",
    "    adv_det = \", \".join(f\"{k}:{v}\"for k ,v in details.items) if details else \"no details\"\n",
    "    return f\" my name {name} ,my age {age} , my skills {adv_skills},some favorite things {adv_det}\"\n",
    "\n",
    "print(student_info('habiba'))\n",
    "print(student_info('habiba',22,\"python\",\"sql\"))\n",
    "\n",
    "stdAge = lambda x : x*x\n",
    "stdAge(10)"
   ]
  },
  {
   "cell_type": "code",
   "execution_count": null,
   "id": "531f340d",
   "metadata": {},
   "outputs": [
    {
     "name": "stdout",
     "output_type": "stream",
     "text": [
      " the customer's name is sammy\n",
      " list of items ordered : no items :(\n",
      " discount value = 0\n",
      " extra details : no details provided\n",
      " the final price is : 1800.0\n"
     ]
    }
   ],
   "source": [
    "#Exercise 2 \n",
    "'''\n",
    "You are building a shopping system.\n",
    "Create a function called order_summary that:\n",
    "Takes a positional argument customer_name.\n",
    "Has a default parameter discount=0.\n",
    "Accepts any number of items (using *items).\n",
    "Accepts extra details about the order (using **details).\n",
    "Returns a formatted string showing:\n",
    "Customer name\n",
    "List of items ordered\n",
    "Discount value\n",
    "Extra details (like payment method, city, etc.)\n",
    "-Create a lambda function that calculates the final price after discount:'''\n",
    "\n",
    "\n",
    "def order_summary(cust_name , discount = 0 , *items , **details):\n",
    "    no_items = \", \".join(items) if items else 'no items :('\n",
    "    no_det = \", \".join(f\"{k},{v}\"for k,v in details.items) if details else \"no details provided\"\n",
    "    return f\" the customer's name is {cust_name}\\n list of items ordered : {no_items}\\n discount value = {discount}\\n extra details : {no_det}\"\n",
    "print(order_summary('sammy'))\n",
    "\n",
    "final_price =  lambda total , discount : total - (total*discount/100)\n",
    "print(f\" the final price is : {final_price(2000,10)}\")"
   ]
  },
  {
   "cell_type": "code",
   "execution_count": 4,
   "id": "577ac188",
   "metadata": {},
   "outputs": [
    {
     "name": "stdout",
     "output_type": "stream",
     "text": [
      "the factorial number for 4 = 24\n"
     ]
    }
   ],
   "source": [
    "#exercise 3\n",
    "'''\n",
    "Factorial exercise\n",
    "'''\n",
    "n=int(input(\"enter a number : \"))\n",
    "def factorial(n):\n",
    "    if n == 0:\n",
    "        return 0\n",
    "    if n == 1:\n",
    "        return 1\n",
    "    return n *factorial(n-1)\n",
    "print(f\"the factorial number for {n} = {factorial(n)}\")"
   ]
  },
  {
   "cell_type": "code",
   "execution_count": null,
   "id": "73213770",
   "metadata": {},
   "outputs": [
    {
     "name": "stdout",
     "output_type": "stream",
     "text": [
      "Negative numbers not allowed\n"
     ]
    }
   ],
   "source": [
    "# exercise 4 \n",
    "'''\n",
    "Ask the user to enter a number.\n",
    "If the input is not a valid number → print \"Invalid input\".\n",
    "If the number is negative → print \"Negative numbers not allowed\".\n",
    "If the number is valid and non-negative → calculate and print the factorial of that number.\n",
    "'''\n",
    "\n",
    "while True:\n",
    "    try:\n",
    "        num = int(input(\"enter a number : \"))\n",
    "        if num < 0 :\n",
    "            print(\"Negative numbers not allowed\")\n",
    "            break\n",
    "        def factorial(num):\n",
    "            if num == 0:\n",
    "                return 1\n",
    "            if num == 1:\n",
    "                return 1\n",
    "            return num*factorial(num-1)\n",
    "        print(factorial(num))\n",
    "        break\n",
    "    except :\n",
    "        print(\"Invalid input\")\n",
    "        break\n"
   ]
  },
  {
   "cell_type": "code",
   "execution_count": 27,
   "id": "5eb12283",
   "metadata": {},
   "outputs": [
    {
     "name": "stdout",
     "output_type": "stream",
     "text": [
      "Password : Y*-pezH`eF\n",
      "reading password from file : Y*-pezH`eF\n"
     ]
    }
   ],
   "source": [
    "# exercise 5\n",
    "'''generate a random password using the random and string libraries.\n",
    "Save the generated password into a file called password.txt.\n",
    "Open the file again and read the password from it, then print it.'''\n",
    "import random\n",
    "import string\n",
    "def generated_password(length):\n",
    "    chars = string.ascii_letters + string.digits + string.punctuation\n",
    "    # chars = \"abcdefghijklmnopqrstuvwxyz1234567890!@#$%^&*()_+?><~`\"\n",
    "    password = \"\"\n",
    "    \n",
    "    for _ in range(length):\n",
    "        password += random.choice(chars)\n",
    "    \n",
    "    return password\n",
    "\n",
    "pass_W = generated_password(10)\n",
    "with open(\"password.txt\" , \"w\") as f:\n",
    "    f.write(pass_W)\n",
    "\n",
    "with open(\"password.txt\",\"r\") as f:\n",
    "    R_pass = f.read()\n",
    "    \n",
    "print(f\"Password : {pass_W}\")\n",
    "print(f\"reading password from file : {R_pass}\")\n"
   ]
  }
 ],
 "metadata": {
  "kernelspec": {
   "display_name": "Python 3",
   "language": "python",
   "name": "python3"
  },
  "language_info": {
   "codemirror_mode": {
    "name": "ipython",
    "version": 3
   },
   "file_extension": ".py",
   "mimetype": "text/x-python",
   "name": "python",
   "nbconvert_exporter": "python",
   "pygments_lexer": "ipython3",
   "version": "3.13.6"
  }
 },
 "nbformat": 4,
 "nbformat_minor": 5
}
