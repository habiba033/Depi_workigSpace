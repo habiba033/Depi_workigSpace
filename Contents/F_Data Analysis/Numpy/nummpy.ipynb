{
 "cells": [
  {
   "cell_type": "code",
   "execution_count": 1,
   "id": "e9f5c011",
   "metadata": {},
   "outputs": [],
   "source": [
    "import numpy as np\n",
    "import pandas as pd"
   ]
  },
  {
   "cell_type": "code",
   "execution_count": 7,
   "id": "e52d2294",
   "metadata": {},
   "outputs": [
    {
     "name": "stdout",
     "output_type": "stream",
     "text": [
      "5 \n",
      "\n",
      "[1 2 3] \n",
      "\n",
      "[[1 2 3]\n",
      " [4 5 6]\n",
      " [7 8 9]] \n",
      "\n"
     ]
    }
   ],
   "source": [
    "s = np.array(5)\n",
    "print(s,\"\\n\")\n",
    "\n",
    "v = np.array([1,2,3])\n",
    "print(v,\"\\n\")\n",
    "\n",
    "m = np.array([[1,2,3],\n",
    "             [4,5,6],\n",
    "             [7,8,9]])\n",
    "print(m,\"\\n\")"
   ]
  },
  {
   "cell_type": "code",
   "execution_count": 8,
   "id": "e4559df6",
   "metadata": {},
   "outputs": [
    {
     "name": "stdout",
     "output_type": "stream",
     "text": [
      "0 \n",
      "\n",
      "1 \n",
      "\n",
      "2 \n",
      "\n"
     ]
    }
   ],
   "source": [
    "s = np.array(5)\n",
    "print(s.ndim,\"\\n\")\n",
    "\n",
    "v = np.array([1,2,3])\n",
    "print(v.ndim,\"\\n\")\n",
    "\n",
    "m = np.array([[1,2,3],\n",
    "             [4,5,6],\n",
    "             [7,8,9]])\n",
    "print(m.ndim,\"\\n\")"
   ]
  },
  {
   "cell_type": "code",
   "execution_count": 9,
   "id": "55067e18",
   "metadata": {},
   "outputs": [
    {
     "name": "stdout",
     "output_type": "stream",
     "text": [
      "() \n",
      "\n",
      "(3,) \n",
      "\n",
      "(3, 3) \n",
      "\n"
     ]
    }
   ],
   "source": [
    "s = np.array(5)\n",
    "print(s.shape,\"\\n\")\n",
    "\n",
    "v = np.array([1,2,3])\n",
    "print(v.shape,\"\\n\")\n",
    "\n",
    "m = np.array([[1,2,3],\n",
    "             [4,5,6],\n",
    "             [7,8,9]])\n",
    "print(m.shape,\"\\n\")"
   ]
  },
  {
   "cell_type": "code",
   "execution_count": 28,
   "id": "88c37707",
   "metadata": {},
   "outputs": [
    {
     "data": {
      "text/plain": [
       "(1, 4)"
      ]
     },
     "execution_count": 28,
     "metadata": {},
     "output_type": "execute_result"
    }
   ],
   "source": [
    "vec_1 = np.array([[1,2,3,4]])\n",
    "vec_1 .shape"
   ]
  },
  {
   "cell_type": "code",
   "execution_count": 29,
   "id": "8fa55380",
   "metadata": {},
   "outputs": [
    {
     "data": {
      "text/plain": [
       "array([[1],\n",
       "       [2],\n",
       "       [3],\n",
       "       [4]])"
      ]
     },
     "execution_count": 29,
     "metadata": {},
     "output_type": "execute_result"
    }
   ],
   "source": [
    "w= vec_1.reshape((4,1))\n",
    "w"
   ]
  },
  {
   "cell_type": "code",
   "execution_count": 31,
   "id": "7841b34f",
   "metadata": {},
   "outputs": [
    {
     "data": {
      "text/plain": [
       "array([[[1, 2, 3, 4]]])"
      ]
     },
     "execution_count": 31,
     "metadata": {},
     "output_type": "execute_result"
    }
   ],
   "source": [
    "vec_1[:,None]"
   ]
  },
  {
   "cell_type": "code",
   "execution_count": 32,
   "id": "dd883d85",
   "metadata": {},
   "outputs": [
    {
     "data": {
      "text/plain": [
       "dtype('int64')"
      ]
     },
     "execution_count": 32,
     "metadata": {},
     "output_type": "execute_result"
    }
   ],
   "source": [
    "mat = np.array([[1,2,3],\n",
    "                [4,5,6],\n",
    "                [7,8,9]])\n",
    "mat.dtype"
   ]
  },
  {
   "cell_type": "code",
   "execution_count": 33,
   "id": "7d343f4d",
   "metadata": {},
   "outputs": [
    {
     "data": {
      "text/plain": [
       "dtype('float64')"
      ]
     },
     "execution_count": 33,
     "metadata": {},
     "output_type": "execute_result"
    }
   ],
   "source": [
    "mat = np.array([[0.1,2,3],\n",
    "                [4,5,6],\n",
    "                [7,8,9]])\n",
    "mat.dtype"
   ]
  },
  {
   "cell_type": "code",
   "execution_count": 34,
   "id": "c1bedf00",
   "metadata": {},
   "outputs": [
    {
     "data": {
      "text/plain": [
       "dtype('float64')"
      ]
     },
     "execution_count": 34,
     "metadata": {},
     "output_type": "execute_result"
    }
   ],
   "source": [
    "mat = np.array([[0.1,False,3],\n",
    "                [4,5,6],\n",
    "                [7,8,9]])\n",
    "mat.dtype"
   ]
  },
  {
   "cell_type": "code",
   "execution_count": null,
   "id": "c42b8ac6",
   "metadata": {},
   "outputs": [
    {
     "data": {
      "text/plain": [
       "array([[0.1, 0. , 3. ],\n",
       "       [4. , 5. , 1. ],\n",
       "       [7. , 8. , 9. ]])"
      ]
     },
     "execution_count": 35,
     "metadata": {},
     "output_type": "execute_result"
    }
   ],
   "source": [
    "mat = np.array([[0.1,False,3],\n",
    "                [4,5,True],\n",
    "                [7,8,9]])\n",
    "mat ## => bool dtype not a periority "
   ]
  },
  {
   "cell_type": "code",
   "execution_count": 38,
   "id": "ca1c9229",
   "metadata": {},
   "outputs": [
    {
     "name": "stdout",
     "output_type": "stream",
     "text": [
      "object\n"
     ]
    },
    {
     "data": {
      "text/plain": [
       "array([[<__main__.c object at 0x00000274BFD3D940>, False, 3],\n",
       "       [4, 5, True],\n",
       "       [7, 8, 9]], dtype=object)"
      ]
     },
     "execution_count": 38,
     "metadata": {},
     "output_type": "execute_result"
    }
   ],
   "source": [
    "class c:\n",
    "    x=3\n",
    "o=c()\n",
    "mat = np.array([[o,False,3],\n",
    "                [4,5,True],\n",
    "                [7,8,9]])\n",
    "print(mat.dtype)\n",
    "mat"
   ]
  },
  {
   "cell_type": "code",
   "execution_count": null,
   "id": "f8540528",
   "metadata": {},
   "outputs": [],
   "source": [
    "'''\n",
    "so the periority in dtype :\n",
    "object , string , float , int , bool\n",
    "'''"
   ]
  },
  {
   "cell_type": "code",
   "execution_count": 39,
   "id": "9f69b6e4",
   "metadata": {},
   "outputs": [],
   "source": [
    "m1 = np.ones((3,4))\n",
    "m2 = np.zeros((5,3))"
   ]
  },
  {
   "cell_type": "code",
   "execution_count": 41,
   "id": "e8c48dff",
   "metadata": {},
   "outputs": [],
   "source": [
    "np.savez('test.npz', ones_mat = m1 , zeros_mat = m2)"
   ]
  },
  {
   "cell_type": "code",
   "execution_count": 42,
   "id": "d943c2b3",
   "metadata": {},
   "outputs": [
    {
     "data": {
      "text/plain": [
       "array([[1., 1., 1., 1.],\n",
       "       [1., 1., 1., 1.],\n",
       "       [1., 1., 1., 1.]])"
      ]
     },
     "execution_count": 42,
     "metadata": {},
     "output_type": "execute_result"
    }
   ],
   "source": [
    "with np.load('test.npz')as file:\n",
    "    mat1 = file['ones_mat']\n",
    "    mat2 = file['zeros_mat']\n",
    "    \n",
    "mat1"
   ]
  },
  {
   "cell_type": "code",
   "execution_count": null,
   "id": "7a371e33",
   "metadata": {},
   "outputs": [],
   "source": []
  }
 ],
 "metadata": {
  "kernelspec": {
   "display_name": "Python 3",
   "language": "python",
   "name": "python3"
  },
  "language_info": {
   "codemirror_mode": {
    "name": "ipython",
    "version": 3
   },
   "file_extension": ".py",
   "mimetype": "text/x-python",
   "name": "python",
   "nbconvert_exporter": "python",
   "pygments_lexer": "ipython3",
   "version": "3.13.6"
  }
 },
 "nbformat": 4,
 "nbformat_minor": 5
}
