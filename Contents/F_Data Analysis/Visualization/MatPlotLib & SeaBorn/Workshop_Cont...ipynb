{
 "cells": [
  {
   "cell_type": "code",
   "execution_count": 1,
   "id": "c5b99d3e",
   "metadata": {},
   "outputs": [],
   "source": [
    "import matplotlib.pyplot as plt\n",
    "import seaborn as sns\n",
    "import pandas as pd\n",
    "import numpy as np\n",
    "import warnings \n",
    "warnings.filterwarnings('ignore')"
   ]
  },
  {
   "cell_type": "code",
   "execution_count": 2,
   "id": "99ef15c4",
   "metadata": {},
   "outputs": [
    {
     "data": {
      "text/html": [
       "<div>\n",
       "<style scoped>\n",
       "    .dataframe tbody tr th:only-of-type {\n",
       "        vertical-align: middle;\n",
       "    }\n",
       "\n",
       "    .dataframe tbody tr th {\n",
       "        vertical-align: top;\n",
       "    }\n",
       "\n",
       "    .dataframe thead th {\n",
       "        text-align: right;\n",
       "    }\n",
       "</style>\n",
       "<table border=\"1\" class=\"dataframe\">\n",
       "  <thead>\n",
       "    <tr style=\"text-align: right;\">\n",
       "      <th></th>\n",
       "      <th>Survived</th>\n",
       "      <th>Pclass</th>\n",
       "      <th>Sex</th>\n",
       "      <th>Age</th>\n",
       "      <th>SibSp</th>\n",
       "      <th>Parch</th>\n",
       "      <th>Fare</th>\n",
       "      <th>Embarked</th>\n",
       "    </tr>\n",
       "  </thead>\n",
       "  <tbody>\n",
       "    <tr>\n",
       "      <th>Num_Nulls</th>\n",
       "      <td>0</td>\n",
       "      <td>0</td>\n",
       "      <td>0</td>\n",
       "      <td>0</td>\n",
       "      <td>0</td>\n",
       "      <td>0</td>\n",
       "      <td>0</td>\n",
       "      <td>0</td>\n",
       "    </tr>\n",
       "    <tr>\n",
       "      <th>Ratio %</th>\n",
       "      <td>0.0%</td>\n",
       "      <td>0.0%</td>\n",
       "      <td>0.0%</td>\n",
       "      <td>0.0%</td>\n",
       "      <td>0.0%</td>\n",
       "      <td>0.0%</td>\n",
       "      <td>0.0%</td>\n",
       "      <td>0.0%</td>\n",
       "    </tr>\n",
       "  </tbody>\n",
       "</table>\n",
       "</div>"
      ],
      "text/plain": [
       "          Survived Pclass   Sex   Age SibSp Parch  Fare Embarked\n",
       "Num_Nulls        0      0     0     0     0     0     0        0\n",
       "Ratio %       0.0%   0.0%  0.0%  0.0%  0.0%  0.0%  0.0%     0.0%"
      ]
     },
     "execution_count": 2,
     "metadata": {},
     "output_type": "execute_result"
    }
   ],
   "source": [
    "path = r\"C:\\Users\\habib\\OneDrive\\المستندات\\Depi_workingSpace\\Depi_workigSpace\\Contents\\F_Data Analysis\\Visualization\\MatPlotLib & SeaBorn\\train.csv\"\n",
    "df =pd.read_csv(path)\n",
    "\n",
    "dtypess = df.dtypes\n",
    "nuniquess = df.nunique()\n",
    "pd.DataFrame({\"Data Types \":dtypess , \"Num_Unique \":nuniquess}).T\n",
    "\n",
    "df.drop(['PassengerId','Name','Ticket'],axis=1,inplace=True)\n",
    "\n",
    "cols = ['Survived','Pclass','Parch','Sex' , 'Embarked','SibSp']\n",
    "df[cols] = df[cols].astype('category')\n",
    "pd.DataFrame({\"Data Types \":dtypess , \"Num_Unique \":nuniquess}).T\n",
    "\n",
    "df1 = df.dropna(subset=['Embarked'],inplace=True)\n",
    "df2 = df.drop('Cabin',axis=1,inplace=True)\n",
    "\n",
    "median = df['Age'].median()\n",
    "df['Age'].fillna(median,inplace=True)\n",
    "\n",
    "null = df.isnull().sum()\n",
    "ratio = round(((null/df.shape[0])*100),2).astype(str)+\"%\"\n",
    "# null / number of rows \n",
    "\n",
    "pd.DataFrame({ \"Num_Nulls\":null , \"Ratio %\" : ratio}).T"
   ]
  },
  {
   "cell_type": "code",
   "execution_count": 3,
   "id": "7a3477ac",
   "metadata": {},
   "outputs": [
    {
     "data": {
      "text/plain": [
       "Index(['Age', 'Fare'], dtype='object')"
      ]
     },
     "execution_count": 3,
     "metadata": {},
     "output_type": "execute_result"
    }
   ],
   "source": [
    "num_cols = df.select_dtypes('number').columns\n",
    "num_cols"
   ]
  },
  {
   "cell_type": "code",
   "execution_count": 4,
   "id": "3156f5a7",
   "metadata": {},
   "outputs": [
    {
     "data": {
      "image/png": "[encoded data removed]",
      "text/plain": [
       "<Figure size 800x100 with 2 Axes>"
      ]
     },
     "metadata": {},
     "output_type": "display_data"
    }
   ],
   "source": [
    "plt.figure(figsize=(8,1))\n",
    "for i ,col in enumerate(num_cols):\n",
    "    plt.subplot(1,2,i+1)\n",
    "    sns.boxplot(df[col],orient='h')\n",
    "    plt.title(f\"{col} boxplot\")"
   ]
  },
  {
   "cell_type": "code",
   "execution_count": 5,
   "id": "667626d4",
   "metadata": {},
   "outputs": [
    {
     "data": {
      "image/png": "[encoded data removed]",
      "text/plain": [
       "<Figure size 800x100 with 2 Axes>"
      ]
     },
     "metadata": {},
     "output_type": "display_data"
    }
   ],
   "source": [
    "for col in num_cols :\n",
    "    Q1 = df[col].quantile(0.25)\n",
    "    Q3 = df[col].quantile(0.75)\n",
    "    IQR = Q3-Q1\n",
    "    \n",
    "    Lower_fence = Q1 - 1.5*IQR\n",
    "    Upper_fence = Q3 + 1.5*IQR\n",
    "    \n",
    "    Lower_outliers = df[df[col] < Lower_fence][col].values\n",
    "    Upper_outliers = df[df[col] > Upper_fence][col].values\n",
    "\n",
    "    df[col].replace(Lower_outliers , Lower_fence,inplace=True)\n",
    "    df[col].replace(Upper_outliers , Upper_fence,inplace=True)\n",
    "    \n",
    "\n",
    "plt.figure(figsize=(8,1))\n",
    "for i ,col in enumerate(num_cols):\n",
    "    plt.subplot(1,2,i+1)\n",
    "    sns.boxplot(df[col],orient='h')\n",
    "    plt.title(f\"{col} boxplot\")"
   ]
  },
  {
   "cell_type": "code",
   "execution_count": null,
   "id": "3e9648ea",
   "metadata": {},
   "outputs": [],
   "source": []
  },
  {
   "cell_type": "code",
   "execution_count": null,
   "id": "9742ed8f",
   "metadata": {},
   "outputs": [],
   "source": []
  },
  {
   "cell_type": "code",
   "execution_count": null,
   "id": "95ce07c5",
   "metadata": {},
   "outputs": [],
   "source": []
  }
 ],
 "metadata": {
  "kernelspec": {
   "display_name": "Python 3",
   "language": "python",
   "name": "python3"
  },
  "language_info": {
   "codemirror_mode": {
    "name": "ipython",
    "version": 3
   },
   "file_extension": ".py",
   "mimetype": "text/x-python",
   "name": "python",
   "nbconvert_exporter": "python",
   "pygments_lexer": "ipython3",
   "version": "3.13.6"
  }
 },
 "nbformat": 4,
 "nbformat_minor": 5
}
