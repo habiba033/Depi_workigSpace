{
 "cells": [
  {
   "cell_type": "markdown",
   "id": "433ece34",
   "metadata": {},
   "source": [
    "## Assignment: Student Management Database in PostgreSQL\n",
    "Objective\n",
    "In this exercise, you will connect to a PostgreSQL database you created, build the tables for a simple student management system, insert sample data, and perform different queries — including JOIN operations.\n",
    "\n",
    "Part 1: Database Connection\n",
    "Create a new database in PostgreSQL named student_management.\n",
    "\n",
    "Write Python code (using psycopg2) to connect to your student_management database.\n",
    "\n",
    "Example:"
   ]
  },
  {
   "cell_type": "code",
   "execution_count": 7,
   "id": "9d51386e",
   "metadata": {},
   "outputs": [
    {
     "name": "stdout",
     "output_type": "stream",
     "text": [
      "Database connected successfully.\n"
     ]
    }
   ],
   "source": [
    "import psycopg2\n",
    "\n",
    "# Connect to PostgreSQL\n",
    "conn = psycopg2.connect(\n",
    "    dbname=\"student_management\",\n",
    "    user=\"postgres\",\n",
    "    password=\"habiba2004#\",\n",
    "    host=\"localhost\",\n",
    "    port=\"5433\"\n",
    ")\n",
    "\n",
    "cur = conn.cursor()\n",
    "print(\"Database connected successfully.\")\n"
   ]
  },
  {
   "cell_type": "markdown",
   "id": "750c6f37",
   "metadata": {},
   "source": [
    "## Part 2: Create Tables\n",
    "\n",
    "Create the following tables using SQL:\n",
    "\n",
    "### `students`\n",
    "- `student_id` (SERIAL PRIMARY KEY)  \n",
    "- `name` (VARCHAR)  \n",
    "- `email` (VARCHAR)  \n",
    "- `phone` (VARCHAR)  \n",
    "\n",
    "### `courses`\n",
    "- `course_id` (SERIAL PRIMARY KEY)  \n",
    "- `course_name` (VARCHAR)  \n",
    "- `credits` (INT)  \n",
    "\n",
    "### `enrollments`\n",
    "- `enrollment_id` (SERIAL PRIMARY KEY)  \n",
    "- `student_id` (INT REFERENCES students(student_id))  \n",
    "- `course_id` (INT REFERENCES courses(course_id))  \n",
    "- `grade` (VARCHAR)  \n"
   ]
  },
  {
   "cell_type": "code",
   "execution_count": null,
   "id": "40f07cf7",
   "metadata": {},
   "outputs": [
    {
     "name": "stdout",
     "output_type": "stream",
     "text": [
      "enrollments table created\n"
     ]
    }
   ],
   "source": [
    "# CREATE STUDENTS TABLE\n",
    "cur.execute(\"CREATE TABLE students (student_id SERIAL PRIMARY KEY , name VARCHAR(20) , email VARCHAR(50) , phone VARCHAR(50)) \")\n",
    "conn.commit()\n",
    "print(\"students table created\")\n",
    "\n",
    "\n",
    "# CREATE COURSES TABLE\n",
    "cur.execute(\"CREATE TABLE courses (course_id SERIAL PRIMARY KEY , course_name VARCHAR(20) , credits INT) \")\n",
    "conn.commit()\n",
    "print(\"courses table created\")\n",
    "\n",
    "# CREATE ENROLLMENTS TABLE\n",
    "cur.execute(\"CREATE TABLE enrollments (enrollment_id SERIAL PRIMARY KEY ,student_id INT REFERENCES students(student_id) , course_id INT REFERENCES courses(course_id) , grade VARCHAR(20)) \")\n",
    "conn.commit()\n",
    "print(\"enrollments table created\")\n"
   ]
  },
  {
   "cell_type": "markdown",
   "id": "89d3f535",
   "metadata": {},
   "source": [
    "## Part 3: Insert Sample Data\n",
    "Insert at least 3 records into each table.\n",
    "\n",
    "Example:"
   ]
  },
  {
   "cell_type": "code",
   "execution_count": 15,
   "id": "adec644a",
   "metadata": {},
   "outputs": [
    {
     "name": "stdout",
     "output_type": "stream",
     "text": [
      "Data inserted into students table.\n",
      "Data inserted into courses table.\n",
      "Data inserted into enrollments table.\n"
     ]
    }
   ],
   "source": [
    "sql = \"INSERT INTO students (name, email, phone) VALUES (%s,%s,%s)\"\n",
    "data = [\n",
    "    ('Alice Johnson', 'alice@example.com', '1234567890'),\n",
    "    ('Bob Smith', 'bob@example.com', '9876543210'),\n",
    "    ('Charlie Brown', 'charlie@example.com', '5555555555')\n",
    "]\n",
    "cur.executemany(sql, data)\n",
    "conn.commit()\n",
    "print(\"Data inserted into students table.\")\n",
    "\n",
    "sql2 =\"INSERT INTO courses (course_name, credits) VALUES(%s,%s)\"\n",
    "data2 =[\n",
    "    ('Mathematics', 3),\n",
    "    ('Computer Science', 4),\n",
    "    ('History', 2)]\n",
    "cur.executemany(sql2, data2)\n",
    "conn.commit()\n",
    "print(\"Data inserted into courses table.\")\n",
    "\n",
    "sql3 = \"INSERT INTO enrollments (student_id, course_id, grade) VALUES (%s,%s,%s)\"\n",
    "data3 = [\n",
    "    (1, 1, 'A'),\n",
    "    (1, 2, 'B'),\n",
    "    (2, 3, 'A'),\n",
    "    (3, 2, 'C')]\n",
    "cur.executemany(sql3, data3)\n",
    "conn.commit()\n",
    "print(\"Data inserted into enrollments table.\")"
   ]
  },
  {
   "cell_type": "markdown",
   "id": "15245cce",
   "metadata": {},
   "source": [
    "## Part 4: Query Tasks\n",
    "\n",
    "Write SQL queries to answer the following questions:\n",
    "\n",
    "1. **List all students.**\n",
    "   ```sql\n",
    "   SELECT * FROM students;\n"
   ]
  },
  {
   "cell_type": "markdown",
   "id": "523709d8",
   "metadata": {},
   "source": [
    "2. Find students who have a grade of 'A'.\n",
    "Hint: Use a WHERE clause in the enrollments table to filter by grade.\n",
    "\n",
    "SELECT * \n",
    "FROM enrollments\n",
    "WHERE grade = 'A';\n"
   ]
  },
  {
   "cell_type": "code",
   "execution_count": 16,
   "id": "af256c39",
   "metadata": {},
   "outputs": [
    {
     "data": {
      "text/plain": [
       "[(1, 1, 1, 'A'), (3, 2, 3, 'A')]"
      ]
     },
     "execution_count": 16,
     "metadata": {},
     "output_type": "execute_result"
    }
   ],
   "source": [
    "cur.execute(\"SELECT * FROM enrollments WHERE grade = 'A'\")\n",
    "cur.fetchall()"
   ]
  },
  {
   "cell_type": "markdown",
   "id": "f1764d0a",
   "metadata": {},
   "source": [
    "3. Show all courses with their credit hours.\n",
    "Hint: Select course name and credit hours from the courses table.\n",
    "\n",
    "\n",
    "SELECT course_name, credit_hours \n",
    "FROM courses;"
   ]
  },
  {
   "cell_type": "code",
   "execution_count": 20,
   "id": "47b586c8",
   "metadata": {},
   "outputs": [
    {
     "data": {
      "text/plain": [
       "[('Mathematics', 3), ('Computer Science', 4), ('History', 2)]"
      ]
     },
     "execution_count": 20,
     "metadata": {},
     "output_type": "execute_result"
    }
   ],
   "source": [
    "cur.execute(\"SELECT course_name,credits FROM courses\")\n",
    "cur.fetchall()"
   ]
  },
  {
   "cell_type": "markdown",
   "id": "38906fa5",
   "metadata": {},
   "source": [
    "4. Find the courses a specific student (e.g., 'Alice Johnson') is enrolled in.\n",
    "Hint: Use JOIN between students, enrollments, and courses.\n",
    "\n",
    "\n",
    "SELECT s.name, c.course_name\n",
    "FROM students s\n",
    "JOIN enrollments e ON s.student_id = e.student_id\n",
    "JOIN courses c ON e.course_id = c.course_id\n",
    "WHERE s.name = 'Alice Johnson';"
   ]
  },
  {
   "cell_type": "code",
   "execution_count": 21,
   "id": "202d65a9",
   "metadata": {},
   "outputs": [
    {
     "data": {
      "text/plain": [
       "[('Alice Johnson', 'Mathematics'), ('Alice Johnson', 'Computer Science')]"
      ]
     },
     "execution_count": 21,
     "metadata": {},
     "output_type": "execute_result"
    }
   ],
   "source": [
    "cur.execute(\"SELECT s.name, c.course_name FROM students s JOIN enrollments e ON s.student_id = e.student_id JOIN courseS c ON e.course_id = c.course_id WHERE s.name = 'Alice Johnson'\")\n",
    "cur.fetchall()"
   ]
  },
  {
   "cell_type": "markdown",
   "id": "bf0fee50",
   "metadata": {},
   "source": [
    "5. List each student along with the number of courses they are enrolled in.\n",
    "Hint: Use JOIN, GROUP BY, and COUNT().\n",
    "\n",
    "\n",
    "SELECT s.name, COUNT(e.course_id) AS total_courses\n",
    "FROM students s\n",
    "JOIN enrollments e ON s.student_id = e.student_id\n",
    "GROUP BY s.name;"
   ]
  },
  {
   "cell_type": "code",
   "execution_count": 25,
   "id": "b8c1ef1d",
   "metadata": {},
   "outputs": [
    {
     "data": {
      "text/plain": [
       "[(1, 'Alice Johnson', 2), (2, 'Bob Smith', 1), (3, 'Charlie Brown', 1)]"
      ]
     },
     "execution_count": 25,
     "metadata": {},
     "output_type": "execute_result"
    }
   ],
   "source": [
    "cur.execute(\"SELECT s.student_id, s.name, COUNT(e.course_id) AS total_courses FROM students s LEFT JOIN enrollments e ON s.student_id = e.student_id GROUP BY s.student_id, s.name ORDER BY total_courses DESC\")\n",
    "cur.fetchall()"
   ]
  },
  {
   "cell_type": "markdown",
   "id": "5cb8d774",
   "metadata": {},
   "source": [
    "6. Find students who are not enrolled in any course.\n",
    "Hint: Use LEFT JOIN and check for NULL in the enrollments table.\n",
    "\n",
    "\n",
    "SELECT s.name\n",
    "FROM students s\n",
    "LEFT JOIN enrollments e ON s.student_id = e.student_id\n",
    "WHERE e.course_id IS NULL;\n"
   ]
  },
  {
   "cell_type": "code",
   "execution_count": 28,
   "id": "1391d701",
   "metadata": {},
   "outputs": [
    {
     "data": {
      "text/plain": [
       "[]"
      ]
     },
     "execution_count": 28,
     "metadata": {},
     "output_type": "execute_result"
    }
   ],
   "source": [
    "cur.execute(\"SELECT  s.name FROM students s LEFT JOIN enrollments e ON s.student_id = e.student_id WHERE e.course_id IS NULL\")\n",
    "cur.fetchall()"
   ]
  },
  {
   "cell_type": "markdown",
   "id": "4ce81f53",
   "metadata": {},
   "source": [
    "7. Show all enrollments sorted by grade (highest to lowest).\n",
    "Hint: Use ORDER BY with DESC.\n",
    "\n",
    "\n",
    "SELECT * \n",
    "FROM enrollments\n",
    "ORDER BY grade DESC;\n",
    "\n"
   ]
  },
  {
   "cell_type": "code",
   "execution_count": 29,
   "id": "777f63de",
   "metadata": {},
   "outputs": [
    {
     "data": {
      "text/plain": [
       "[(4, 3, 2, 'C'), (2, 1, 2, 'B'), (1, 1, 1, 'A'), (3, 2, 3, 'A')]"
      ]
     },
     "execution_count": 29,
     "metadata": {},
     "output_type": "execute_result"
    }
   ],
   "source": [
    "cur.execute(\"SELECT * FROM enrollments ORDER BY grade DESC\")\n",
    "cur.fetchall()"
   ]
  },
  {
   "cell_type": "markdown",
   "id": "c6b9759f",
   "metadata": {},
   "source": [
    "Part 5: Bonus\n",
    "Write a query to find the average grade per course (Convert grades into numeric values if you want to calculate an average).\n",
    "\n",
    "Add a instructor table and modify your queries to include instructor names.\n",
    "\n"
   ]
  },
  {
   "cell_type": "code",
   "execution_count": null,
   "id": "034d5427",
   "metadata": {},
   "outputs": [
    {
     "name": "stdout",
     "output_type": "stream",
     "text": [
      "instructors table created\n"
     ]
    }
   ],
   "source": [
    "cur.execute(\"CREATE TABLE instructors (instructor_id SERIAL PRIMARY KEY, name VARCHAR(50), email VARCHAR(50))\")\n",
    "conn.commit()\n",
    "print(\"instructors table created\")"
   ]
  },
  {
   "cell_type": "code",
   "execution_count": 35,
   "id": "45561264",
   "metadata": {},
   "outputs": [
    {
     "name": "stdout",
     "output_type": "stream",
     "text": [
      "Data inserted into instructors table.\n"
     ]
    }
   ],
   "source": [
    "sql4 = \"INSERT INTO instructors (name ,email) VALUES (%s,%s)\"\n",
    "data4 = [\n",
    "    ('Dr. Smith', 'smith@univ.edu'),\n",
    "    ('Prof. Brown', 'brown@univ.edu'),\n",
    "    ('Dr. Lee', 'lee@univ.edu')\n",
    "]\n",
    "cur.executemany(sql4, data4)\n",
    "conn.commit()\n",
    "print(\"Data inserted into instructors table.\")"
   ]
  },
  {
   "cell_type": "code",
   "execution_count": 36,
   "id": "0f842575",
   "metadata": {},
   "outputs": [],
   "source": [
    "cur.execute(\"ALTER TABLE courses ADD COLUMN instructor_id INT REFERENCES instructors(instructor_id)\")\n",
    "\n",
    "cur.execute(\"UPDATE courses SET instructor_id = 1 WHERE course_id = 1\")\n",
    "cur.execute(\"UPDATE courses SET instructor_id = 2 WHERE course_id = 2\")\n",
    "cur.execute(\"UPDATE courses SET instructor_id = 3 WHERE course_id = 3\")\n",
    "conn.commit()"
   ]
  },
  {
   "cell_type": "code",
   "execution_count": 37,
   "id": "34cc1a4c",
   "metadata": {},
   "outputs": [
    {
     "data": {
      "text/plain": [
       "[('Mathematics', 'Dr. Smith', Decimal('4.00')),\n",
       " ('History', 'Dr. Lee', Decimal('4.00')),\n",
       " ('Computer Science', 'Prof. Brown', Decimal('2.50'))]"
      ]
     },
     "execution_count": 37,
     "metadata": {},
     "output_type": "execute_result"
    }
   ],
   "source": [
    "cur.execute(\"\"\"SELECT c.course_name ,i.name AS instructor,ROUND(AVG(CASE e.grade\n",
    "            WHEN 'A' THEN 4\n",
    "            WHEN 'B' THEN 3\n",
    "            WHEN 'C' THEN 2\n",
    "            WHEN 'D' THEN 1\n",
    "            WHEN 'F' THEN 0\n",
    "        END), 2) AS avg_grade\n",
    "        FROM courses c\n",
    "JOIN instructors i ON c.instructor_id = i.instructor_id\n",
    "JOIN enrollments e ON c.course_id = e.course_id\n",
    "GROUP BY c.course_name, i.name\n",
    "ORDER BY avg_grade DESC;\"\"\")\n",
    "cur.fetchall()"
   ]
  },
  {
   "cell_type": "markdown",
   "id": "1ec8f455",
   "metadata": {},
   "source": []
  }
 ],
 "metadata": {
  "kernelspec": {
   "display_name": "Python 3",
   "language": "python",
   "name": "python3"
  },
  "language_info": {
   "codemirror_mode": {
    "name": "ipython",
    "version": 3
   },
   "file_extension": ".py",
   "mimetype": "text/x-python",
   "name": "python",
   "nbconvert_exporter": "python",
   "pygments_lexer": "ipython3",
   "version": "3.13.6"
  }
 },
 "nbformat": 4,
 "nbformat_minor": 5
}
