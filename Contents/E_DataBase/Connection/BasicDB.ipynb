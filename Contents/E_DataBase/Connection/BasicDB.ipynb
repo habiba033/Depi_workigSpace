{
 "cells": [
  {
   "cell_type": "code",
   "execution_count": 28,
   "id": "025e8f23",
   "metadata": {},
   "outputs": [
    {
     "name": "stdout",
     "output_type": "stream",
     "text": [
      "Requirement already satisfied: psycopg2-binary in c:\\users\\habib\\appdata\\local\\programs\\python\\python313\\lib\\site-packages (2.9.10)\n",
      "Note: you may need to restart the kernel to use updated packages.\n"
     ]
    }
   ],
   "source": [
    "pip install psycopg2-binary"
   ]
  },
  {
   "cell_type": "code",
   "execution_count": 35,
   "id": "d4647f72",
   "metadata": {},
   "outputs": [],
   "source": [
    "import psycopg2"
   ]
  },
  {
   "cell_type": "code",
   "execution_count": 42,
   "id": "612f91a9",
   "metadata": {},
   "outputs": [
    {
     "name": "stdout",
     "output_type": "stream",
     "text": [
      "✅ Connection successful!\n"
     ]
    }
   ],
   "source": [
    "try:\n",
    "    conn = psycopg2.connect(\n",
    "        host=\"localhost\",\n",
    "        database=\"ds_new\",\n",
    "        user=\"postgres\",\n",
    "        password=\"habiba2004#\",\n",
    "        port = '5433')\n",
    "    print(\"✅ Connection successful!\")\n",
    "\n",
    "\n",
    "except Exception as e:\n",
    "    print(\"❌ Connection failed:\", e)\n"
   ]
  },
  {
   "cell_type": "code",
   "execution_count": 44,
   "id": "1317b6d7",
   "metadata": {},
   "outputs": [],
   "source": [
    "cur = conn.cursor()"
   ]
  },
  {
   "cell_type": "code",
   "execution_count": 46,
   "id": "18f0c450",
   "metadata": {},
   "outputs": [
    {
     "name": "stdout",
     "output_type": "stream",
     "text": [
      "postgres\n"
     ]
    }
   ],
   "source": [
    "cur.execute('select current_user')\n",
    "print(cur.fetchone()[0])"
   ]
  },
  {
   "cell_type": "code",
   "execution_count": 43,
   "id": "d9276a9f",
   "metadata": {},
   "outputs": [
    {
     "ename": "DuplicateDatabase",
     "evalue": "database \"ds_new\" already exists\n",
     "output_type": "error",
     "traceback": [
      "\u001b[31m---------------------------------------------------------------------------\u001b[39m",
      "\u001b[31mDuplicateDatabase\u001b[39m                         Traceback (most recent call last)",
      "\u001b[36mCell\u001b[39m\u001b[36m \u001b[39m\u001b[32mIn[43]\u001b[39m\u001b[32m, line 4\u001b[39m\n\u001b[32m      1\u001b[39m conn.autocommit = \u001b[38;5;28;01mTrue\u001b[39;00m  \n\u001b[32m      2\u001b[39m cur = conn.cursor()\n\u001b[32m----> \u001b[39m\u001b[32m4\u001b[39m \u001b[43mcur\u001b[49m\u001b[43m.\u001b[49m\u001b[43mexecute\u001b[49m\u001b[43m(\u001b[49m\u001b[33;43m\"\u001b[39;49m\u001b[33;43mCREATE DATABASE DS_new;\u001b[39;49m\u001b[33;43m\"\u001b[39;49m\u001b[43m)\u001b[49m\n",
      "\u001b[31mDuplicateDatabase\u001b[39m: database \"ds_new\" already exists\n"
     ]
    }
   ],
   "source": [
    "conn.autocommit = True  \n",
    "cur = conn.cursor()\n",
    "\n",
    "cur.execute(\"CREATE DATABASE DS_new;\")"
   ]
  },
  {
   "cell_type": "markdown",
   "id": "6f1d8a27",
   "metadata": {},
   "source": [
    "knowing the databases inseide ou postgres"
   ]
  },
  {
   "cell_type": "code",
   "execution_count": 47,
   "id": "6efd881c",
   "metadata": {},
   "outputs": [
    {
     "name": "stdout",
     "output_type": "stream",
     "text": [
      "postgres\n",
      "Depi\n",
      "bikeshare_db\n",
      "ds_new\n"
     ]
    }
   ],
   "source": [
    "cur.execute('select datname from pg_database where datistemplate = false')\n",
    "for db in cur.fetchall():\n",
    "    print(db[0])"
   ]
  },
  {
   "cell_type": "code",
   "execution_count": 48,
   "id": "3c87fb53",
   "metadata": {},
   "outputs": [
    {
     "name": "stdout",
     "output_type": "stream",
     "text": [
      "table created\n"
     ]
    }
   ],
   "source": [
    "cur.execute(\"create table students_ (name VARCHAR(50),ohone VARCHAR(20))\")\n",
    "print('table created')"
   ]
  },
  {
   "cell_type": "code",
   "execution_count": 50,
   "id": "4e7199c3",
   "metadata": {},
   "outputs": [
    {
     "name": "stdout",
     "output_type": "stream",
     "text": [
      "Column changed\n"
     ]
    }
   ],
   "source": [
    "cur.execute(\"ALTER tABLE students_ RENAME COLUMN ohone to phone\")\n",
    "print(\"Column changed\")"
   ]
  },
  {
   "cell_type": "code",
   "execution_count": null,
   "id": "c61439b1",
   "metadata": {},
   "outputs": [
    {
     "name": "stdout",
     "output_type": "stream",
     "text": [
      "the new values are insertes :D\n"
     ]
    }
   ],
   "source": [
    "sql = \"INSERT INTO students_ (name , phone) values (%s , %s)\"\n",
    "data = (\"Habiba\",\"011223344556\")\n",
    "\n",
    "\n",
    "cur.execute(sql,data)\n",
    "conn.commit\n",
    "print(\"the new values are insertes :D\")\n",
    "\n"
   ]
  },
  {
   "cell_type": "code",
   "execution_count": 53,
   "id": "bda1a452",
   "metadata": {},
   "outputs": [
    {
     "name": "stdout",
     "output_type": "stream",
     "text": [
      "the new values are insertes :D\n"
     ]
    }
   ],
   "source": [
    "data2 = (\"omar\",\"012345667884\")\n",
    "cur.execute(sql,data2)\n",
    "conn.commit\n",
    "print(\"the new values are insertes :D\")"
   ]
  },
  {
   "cell_type": "code",
   "execution_count": 56,
   "id": "5399a603",
   "metadata": {},
   "outputs": [
    {
     "name": "stdout",
     "output_type": "stream",
     "text": [
      "the new values are insertes :D\n"
     ]
    }
   ],
   "source": [
    "data3 = [(\"ali\",\"0123456678\"),\n",
    "         (\"hamed\",\"0123456678\"),\n",
    "         (\"ola\",\"0881108244\"),\n",
    "         (\"nour\",\"0932876444\"),\n",
    "         (\"mona\",\"0387487644\"),\n",
    "         (\"roa\",\"0298642502\")\n",
    "         ]\n",
    "cur.executemany(sql,data3)\n",
    "conn.commit\n",
    "print(\"the new values are insertes :D\")"
   ]
  },
  {
   "cell_type": "code",
   "execution_count": 58,
   "id": "103c94e0",
   "metadata": {},
   "outputs": [
    {
     "name": "stdout",
     "output_type": "stream",
     "text": [
      "('Habiba',)\n",
      "('Habiba',)\n",
      "('omar',)\n",
      "('ali',)\n",
      "('hamed',)\n",
      "('ola',)\n",
      "('nour',)\n",
      "('mona',)\n",
      "('roa',)\n"
     ]
    }
   ],
   "source": [
    "cur.execute(\"select name from students_\")\n",
    "results = cur.fetchall()\n",
    "for i in results:\n",
    "    print(i)"
   ]
  },
  {
   "cell_type": "code",
   "execution_count": 59,
   "id": "cee02654",
   "metadata": {},
   "outputs": [
    {
     "name": "stdout",
     "output_type": "stream",
     "text": [
      "('011223344556',)\n",
      "('011223344556',)\n"
     ]
    }
   ],
   "source": [
    "cur.execute(\"select phone from students_ where name = 'Habiba'\")\n",
    "results = cur.fetchall()\n",
    "for i in results:\n",
    "    print(i)"
   ]
  },
  {
   "cell_type": "code",
   "execution_count": null,
   "id": "54e01a1d",
   "metadata": {},
   "outputs": [
    {
     "data": {
      "text/plain": [
       "[('0881108244',)]"
      ]
     },
     "execution_count": 64,
     "metadata": {},
     "output_type": "execute_result"
    }
   ],
   "source": [
    "sql1 =\"select phone from students_ where name = %s\"\n",
    "data4 = ('ola',)\n",
    "cur.execute(sql1,data4)\n",
    "result = cur.fetchall()\n",
    "print(result)"
   ]
  },
  {
   "cell_type": "code",
   "execution_count": 65,
   "id": "a7f67a4f",
   "metadata": {},
   "outputs": [
    {
     "name": "stdout",
     "output_type": "stream",
     "text": [
      "('011223344556',)\n",
      "('011223344556',)\n"
     ]
    }
   ],
   "source": [
    "sql1 =\"UPDATE students_ set phone='000000002' where name ='ola'\"\n",
    "data4 = ('ola',)\n",
    "cur.execute(\"SELECT * from students_\")\n",
    "result = cur.fetchall()\n",
    "for i in results:\n",
    "    print(i)"
   ]
  },
  {
   "cell_type": "markdown",
   "id": "63025594",
   "metadata": {},
   "source": [
    "from User\n"
   ]
  },
  {
   "cell_type": "code",
   "execution_count": 73,
   "id": "711e1fad",
   "metadata": {},
   "outputs": [
    {
     "name": "stdout",
     "output_type": "stream",
     "text": [
      "('omar', '012345667884')\n",
      "('ali', '0123456678')\n",
      "('hamed', '0123456678')\n",
      "('ola', '0881108244')\n",
      "('nour', '0932876444')\n",
      "('mona', '0387487644')\n",
      "('roa', '0298642502')\n"
     ]
    }
   ],
   "source": [
    "# Get inputs from user\n",
    "update_value = input(\"Enter new phone: \")\n",
    "condition_value = input(\"Enter student name: \")\n",
    " \n",
    "# Create the data tuple\n",
    "data = (update_value, condition_value)\n",
    " \n",
    "# Execute update with parameters\n",
    "sql = cur.execute(\"UPDATE students_ SET phone = %s WHERE name = %s\", data)\n",
    "conn.commit()\n",
    " \n",
    "# Fetch and print all rows\n",
    "cur.execute(\"SELECT * FROM students_\")\n",
    "results = cur.fetchall()\n",
    "for row in results:\n",
    "    print(row)\n"
   ]
  },
  {
   "cell_type": "code",
   "execution_count": 72,
   "id": "676e4777",
   "metadata": {},
   "outputs": [
    {
     "name": "stdout",
     "output_type": "stream",
     "text": [
      "2 record(s) deleted.\n",
      "('omar', '012345667884')\n",
      "('ali', '0123456678')\n",
      "('hamed', '0123456678')\n",
      "('ola', '0881108244')\n",
      "('nour', '0932876444')\n",
      "('mona', '0387487644')\n",
      "('roa', '0298642502')\n"
     ]
    }
   ],
   "source": [
    "# Ask for the student name to delete\n",
    "name_to_delete = input(\"Enter student name to delete: \")\n",
    " \n",
    "# Execute delete with parameter\n",
    "cur.execute(\"DELETE FROM students_ WHERE name = %s\", (name_to_delete,))\n",
    "conn.commit()\n",
    " \n",
    "# Check if anything was deleted\n",
    "if cur.rowcount > 0:\n",
    "    print(f\"{cur.rowcount} record(s) deleted.\")\n",
    "else:\n",
    "    print(\"No student found with that name.\")\n",
    " \n",
    "# Show remaining records\n",
    "cur.execute(\"SELECT * FROM students_\")\n",
    "results = cur.fetchall()\n",
    "for row in results:\n",
    "    print(row)"
   ]
  },
  {
   "cell_type": "code",
   "execution_count": null,
   "id": "56c21df7",
   "metadata": {},
   "outputs": [],
   "source": []
  }
 ],
 "metadata": {
  "kernelspec": {
   "display_name": "Python 3",
   "language": "python",
   "name": "python3"
  },
  "language_info": {
   "codemirror_mode": {
    "name": "ipython",
    "version": 3
   },
   "file_extension": ".py",
   "mimetype": "text/x-python",
   "name": "python",
   "nbconvert_exporter": "python",
   "pygments_lexer": "ipython3",
   "version": "3.13.6"
  }
 },
 "nbformat": 4,
 "nbformat_minor": 5
}
