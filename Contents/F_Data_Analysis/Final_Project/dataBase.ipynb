{
 "cells": [
  {
   "cell_type": "code",
   "execution_count": 2,
   "id": "04a31469",
   "metadata": {},
   "outputs": [],
   "source": [
    "import psycopg2\n",
    "\n",
    "# Connect to PostgreSQL\n",
    "\n",
    "conn = psycopg2.connect(\n",
    "    dbname=\"GoBike\",\n",
    "    user=\"postgres\",\n",
    "    password=\"habiba2004#\",\n",
    "    host=\"localhost\",\n",
    "    port=\"5433\"\n",
    ")"
   ]
  },
  {
   "cell_type": "code",
   "execution_count": 3,
   "id": "09963f01",
   "metadata": {},
   "outputs": [
    {
     "name": "stdout",
     "output_type": "stream",
     "text": [
      "Database connected successfully.\n"
     ]
    }
   ],
   "source": [
    "\n",
    "cur = conn.cursor()\n",
    "print(\"Database connected successfully.\")\n",
    "\n"
   ]
  },
  {
   "cell_type": "code",
   "execution_count": 3,
   "id": "492f2e6a",
   "metadata": {},
   "outputs": [
    {
     "name": "stdout",
     "output_type": "stream",
     "text": [
      "Rows inserted into dim_time table\n",
      "Number of rows: 3\n"
     ]
    }
   ],
   "source": [
    "\n",
    "#Insert rows and values FOR time\n",
    "sql = \"INSERT INTO  dim_time (date, hour, day, day_of_week, month, year) VALUES(%s,%s,%s,%s,%s,%s)\"\n",
    "data = [ \n",
    "        ('2023-01-01', 10, 1, 'Sunday', 1, 2023),\n",
    "        ('2023-01-02', 11, 2, 'Monday', 1, 2023),\n",
    "        ('2023-01-03', 12, 3, 'Tuesday', 1, 2023)\n",
    "    ]\n",
    "\n",
    "cur.executemany(sql, data)\n",
    "conn.commit()\n",
    "print(\"Rows inserted into dim_time table\")\n",
    "print(\"Number of rows:\" ,cur.rowcount)\n"
   ]
  },
  {
   "cell_type": "code",
   "execution_count": 4,
   "id": "e0dfc556",
   "metadata": {},
   "outputs": [
    {
     "name": "stdout",
     "output_type": "stream",
     "text": [
      "Rows inserted into dim_station table\n",
      "Number of rows: 3\n"
     ]
    }
   ],
   "source": [
    "\n",
    "#Insert rows and values FOR station\n",
    "sql = \"INSERT INTO dim_station (station_name, latitude, longitude) VALUES (%s,%s,%s)\"\n",
    "data = [\n",
    "    (\"Market St Station\", 37.7749, -122.4194),\n",
    "    (\"Central Park Station\", 40.7128, -74.0060),\n",
    "    (\"Tower Bridge Station\", 51.5074, -0.1278)\n",
    "]\n",
    "cur.executemany(sql, data)\n",
    "conn.commit()\n",
    "print(\"Rows inserted into dim_station table\")\n",
    "print(\"Number of rows:\" ,cur.rowcount)\n",
    "  "
   ]
  },
  {
   "cell_type": "code",
   "execution_count": 9,
   "id": "0a8208ff",
   "metadata": {},
   "outputs": [
    {
     "name": "stdout",
     "output_type": "stream",
     "text": [
      "Rows inserted successfully into dim_user\n"
     ]
    }
   ],
   "source": [
    "sql = \"INSERT INTO dim_user (birth_year, age, gender, user_type) VALUES (%s,%s,%s,%s)\"\n",
    "data = [\n",
    "    (1990, 33, 'Male', 'Subscriber'),\n",
    "    (1995, 28, 'Female', 'Customer'),\n",
    "    (1988, 35, 'Male', 'Subscriber')\n",
    "]\n",
    "\n",
    "cur.executemany(sql, data)\n",
    "conn.commit()\n",
    "print(\"Rows inserted successfully into dim_user\")"
   ]
  },
  {
   "cell_type": "code",
   "execution_count": 29,
   "id": "38d3d957",
   "metadata": {},
   "outputs": [],
   "source": [
    "sql = \"\"\"INSERT INTO fact_trips\n",
    "(start_time, end_time, duration_sec, bike_id, start_station_id, end_station_id, user_id, time_id) \n",
    "VALUES (%s,%s,%s,%s,%s,%s,%s,%s)\"\"\"\n",
    "\n",
    "data = [\n",
    "    ('2023-01-01 10:00:00', '2023-01-01 10:30:00', 1800, 'B001', 1, 2, 1, 1),\n",
    "    ('2023-01-02 11:15:00', '2023-01-02 11:45:00', 1800, 'B002', 2, 3, 2, 2),\n",
    "    ('2023-01-03 12:05:00', '2023-01-03 12:50:00', 2700, 'B003', 3, 1, 3, 3)\n",
    "]\n",
    "\n",
    "cur.executemany(sql, data)\n",
    "conn.commit()\n"
   ]
  },
  {
   "cell_type": "code",
   "execution_count": 30,
   "id": "b541ae1b",
   "metadata": {},
   "outputs": [
    {
     "name": "stdout",
     "output_type": "stream",
     "text": [
      "Rows inserted into fact_trip table\n",
      "Number of rows: 3\n"
     ]
    }
   ],
   "source": [
    "print(\"Rows inserted into fact_trip table\")\n",
    "print(\"Number of rows:\" ,cur.rowcount)"
   ]
  },
  {
   "cell_type": "code",
   "execution_count": 28,
   "id": "aef15918",
   "metadata": {},
   "outputs": [],
   "source": [
    "conn.rollback()\n"
   ]
  },
  {
   "cell_type": "code",
   "execution_count": 4,
   "id": "e13271d0",
   "metadata": {},
   "outputs": [
    {
     "name": "stdout",
     "output_type": "stream",
     "text": [
      "[(1, 'Market St Station', 37.7749, -122.4194), (2, 'Central Park Station', 40.7128, -74.006), (3, 'Tower Bridge Station', 51.5074, -0.1278)]\n",
      "[(1, 1990, 33, 'Male', 'Subscriber'), (2, 1995, 28, 'Female', 'Customer'), (3, 1988, 35, 'Male', 'Subscriber'), (4, 1990, 33, 'Male', 'Subscriber'), (5, 1995, 28, 'Female', 'Customer'), (6, 1988, 35, 'Male', 'Subscriber')]\n",
      "[(1, datetime.date(2023, 1, 1), 10, 1, 'Sunday', 1, 2023), (2, datetime.date(2023, 1, 2), 11, 2, 'Monday', 1, 2023), (3, datetime.date(2023, 1, 3), 12, 3, 'Tuesday', 1, 2023)]\n"
     ]
    }
   ],
   "source": [
    "cur.execute(\"SELECT * FROM dim_station;\")\n",
    "print(cur.fetchall())\n",
    "\n",
    "cur.execute(\"SELECT * FROM dim_user;\")\n",
    "print(cur.fetchall())\n",
    "\n",
    "cur.execute(\"SELECT * FROM dim_time;\")\n",
    "print(cur.fetchall())\n"
   ]
  },
  {
   "cell_type": "code",
   "execution_count": null,
   "id": "88852460",
   "metadata": {},
   "outputs": [],
   "source": []
  }
 ],
 "metadata": {
  "kernelspec": {
   "display_name": "Python 3",
   "language": "python",
   "name": "python3"
  },
  "language_info": {
   "codemirror_mode": {
    "name": "ipython",
    "version": 3
   },
   "file_extension": ".py",
   "mimetype": "text/x-python",
   "name": "python",
   "nbconvert_exporter": "python",
   "pygments_lexer": "ipython3",
   "version": "3.13.6"
  }
 },
 "nbformat": 4,
 "nbformat_minor": 5
}
