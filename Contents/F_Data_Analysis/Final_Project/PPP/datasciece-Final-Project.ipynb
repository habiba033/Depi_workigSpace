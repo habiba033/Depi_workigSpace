{
 "cells": [
  {
   "cell_type": "markdown",
   "id": "58b74018",
   "metadata": {
    "execution": {
     "iopub.execute_input": "2022-07-09T14:25:43.577524Z",
     "iopub.status.busy": "2022-07-09T14:25:43.577125Z",
     "iopub.status.idle": "2022-07-09T14:25:43.583064Z",
     "shell.execute_reply": "2022-07-09T14:25:43.581948Z",
     "shell.execute_reply.started": "2022-07-09T14:25:43.577494Z"
    },
    "papermill": {
     "duration": 0.020455,
     "end_time": "2024-05-08T19:18:46.175321",
     "exception": false,
     "start_time": "2024-05-08T19:18:46.154866",
     "status": "completed"
    },
    "tags": []
   },
   "source": [
    "\n",
    "<div style=\"border-radius:10px;\n",
    "            border : #015a2c solid;\n",
    "            background-color:#D7D9DB;\n",
    "           font-size:110%;\n",
    "           letter-spacing:0.5px;\n",
    "            text-align: center\">\n",
    "​\n",
    "<center><h1 style=\"padding: 25px 0px; color:#015a4c; font-weight: bold; font-family: Cursive\">\n",
    "Amit Project for Data Science Module <br><br>💡💡💡💡💡 <br><br> DEPI_BS_DS_R3  </h1></center>\n",
    "<center><h3 style=\"padding-bottom: 25px; color:#025b2c; font-weight: bold; font-style:italic; font-family: Cursive\">\n",
    "Using Project: Trip data Ford go bike  </h3></center>     \n",
    "​\n",
    "</div>"
   ]
  },
  {
   "cell_type": "markdown",
   "id": "8255d1c5",
   "metadata": {
    "papermill": {
     "duration": 0.019782,
     "end_time": "2024-05-08T19:18:46.214320",
     "exception": false,
     "start_time": "2024-05-08T19:18:46.194538",
     "status": "completed"
    },
    "tags": []
   },
   "source": [
    "# Part I - (Dataset Exploration for Ford GoBike)\n",
    "\n",
    "### worked by (Your Name/2025 )\n",
    "\n",
    "## Introduction\n",
    "\n",
    ".\n",
    "\n",
    "> **Let's introduce our dataset:**\n",
    "\n",
    "This dataset contains information from the Ford GoBike System, which provides details about individual rides made in a bike-sharing system across the San Francisco Bay Area.\n",
    "The data includes trip duration, start and end times, user types, and station information.\n",
    "Our goal in this exploration is to understand the structure, composition, and main statistics of the dataset before moving to deeper analysis or visualization.\n",
    "\n",
    "\n",
    "======================================\n",
    "\n",
    ".\n",
    "\n",
    "**This data set information was produced from `Ford GoBike` System** the information in it talked about individual rides that were made in a bike-sharing system for covering San Francisco Bay area.** \n",
    "\n",
    ".\n"
   ]
  },
  {
   "cell_type": "markdown",
   "id": "5da4edda",
   "metadata": {
    "papermill": {
     "duration": 0.018105,
     "end_time": "2024-05-08T19:18:46.251444",
     "exception": false,
     "start_time": "2024-05-08T19:18:46.233339",
     "status": "completed"
    },
    "tags": []
   },
   "source": [
    "\n",
    "\n",
    "> ## And here are the main exploring questions \n",
    "\n",
    "\n",
    "\n",
    "   **==================================================**\n",
    "\n",
    "\n",
    "\n",
    "- What is the structure of your dataset?\n",
    "\n",
    "\n",
    "- What are the main interesting features in the dataset?\n",
    "\n",
    "\n",
    "- What features in the dataset supported my investigation for these interesting features?\n",
    "\n",
    "\n",
    "\n",
    "\n",
    ".\n",
    "\n",
    "> ### Also here are the investigative questions classified into three types\n",
    "\n",
    "\n",
    "\n",
    "   **================================================**\n",
    "   \n",
    "   \n",
    "\n",
    "\n",
    "###  <a href='#011'> Univariate Exploration</a> \n",
    "\n",
    "- <a href='#1'> 1 ) . What is the distribution of `User type`?</a>  \n",
    "- <a href='#2'> 2 ) . What is the distribution for the `bike share users on all Trips`?</a>  \n",
    "- <a href='#3'> 3 ) . What is the distribution for users' `ages`?</a>  \n",
    "- <a href='#4'> 4 ) . Do the users' ages have `outlier` values?</a>\n",
    "- <a href='#5'> 5 ) . What is the distribution for the trip duration in `minutes`? </a>\n",
    "- <a href='#6'> 6) . What is the distribution for `member_gender`? </a>\n",
    "- <a href='#7'> 7) . What is the distribution for the trip duration in `Hours`?  </a>\n",
    "\n",
    "\n",
    "\n",
    "\n",
    "##  <a href='#111'> Bivariate Exploration</a> \n",
    "\n",
    "\n",
    "- <a href='#8'> 8 ) . What the `average duration` of trip for the categories of `user type`? </a>\n",
    "- <a href='#9'> 9 ) . How long is the duration of the trip for `each gender` in `minutes`? </a>\n",
    "- <a href='#10'> 10 ) . How long is the duration of the trip for each `user_type` in `minutes`?  </a>\n",
    "- <a href='#11'> 11 ) . How the user distribution depending on their `Age` and `user_type` ?</a>\n",
    "- <a href='#12'>12 ). How the user distribution depending on their `Age` and `member_gender` ?  </a>\n",
    "\n",
    "\n",
    "##  <a href='#1111'> Multivariate Exploration</a> \n",
    "\n",
    "\n",
    "- <a href='#13'> 13 ) . What is the Correlation between `each` variable in the dataset?</a>  \n",
    "- <a href='#14'> 14 ) . What is the Correlation between `specific numeric variables` in the dataset?</a>  \n",
    "- <a href='#15'> 15 ) . What is the  Correlation between `data_stat` variables in the dataset?</a>  \n",
    "\n",
    "\n",
    "##  <a href='#1100'> Conclusions </a> \n",
    "\n",
    "\n",
    "\n"
   ]
  },
  {
   "cell_type": "markdown",
   "id": "f600ad88",
   "metadata": {
    "papermill": {
     "duration": 0.018288,
     "end_time": "2024-05-08T19:18:46.353867",
     "exception": false,
     "start_time": "2024-05-08T19:18:46.335579",
     "status": "completed"
    },
    "tags": []
   },
   "source": [
    "# <p style=\"border-radius:15px;border-style:solid;border-color:lightblue;border-width:3px;background-color:lightblue;padding: 20px;font-family:Verdana;color:#D81F26;font-size:30px;text-align: center;\">Import Libraries</p>"
   ]
  },
  {
   "cell_type": "code",
   "execution_count": 3,
   "id": "be25aff1",
   "metadata": {
    "execution": {
     "iopub.execute_input": "2024-05-08T19:18:46.395860Z",
     "iopub.status.busy": "2024-05-08T19:18:46.394969Z",
     "iopub.status.idle": "2024-05-08T19:18:47.624619Z",
     "shell.execute_reply": "2024-05-08T19:18:47.623289Z"
    },
    "papermill": {
     "duration": 1.255463,
     "end_time": "2024-05-08T19:18:47.627956",
     "exception": false,
     "start_time": "2024-05-08T19:18:46.372493",
     "status": "completed"
    },
    "tags": []
   },
   "outputs": [],
   "source": [
    "import numpy as np # linear algebra\n",
    "import pandas as pd # data processing, CSV file I/O (e.g. pd.read_csv)\n",
    "import os\n",
    "import matplotlib.pyplot as plt\n",
    "\n",
    "import seaborn as sb\n",
    "\n",
    "%matplotlib inline"
   ]
  },
  {
   "cell_type": "code",
   "execution_count": 4,
   "id": "ca12f426",
   "metadata": {
    "execution": {
     "iopub.execute_input": "2024-05-08T19:18:47.668552Z",
     "iopub.status.busy": "2024-05-08T19:18:47.667822Z",
     "iopub.status.idle": "2024-05-08T19:18:48.581464Z",
     "shell.execute_reply": "2024-05-08T19:18:48.580158Z"
    },
    "papermill": {
     "duration": 0.937184,
     "end_time": "2024-05-08T19:18:48.584608",
     "exception": false,
     "start_time": "2024-05-08T19:18:47.647424",
     "status": "completed"
    },
    "tags": []
   },
   "outputs": [
    {
     "data": {
      "text/html": [
       "<div>\n",
       "<style scoped>\n",
       "    .dataframe tbody tr th:only-of-type {\n",
       "        vertical-align: middle;\n",
       "    }\n",
       "\n",
       "    .dataframe tbody tr th {\n",
       "        vertical-align: top;\n",
       "    }\n",
       "\n",
       "    .dataframe thead th {\n",
       "        text-align: right;\n",
       "    }\n",
       "</style>\n",
       "<table border=\"1\" class=\"dataframe\">\n",
       "  <thead>\n",
       "    <tr style=\"text-align: right;\">\n",
       "      <th></th>\n",
       "      <th>duration_sec</th>\n",
       "      <th>start_time</th>\n",
       "      <th>end_time</th>\n",
       "      <th>start_station_id</th>\n",
       "      <th>start_station_name</th>\n",
       "      <th>start_station_latitude</th>\n",
       "      <th>start_station_longitude</th>\n",
       "      <th>end_station_id</th>\n",
       "      <th>end_station_name</th>\n",
       "      <th>end_station_latitude</th>\n",
       "      <th>end_station_longitude</th>\n",
       "      <th>bike_id</th>\n",
       "      <th>user_type</th>\n",
       "      <th>member_birth_year</th>\n",
       "      <th>member_gender</th>\n",
       "      <th>bike_share_for_all_trip</th>\n",
       "    </tr>\n",
       "  </thead>\n",
       "  <tbody>\n",
       "    <tr>\n",
       "      <th>0</th>\n",
       "      <td>52185</td>\n",
       "      <td>32:10.1</td>\n",
       "      <td>01:56.0</td>\n",
       "      <td>21.0</td>\n",
       "      <td>Montgomery St BART Station (Market St at 2nd St)</td>\n",
       "      <td>37.789625</td>\n",
       "      <td>-122.400811</td>\n",
       "      <td>13.0</td>\n",
       "      <td>Commercial St at Montgomery St</td>\n",
       "      <td>37.794231</td>\n",
       "      <td>-122.402923</td>\n",
       "      <td>4902</td>\n",
       "      <td>Customer</td>\n",
       "      <td>1984.0</td>\n",
       "      <td>Male</td>\n",
       "      <td>No</td>\n",
       "    </tr>\n",
       "    <tr>\n",
       "      <th>1</th>\n",
       "      <td>42521</td>\n",
       "      <td>53:21.8</td>\n",
       "      <td>42:03.1</td>\n",
       "      <td>23.0</td>\n",
       "      <td>The Embarcadero at Steuart St</td>\n",
       "      <td>37.791464</td>\n",
       "      <td>-122.391034</td>\n",
       "      <td>81.0</td>\n",
       "      <td>Berry St at 4th St</td>\n",
       "      <td>37.775880</td>\n",
       "      <td>-122.393170</td>\n",
       "      <td>2535</td>\n",
       "      <td>Customer</td>\n",
       "      <td>NaN</td>\n",
       "      <td>NaN</td>\n",
       "      <td>No</td>\n",
       "    </tr>\n",
       "    <tr>\n",
       "      <th>2</th>\n",
       "      <td>61854</td>\n",
       "      <td>13:13.2</td>\n",
       "      <td>24:08.1</td>\n",
       "      <td>86.0</td>\n",
       "      <td>Market St at Dolores St</td>\n",
       "      <td>37.769305</td>\n",
       "      <td>-122.426826</td>\n",
       "      <td>3.0</td>\n",
       "      <td>Powell St BART Station (Market St at 4th St)</td>\n",
       "      <td>37.786375</td>\n",
       "      <td>-122.404904</td>\n",
       "      <td>5905</td>\n",
       "      <td>Customer</td>\n",
       "      <td>1972.0</td>\n",
       "      <td>Male</td>\n",
       "      <td>No</td>\n",
       "    </tr>\n",
       "    <tr>\n",
       "      <th>3</th>\n",
       "      <td>36490</td>\n",
       "      <td>54:26.0</td>\n",
       "      <td>02:36.8</td>\n",
       "      <td>375.0</td>\n",
       "      <td>Grove St at Masonic Ave</td>\n",
       "      <td>37.774836</td>\n",
       "      <td>-122.446546</td>\n",
       "      <td>70.0</td>\n",
       "      <td>Central Ave at Fell St</td>\n",
       "      <td>37.773311</td>\n",
       "      <td>-122.444293</td>\n",
       "      <td>6638</td>\n",
       "      <td>Subscriber</td>\n",
       "      <td>1989.0</td>\n",
       "      <td>Other</td>\n",
       "      <td>No</td>\n",
       "    </tr>\n",
       "    <tr>\n",
       "      <th>4</th>\n",
       "      <td>1585</td>\n",
       "      <td>54:18.5</td>\n",
       "      <td>20:44.1</td>\n",
       "      <td>7.0</td>\n",
       "      <td>Frank H Ogawa Plaza</td>\n",
       "      <td>37.804562</td>\n",
       "      <td>-122.271738</td>\n",
       "      <td>222.0</td>\n",
       "      <td>10th Ave at E 15th St</td>\n",
       "      <td>37.792714</td>\n",
       "      <td>-122.248780</td>\n",
       "      <td>4898</td>\n",
       "      <td>Subscriber</td>\n",
       "      <td>1974.0</td>\n",
       "      <td>Male</td>\n",
       "      <td>Yes</td>\n",
       "    </tr>\n",
       "  </tbody>\n",
       "</table>\n",
       "</div>"
      ],
      "text/plain": [
       "   duration_sec start_time end_time  start_station_id  \\\n",
       "0         52185    32:10.1  01:56.0              21.0   \n",
       "1         42521    53:21.8  42:03.1              23.0   \n",
       "2         61854    13:13.2  24:08.1              86.0   \n",
       "3         36490    54:26.0  02:36.8             375.0   \n",
       "4          1585    54:18.5  20:44.1               7.0   \n",
       "\n",
       "                                 start_station_name  start_station_latitude  \\\n",
       "0  Montgomery St BART Station (Market St at 2nd St)               37.789625   \n",
       "1                     The Embarcadero at Steuart St               37.791464   \n",
       "2                           Market St at Dolores St               37.769305   \n",
       "3                           Grove St at Masonic Ave               37.774836   \n",
       "4                               Frank H Ogawa Plaza               37.804562   \n",
       "\n",
       "   start_station_longitude  end_station_id  \\\n",
       "0              -122.400811            13.0   \n",
       "1              -122.391034            81.0   \n",
       "2              -122.426826             3.0   \n",
       "3              -122.446546            70.0   \n",
       "4              -122.271738           222.0   \n",
       "\n",
       "                               end_station_name  end_station_latitude  \\\n",
       "0                Commercial St at Montgomery St             37.794231   \n",
       "1                            Berry St at 4th St             37.775880   \n",
       "2  Powell St BART Station (Market St at 4th St)             37.786375   \n",
       "3                        Central Ave at Fell St             37.773311   \n",
       "4                         10th Ave at E 15th St             37.792714   \n",
       "\n",
       "   end_station_longitude  bike_id   user_type  member_birth_year  \\\n",
       "0            -122.402923     4902    Customer             1984.0   \n",
       "1            -122.393170     2535    Customer                NaN   \n",
       "2            -122.404904     5905    Customer             1972.0   \n",
       "3            -122.444293     6638  Subscriber             1989.0   \n",
       "4            -122.248780     4898  Subscriber             1974.0   \n",
       "\n",
       "  member_gender bike_share_for_all_trip  \n",
       "0          Male                      No  \n",
       "1           NaN                      No  \n",
       "2          Male                      No  \n",
       "3         Other                      No  \n",
       "4          Male                     Yes  "
      ]
     },
     "execution_count": 4,
     "metadata": {},
     "output_type": "execute_result"
    }
   ],
   "source": [
    "# Load my dataset using pandas Dataframe\n",
    "path = r\"C:\\Users\\habib\\OneDrive\\المستندات\\Depi_workingSpace\\Depi_workigSpace\\Contents\\F_Data_Analysis\\Final_Project\\PPP\\fordgobike-tripdataFor201902.csv\"\n",
    "df = pd.read_csv(path)\n",
    "df.head()"
   ]
  },
  {
   "cell_type": "code",
   "execution_count": 5,
   "id": "77211578",
   "metadata": {
    "execution": {
     "iopub.execute_input": "2024-05-08T19:18:48.623710Z",
     "iopub.status.busy": "2024-05-08T19:18:48.623116Z",
     "iopub.status.idle": "2024-05-08T19:18:48.629135Z",
     "shell.execute_reply": "2024-05-08T19:18:48.627907Z"
    },
    "papermill": {
     "duration": 0.028342,
     "end_time": "2024-05-08T19:18:48.631603",
     "exception": false,
     "start_time": "2024-05-08T19:18:48.603261",
     "status": "completed"
    },
    "tags": []
   },
   "outputs": [
    {
     "data": {
      "text/plain": [
       "(183416, 16)"
      ]
     },
     "execution_count": 5,
     "metadata": {},
     "output_type": "execute_result"
    }
   ],
   "source": [
    "# here we make overview in high-level for data shape and composition\n",
    "df.shape\n"
   ]
  },
  {
   "cell_type": "code",
   "execution_count": 6,
   "id": "ba2001a7",
   "metadata": {
    "execution": {
     "iopub.execute_input": "2024-05-08T19:18:48.671066Z",
     "iopub.status.busy": "2024-05-08T19:18:48.670599Z",
     "iopub.status.idle": "2024-05-08T19:18:48.678028Z",
     "shell.execute_reply": "2024-05-08T19:18:48.676571Z"
    },
    "papermill": {
     "duration": 0.03103,
     "end_time": "2024-05-08T19:18:48.681691",
     "exception": false,
     "start_time": "2024-05-08T19:18:48.650661",
     "status": "completed"
    },
    "tags": []
   },
   "outputs": [
    {
     "name": "stdout",
     "output_type": "stream",
     "text": [
      "<class 'pandas.core.frame.DataFrame'>\n",
      "RangeIndex: 183416 entries, 0 to 183415\n",
      "Data columns (total 16 columns):\n",
      " #   Column                   Non-Null Count   Dtype  \n",
      "---  ------                   --------------   -----  \n",
      " 0   duration_sec             183416 non-null  int64  \n",
      " 1   start_time               183416 non-null  object \n",
      " 2   end_time                 183416 non-null  object \n",
      " 3   start_station_id         183219 non-null  float64\n",
      " 4   start_station_name       183219 non-null  object \n",
      " 5   start_station_latitude   183416 non-null  float64\n",
      " 6   start_station_longitude  183416 non-null  float64\n",
      " 7   end_station_id           183219 non-null  float64\n",
      " 8   end_station_name         183219 non-null  object \n",
      " 9   end_station_latitude     183416 non-null  float64\n",
      " 10  end_station_longitude    183416 non-null  float64\n",
      " 11  bike_id                  183416 non-null  int64  \n",
      " 12  user_type                183416 non-null  object \n",
      " 13  member_birth_year        175151 non-null  float64\n",
      " 14  member_gender            175151 non-null  object \n",
      " 15  bike_share_for_all_trip  183416 non-null  object \n",
      "dtypes: float64(7), int64(2), object(7)\n",
      "memory usage: 22.4+ MB\n"
     ]
    }
   ],
   "source": [
    "## check each var  datatype \n",
    "df.info()"
   ]
  },
  {
   "cell_type": "code",
   "execution_count": 7,
   "id": "10407f10",
   "metadata": {
    "execution": {
     "iopub.execute_input": "2024-05-08T19:18:48.722892Z",
     "iopub.status.busy": "2024-05-08T19:18:48.722449Z",
     "iopub.status.idle": "2024-05-08T19:18:48.743090Z",
     "shell.execute_reply": "2024-05-08T19:18:48.741887Z"
    },
    "papermill": {
     "duration": 0.044069,
     "end_time": "2024-05-08T19:18:48.745705",
     "exception": false,
     "start_time": "2024-05-08T19:18:48.701636",
     "status": "completed"
    },
    "tags": []
   },
   "outputs": [
    {
     "data": {
      "text/html": [
       "<div>\n",
       "<style scoped>\n",
       "    .dataframe tbody tr th:only-of-type {\n",
       "        vertical-align: middle;\n",
       "    }\n",
       "\n",
       "    .dataframe tbody tr th {\n",
       "        vertical-align: top;\n",
       "    }\n",
       "\n",
       "    .dataframe thead th {\n",
       "        text-align: right;\n",
       "    }\n",
       "</style>\n",
       "<table border=\"1\" class=\"dataframe\">\n",
       "  <thead>\n",
       "    <tr style=\"text-align: right;\">\n",
       "      <th></th>\n",
       "      <th>duration_sec</th>\n",
       "      <th>start_time</th>\n",
       "      <th>end_time</th>\n",
       "      <th>start_station_id</th>\n",
       "      <th>start_station_name</th>\n",
       "      <th>start_station_latitude</th>\n",
       "      <th>start_station_longitude</th>\n",
       "      <th>end_station_id</th>\n",
       "      <th>end_station_name</th>\n",
       "      <th>end_station_latitude</th>\n",
       "      <th>end_station_longitude</th>\n",
       "      <th>bike_id</th>\n",
       "      <th>user_type</th>\n",
       "      <th>member_birth_year</th>\n",
       "      <th>member_gender</th>\n",
       "      <th>bike_share_for_all_trip</th>\n",
       "    </tr>\n",
       "  </thead>\n",
       "  <tbody>\n",
       "    <tr>\n",
       "      <th>0</th>\n",
       "      <td>52185</td>\n",
       "      <td>32:10.1</td>\n",
       "      <td>01:56.0</td>\n",
       "      <td>21.0</td>\n",
       "      <td>Montgomery St BART Station (Market St at 2nd St)</td>\n",
       "      <td>37.789625</td>\n",
       "      <td>-122.400811</td>\n",
       "      <td>13.0</td>\n",
       "      <td>Commercial St at Montgomery St</td>\n",
       "      <td>37.794231</td>\n",
       "      <td>-122.402923</td>\n",
       "      <td>4902</td>\n",
       "      <td>Customer</td>\n",
       "      <td>1984.0</td>\n",
       "      <td>Male</td>\n",
       "      <td>No</td>\n",
       "    </tr>\n",
       "    <tr>\n",
       "      <th>1</th>\n",
       "      <td>42521</td>\n",
       "      <td>53:21.8</td>\n",
       "      <td>42:03.1</td>\n",
       "      <td>23.0</td>\n",
       "      <td>The Embarcadero at Steuart St</td>\n",
       "      <td>37.791464</td>\n",
       "      <td>-122.391034</td>\n",
       "      <td>81.0</td>\n",
       "      <td>Berry St at 4th St</td>\n",
       "      <td>37.775880</td>\n",
       "      <td>-122.393170</td>\n",
       "      <td>2535</td>\n",
       "      <td>Customer</td>\n",
       "      <td>NaN</td>\n",
       "      <td>NaN</td>\n",
       "      <td>No</td>\n",
       "    </tr>\n",
       "    <tr>\n",
       "      <th>2</th>\n",
       "      <td>61854</td>\n",
       "      <td>13:13.2</td>\n",
       "      <td>24:08.1</td>\n",
       "      <td>86.0</td>\n",
       "      <td>Market St at Dolores St</td>\n",
       "      <td>37.769305</td>\n",
       "      <td>-122.426826</td>\n",
       "      <td>3.0</td>\n",
       "      <td>Powell St BART Station (Market St at 4th St)</td>\n",
       "      <td>37.786375</td>\n",
       "      <td>-122.404904</td>\n",
       "      <td>5905</td>\n",
       "      <td>Customer</td>\n",
       "      <td>1972.0</td>\n",
       "      <td>Male</td>\n",
       "      <td>No</td>\n",
       "    </tr>\n",
       "    <tr>\n",
       "      <th>3</th>\n",
       "      <td>36490</td>\n",
       "      <td>54:26.0</td>\n",
       "      <td>02:36.8</td>\n",
       "      <td>375.0</td>\n",
       "      <td>Grove St at Masonic Ave</td>\n",
       "      <td>37.774836</td>\n",
       "      <td>-122.446546</td>\n",
       "      <td>70.0</td>\n",
       "      <td>Central Ave at Fell St</td>\n",
       "      <td>37.773311</td>\n",
       "      <td>-122.444293</td>\n",
       "      <td>6638</td>\n",
       "      <td>Subscriber</td>\n",
       "      <td>1989.0</td>\n",
       "      <td>Other</td>\n",
       "      <td>No</td>\n",
       "    </tr>\n",
       "    <tr>\n",
       "      <th>4</th>\n",
       "      <td>1585</td>\n",
       "      <td>54:18.5</td>\n",
       "      <td>20:44.1</td>\n",
       "      <td>7.0</td>\n",
       "      <td>Frank H Ogawa Plaza</td>\n",
       "      <td>37.804562</td>\n",
       "      <td>-122.271738</td>\n",
       "      <td>222.0</td>\n",
       "      <td>10th Ave at E 15th St</td>\n",
       "      <td>37.792714</td>\n",
       "      <td>-122.248780</td>\n",
       "      <td>4898</td>\n",
       "      <td>Subscriber</td>\n",
       "      <td>1974.0</td>\n",
       "      <td>Male</td>\n",
       "      <td>Yes</td>\n",
       "    </tr>\n",
       "    <tr>\n",
       "      <th>5</th>\n",
       "      <td>1793</td>\n",
       "      <td>49:58.6</td>\n",
       "      <td>19:51.8</td>\n",
       "      <td>93.0</td>\n",
       "      <td>4th St at Mission Bay Blvd S</td>\n",
       "      <td>37.770407</td>\n",
       "      <td>-122.391198</td>\n",
       "      <td>323.0</td>\n",
       "      <td>Broadway at Kearny</td>\n",
       "      <td>37.798014</td>\n",
       "      <td>-122.405950</td>\n",
       "      <td>5200</td>\n",
       "      <td>Subscriber</td>\n",
       "      <td>1959.0</td>\n",
       "      <td>Male</td>\n",
       "      <td>No</td>\n",
       "    </tr>\n",
       "    <tr>\n",
       "      <th>6</th>\n",
       "      <td>1147</td>\n",
       "      <td>55:35.1</td>\n",
       "      <td>14:42.6</td>\n",
       "      <td>300.0</td>\n",
       "      <td>Palm St at Willow St</td>\n",
       "      <td>37.317298</td>\n",
       "      <td>-121.884995</td>\n",
       "      <td>312.0</td>\n",
       "      <td>San Jose Diridon Station</td>\n",
       "      <td>37.329732</td>\n",
       "      <td>-121.901782</td>\n",
       "      <td>3803</td>\n",
       "      <td>Subscriber</td>\n",
       "      <td>1983.0</td>\n",
       "      <td>Female</td>\n",
       "      <td>No</td>\n",
       "    </tr>\n",
       "    <tr>\n",
       "      <th>7</th>\n",
       "      <td>1615</td>\n",
       "      <td>41:06.8</td>\n",
       "      <td>08:02.8</td>\n",
       "      <td>10.0</td>\n",
       "      <td>Washington St at Kearny St</td>\n",
       "      <td>37.795393</td>\n",
       "      <td>-122.404770</td>\n",
       "      <td>127.0</td>\n",
       "      <td>Valencia St at 21st St</td>\n",
       "      <td>37.756708</td>\n",
       "      <td>-122.421025</td>\n",
       "      <td>6329</td>\n",
       "      <td>Subscriber</td>\n",
       "      <td>1989.0</td>\n",
       "      <td>Male</td>\n",
       "      <td>No</td>\n",
       "    </tr>\n",
       "    <tr>\n",
       "      <th>8</th>\n",
       "      <td>1570</td>\n",
       "      <td>41:48.8</td>\n",
       "      <td>07:59.7</td>\n",
       "      <td>10.0</td>\n",
       "      <td>Washington St at Kearny St</td>\n",
       "      <td>37.795393</td>\n",
       "      <td>-122.404770</td>\n",
       "      <td>127.0</td>\n",
       "      <td>Valencia St at 21st St</td>\n",
       "      <td>37.756708</td>\n",
       "      <td>-122.421025</td>\n",
       "      <td>6548</td>\n",
       "      <td>Subscriber</td>\n",
       "      <td>1988.0</td>\n",
       "      <td>Other</td>\n",
       "      <td>No</td>\n",
       "    </tr>\n",
       "    <tr>\n",
       "      <th>9</th>\n",
       "      <td>1049</td>\n",
       "      <td>49:47.7</td>\n",
       "      <td>07:17.0</td>\n",
       "      <td>19.0</td>\n",
       "      <td>Post St at Kearny St</td>\n",
       "      <td>37.788975</td>\n",
       "      <td>-122.403452</td>\n",
       "      <td>121.0</td>\n",
       "      <td>Mission Playground</td>\n",
       "      <td>37.759210</td>\n",
       "      <td>-122.421339</td>\n",
       "      <td>6488</td>\n",
       "      <td>Subscriber</td>\n",
       "      <td>1992.0</td>\n",
       "      <td>Male</td>\n",
       "      <td>No</td>\n",
       "    </tr>\n",
       "    <tr>\n",
       "      <th>10</th>\n",
       "      <td>458</td>\n",
       "      <td>57:57.2</td>\n",
       "      <td>05:35.4</td>\n",
       "      <td>370.0</td>\n",
       "      <td>Jones St at Post St</td>\n",
       "      <td>37.787327</td>\n",
       "      <td>-122.413278</td>\n",
       "      <td>43.0</td>\n",
       "      <td>San Francisco Public Library (Grove St at Hyde...</td>\n",
       "      <td>37.778768</td>\n",
       "      <td>-122.415929</td>\n",
       "      <td>5318</td>\n",
       "      <td>Subscriber</td>\n",
       "      <td>1996.0</td>\n",
       "      <td>Female</td>\n",
       "      <td>Yes</td>\n",
       "    </tr>\n",
       "    <tr>\n",
       "      <th>11</th>\n",
       "      <td>506</td>\n",
       "      <td>56:55.5</td>\n",
       "      <td>05:21.7</td>\n",
       "      <td>44.0</td>\n",
       "      <td>Civic Center/UN Plaza BART Station (Market St ...</td>\n",
       "      <td>37.781074</td>\n",
       "      <td>-122.411738</td>\n",
       "      <td>343.0</td>\n",
       "      <td>Bryant St at 2nd St</td>\n",
       "      <td>37.783172</td>\n",
       "      <td>-122.393572</td>\n",
       "      <td>5848</td>\n",
       "      <td>Subscriber</td>\n",
       "      <td>1993.0</td>\n",
       "      <td>Male</td>\n",
       "      <td>No</td>\n",
       "    </tr>\n",
       "    <tr>\n",
       "      <th>12</th>\n",
       "      <td>1176</td>\n",
       "      <td>45:12.7</td>\n",
       "      <td>04:49.2</td>\n",
       "      <td>127.0</td>\n",
       "      <td>Valencia St at 21st St</td>\n",
       "      <td>37.756708</td>\n",
       "      <td>-122.421025</td>\n",
       "      <td>323.0</td>\n",
       "      <td>Broadway at Kearny</td>\n",
       "      <td>37.798014</td>\n",
       "      <td>-122.405950</td>\n",
       "      <td>5328</td>\n",
       "      <td>Customer</td>\n",
       "      <td>1990.0</td>\n",
       "      <td>Male</td>\n",
       "      <td>No</td>\n",
       "    </tr>\n",
       "    <tr>\n",
       "      <th>13</th>\n",
       "      <td>915</td>\n",
       "      <td>49:06.1</td>\n",
       "      <td>04:21.9</td>\n",
       "      <td>252.0</td>\n",
       "      <td>Channing Way at Shattuck Ave</td>\n",
       "      <td>37.865847</td>\n",
       "      <td>-122.267443</td>\n",
       "      <td>244.0</td>\n",
       "      <td>Shattuck Ave at Hearst Ave</td>\n",
       "      <td>37.873676</td>\n",
       "      <td>-122.268487</td>\n",
       "      <td>5101</td>\n",
       "      <td>Subscriber</td>\n",
       "      <td>NaN</td>\n",
       "      <td>NaN</td>\n",
       "      <td>No</td>\n",
       "    </tr>\n",
       "    <tr>\n",
       "      <th>14</th>\n",
       "      <td>395</td>\n",
       "      <td>56:26.8</td>\n",
       "      <td>03:01.9</td>\n",
       "      <td>243.0</td>\n",
       "      <td>Bancroft Way at College Ave</td>\n",
       "      <td>37.869360</td>\n",
       "      <td>-122.254337</td>\n",
       "      <td>252.0</td>\n",
       "      <td>Channing Way at Shattuck Ave</td>\n",
       "      <td>37.865847</td>\n",
       "      <td>-122.267443</td>\n",
       "      <td>4786</td>\n",
       "      <td>Subscriber</td>\n",
       "      <td>1988.0</td>\n",
       "      <td>Male</td>\n",
       "      <td>No</td>\n",
       "    </tr>\n",
       "  </tbody>\n",
       "</table>\n",
       "</div>"
      ],
      "text/plain": [
       "    duration_sec start_time end_time  start_station_id  \\\n",
       "0          52185    32:10.1  01:56.0              21.0   \n",
       "1          42521    53:21.8  42:03.1              23.0   \n",
       "2          61854    13:13.2  24:08.1              86.0   \n",
       "3          36490    54:26.0  02:36.8             375.0   \n",
       "4           1585    54:18.5  20:44.1               7.0   \n",
       "5           1793    49:58.6  19:51.8              93.0   \n",
       "6           1147    55:35.1  14:42.6             300.0   \n",
       "7           1615    41:06.8  08:02.8              10.0   \n",
       "8           1570    41:48.8  07:59.7              10.0   \n",
       "9           1049    49:47.7  07:17.0              19.0   \n",
       "10           458    57:57.2  05:35.4             370.0   \n",
       "11           506    56:55.5  05:21.7              44.0   \n",
       "12          1176    45:12.7  04:49.2             127.0   \n",
       "13           915    49:06.1  04:21.9             252.0   \n",
       "14           395    56:26.8  03:01.9             243.0   \n",
       "\n",
       "                                   start_station_name  start_station_latitude  \\\n",
       "0    Montgomery St BART Station (Market St at 2nd St)               37.789625   \n",
       "1                       The Embarcadero at Steuart St               37.791464   \n",
       "2                             Market St at Dolores St               37.769305   \n",
       "3                             Grove St at Masonic Ave               37.774836   \n",
       "4                                 Frank H Ogawa Plaza               37.804562   \n",
       "5                        4th St at Mission Bay Blvd S               37.770407   \n",
       "6                                Palm St at Willow St               37.317298   \n",
       "7                          Washington St at Kearny St               37.795393   \n",
       "8                          Washington St at Kearny St               37.795393   \n",
       "9                                Post St at Kearny St               37.788975   \n",
       "10                                Jones St at Post St               37.787327   \n",
       "11  Civic Center/UN Plaza BART Station (Market St ...               37.781074   \n",
       "12                             Valencia St at 21st St               37.756708   \n",
       "13                       Channing Way at Shattuck Ave               37.865847   \n",
       "14                        Bancroft Way at College Ave               37.869360   \n",
       "\n",
       "    start_station_longitude  end_station_id  \\\n",
       "0               -122.400811            13.0   \n",
       "1               -122.391034            81.0   \n",
       "2               -122.426826             3.0   \n",
       "3               -122.446546            70.0   \n",
       "4               -122.271738           222.0   \n",
       "5               -122.391198           323.0   \n",
       "6               -121.884995           312.0   \n",
       "7               -122.404770           127.0   \n",
       "8               -122.404770           127.0   \n",
       "9               -122.403452           121.0   \n",
       "10              -122.413278            43.0   \n",
       "11              -122.411738           343.0   \n",
       "12              -122.421025           323.0   \n",
       "13              -122.267443           244.0   \n",
       "14              -122.254337           252.0   \n",
       "\n",
       "                                     end_station_name  end_station_latitude  \\\n",
       "0                      Commercial St at Montgomery St             37.794231   \n",
       "1                                  Berry St at 4th St             37.775880   \n",
       "2        Powell St BART Station (Market St at 4th St)             37.786375   \n",
       "3                              Central Ave at Fell St             37.773311   \n",
       "4                               10th Ave at E 15th St             37.792714   \n",
       "5                                  Broadway at Kearny             37.798014   \n",
       "6                            San Jose Diridon Station             37.329732   \n",
       "7                              Valencia St at 21st St             37.756708   \n",
       "8                              Valencia St at 21st St             37.756708   \n",
       "9                                  Mission Playground             37.759210   \n",
       "10  San Francisco Public Library (Grove St at Hyde...             37.778768   \n",
       "11                                Bryant St at 2nd St             37.783172   \n",
       "12                                 Broadway at Kearny             37.798014   \n",
       "13                         Shattuck Ave at Hearst Ave             37.873676   \n",
       "14                       Channing Way at Shattuck Ave             37.865847   \n",
       "\n",
       "    end_station_longitude  bike_id   user_type  member_birth_year  \\\n",
       "0             -122.402923     4902    Customer             1984.0   \n",
       "1             -122.393170     2535    Customer                NaN   \n",
       "2             -122.404904     5905    Customer             1972.0   \n",
       "3             -122.444293     6638  Subscriber             1989.0   \n",
       "4             -122.248780     4898  Subscriber             1974.0   \n",
       "5             -122.405950     5200  Subscriber             1959.0   \n",
       "6             -121.901782     3803  Subscriber             1983.0   \n",
       "7             -122.421025     6329  Subscriber             1989.0   \n",
       "8             -122.421025     6548  Subscriber             1988.0   \n",
       "9             -122.421339     6488  Subscriber             1992.0   \n",
       "10            -122.415929     5318  Subscriber             1996.0   \n",
       "11            -122.393572     5848  Subscriber             1993.0   \n",
       "12            -122.405950     5328    Customer             1990.0   \n",
       "13            -122.268487     5101  Subscriber                NaN   \n",
       "14            -122.267443     4786  Subscriber             1988.0   \n",
       "\n",
       "   member_gender bike_share_for_all_trip  \n",
       "0           Male                      No  \n",
       "1            NaN                      No  \n",
       "2           Male                      No  \n",
       "3          Other                      No  \n",
       "4           Male                     Yes  \n",
       "5           Male                      No  \n",
       "6         Female                      No  \n",
       "7           Male                      No  \n",
       "8          Other                      No  \n",
       "9           Male                      No  \n",
       "10        Female                     Yes  \n",
       "11          Male                      No  \n",
       "12          Male                      No  \n",
       "13           NaN                      No  \n",
       "14          Male                      No  "
      ]
     },
     "execution_count": 7,
     "metadata": {},
     "output_type": "execute_result"
    }
   ],
   "source": [
    "## I display 15 rows to understand the content values more \n",
    "df.head(15)"
   ]
  },
  {
   "cell_type": "code",
   "execution_count": 66,
   "id": "2ea7b86a",
   "metadata": {
    "execution": {
     "iopub.execute_input": "2024-05-08T19:18:48.785984Z",
     "iopub.status.busy": "2024-05-08T19:18:48.785173Z",
     "iopub.status.idle": "2024-05-08T19:18:48.917818Z",
     "shell.execute_reply": "2024-05-08T19:18:48.916122Z"
    },
    "papermill": {
     "duration": 0.156422,
     "end_time": "2024-05-08T19:18:48.920941",
     "exception": false,
     "start_time": "2024-05-08T19:18:48.764519",
     "status": "completed"
    },
    "tags": []
   },
   "outputs": [
    {
     "data": {
      "text/html": [
       "<style type=\"text/css\">\n",
       "#T_94648_row0_col0, #T_94648_row0_col1, #T_94648_row0_col2, #T_94648_row0_col3, #T_94648_row0_col4, #T_94648_row0_col5, #T_94648_row0_col6, #T_94648_row0_col7, #T_94648_row0_col8 {\n",
       "  background-color: #08306b;\n",
       "  color: #f1f1f1;\n",
       "}\n",
       "#T_94648_row1_col0, #T_94648_row1_col1, #T_94648_row1_col2, #T_94648_row1_col3, #T_94648_row1_col4, #T_94648_row1_col5, #T_94648_row1_col6, #T_94648_row2_col1, #T_94648_row2_col2, #T_94648_row2_col3, #T_94648_row2_col4, #T_94648_row2_col5, #T_94648_row2_col6, #T_94648_row2_col8, #T_94648_row3_col0, #T_94648_row3_col1, #T_94648_row3_col2, #T_94648_row3_col3, #T_94648_row3_col4, #T_94648_row3_col5, #T_94648_row3_col6, #T_94648_row3_col7, #T_94648_row4_col0, #T_94648_row4_col1, #T_94648_row4_col2, #T_94648_row4_col3, #T_94648_row4_col4, #T_94648_row4_col5, #T_94648_row4_col6, #T_94648_row5_col0, #T_94648_row5_col1, #T_94648_row5_col2, #T_94648_row5_col3, #T_94648_row5_col4, #T_94648_row5_col5, #T_94648_row5_col6, #T_94648_row6_col1, #T_94648_row6_col2, #T_94648_row6_col3, #T_94648_row6_col4, #T_94648_row6_col5, #T_94648_row6_col6, #T_94648_row7_col1, #T_94648_row7_col2, #T_94648_row7_col3, #T_94648_row7_col4, #T_94648_row7_col5, #T_94648_row7_col6 {\n",
       "  background-color: #f7fbff;\n",
       "  color: #000000;\n",
       "}\n",
       "#T_94648_row1_col7, #T_94648_row5_col7 {\n",
       "  background-color: #f2f8fd;\n",
       "  color: #000000;\n",
       "}\n",
       "#T_94648_row1_col8, #T_94648_row2_col0, #T_94648_row2_col7, #T_94648_row3_col8, #T_94648_row4_col8, #T_94648_row5_col8, #T_94648_row6_col8, #T_94648_row7_col8 {\n",
       "  background-color: #f5fafe;\n",
       "  color: #000000;\n",
       "}\n",
       "#T_94648_row4_col7 {\n",
       "  background-color: #f3f8fe;\n",
       "  color: #000000;\n",
       "}\n",
       "#T_94648_row6_col0 {\n",
       "  background-color: #f6faff;\n",
       "  color: #000000;\n",
       "}\n",
       "#T_94648_row6_col7 {\n",
       "  background-color: #f2f7fd;\n",
       "  color: #000000;\n",
       "}\n",
       "#T_94648_row7_col0 {\n",
       "  background-color: #79b5d9;\n",
       "  color: #000000;\n",
       "}\n",
       "#T_94648_row7_col7 {\n",
       "  background-color: #f0f6fd;\n",
       "  color: #000000;\n",
       "}\n",
       "</style>\n",
       "<table id=\"T_94648\">\n",
       "  <thead>\n",
       "    <tr>\n",
       "      <th class=\"blank level0\" >&nbsp;</th>\n",
       "      <th id=\"T_94648_level0_col0\" class=\"col_heading level0 col0\" >duration_sec</th>\n",
       "      <th id=\"T_94648_level0_col1\" class=\"col_heading level0 col1\" >start_station_id</th>\n",
       "      <th id=\"T_94648_level0_col2\" class=\"col_heading level0 col2\" >start_station_latitude</th>\n",
       "      <th id=\"T_94648_level0_col3\" class=\"col_heading level0 col3\" >start_station_longitude</th>\n",
       "      <th id=\"T_94648_level0_col4\" class=\"col_heading level0 col4\" >end_station_id</th>\n",
       "      <th id=\"T_94648_level0_col5\" class=\"col_heading level0 col5\" >end_station_latitude</th>\n",
       "      <th id=\"T_94648_level0_col6\" class=\"col_heading level0 col6\" >end_station_longitude</th>\n",
       "      <th id=\"T_94648_level0_col7\" class=\"col_heading level0 col7\" >bike_id</th>\n",
       "      <th id=\"T_94648_level0_col8\" class=\"col_heading level0 col8\" >member_birth_year</th>\n",
       "    </tr>\n",
       "  </thead>\n",
       "  <tbody>\n",
       "    <tr>\n",
       "      <th id=\"T_94648_level0_row0\" class=\"row_heading level0 row0\" >count</th>\n",
       "      <td id=\"T_94648_row0_col0\" class=\"data row0 col0\" >183416.00</td>\n",
       "      <td id=\"T_94648_row0_col1\" class=\"data row0 col1\" >183416.00</td>\n",
       "      <td id=\"T_94648_row0_col2\" class=\"data row0 col2\" >183416.00</td>\n",
       "      <td id=\"T_94648_row0_col3\" class=\"data row0 col3\" >183416.00</td>\n",
       "      <td id=\"T_94648_row0_col4\" class=\"data row0 col4\" >183416.00</td>\n",
       "      <td id=\"T_94648_row0_col5\" class=\"data row0 col5\" >183416.00</td>\n",
       "      <td id=\"T_94648_row0_col6\" class=\"data row0 col6\" >183416.00</td>\n",
       "      <td id=\"T_94648_row0_col7\" class=\"data row0 col7\" >183416.00</td>\n",
       "      <td id=\"T_94648_row0_col8\" class=\"data row0 col8\" >183416.00</td>\n",
       "    </tr>\n",
       "    <tr>\n",
       "      <th id=\"T_94648_level0_row1\" class=\"row_heading level0 row1\" >mean</th>\n",
       "      <td id=\"T_94648_row1_col0\" class=\"data row1 col0\" >726.07</td>\n",
       "      <td id=\"T_94648_row1_col1\" class=\"data row1 col1\" >138.55</td>\n",
       "      <td id=\"T_94648_row1_col2\" class=\"data row1 col2\" >37.77</td>\n",
       "      <td id=\"T_94648_row1_col3\" class=\"data row1 col3\" >-122.35</td>\n",
       "      <td id=\"T_94648_row1_col4\" class=\"data row1 col4\" >136.21</td>\n",
       "      <td id=\"T_94648_row1_col5\" class=\"data row1 col5\" >37.77</td>\n",
       "      <td id=\"T_94648_row1_col6\" class=\"data row1 col6\" >-122.35</td>\n",
       "      <td id=\"T_94648_row1_col7\" class=\"data row1 col7\" >4472.89</td>\n",
       "      <td id=\"T_94648_row1_col8\" class=\"data row1 col8\" >1984.91</td>\n",
       "    </tr>\n",
       "    <tr>\n",
       "      <th id=\"T_94648_level0_row2\" class=\"row_heading level0 row2\" >std</th>\n",
       "      <td id=\"T_94648_row2_col0\" class=\"data row2 col0\" >1794.37</td>\n",
       "      <td id=\"T_94648_row2_col1\" class=\"data row2 col1\" >111.72</td>\n",
       "      <td id=\"T_94648_row2_col2\" class=\"data row2 col2\" >0.10</td>\n",
       "      <td id=\"T_94648_row2_col3\" class=\"data row2 col3\" >0.12</td>\n",
       "      <td id=\"T_94648_row2_col4\" class=\"data row2 col4\" >111.46</td>\n",
       "      <td id=\"T_94648_row2_col5\" class=\"data row2 col5\" >0.10</td>\n",
       "      <td id=\"T_94648_row2_col6\" class=\"data row2 col6\" >0.12</td>\n",
       "      <td id=\"T_94648_row2_col7\" class=\"data row2 col7\" >1664.39</td>\n",
       "      <td id=\"T_94648_row2_col8\" class=\"data row2 col8\" >9.90</td>\n",
       "    </tr>\n",
       "    <tr>\n",
       "      <th id=\"T_94648_level0_row3\" class=\"row_heading level0 row3\" >min</th>\n",
       "      <td id=\"T_94648_row3_col0\" class=\"data row3 col0\" >61.00</td>\n",
       "      <td id=\"T_94648_row3_col1\" class=\"data row3 col1\" >3.00</td>\n",
       "      <td id=\"T_94648_row3_col2\" class=\"data row3 col2\" >37.32</td>\n",
       "      <td id=\"T_94648_row3_col3\" class=\"data row3 col3\" >-122.45</td>\n",
       "      <td id=\"T_94648_row3_col4\" class=\"data row3 col4\" >3.00</td>\n",
       "      <td id=\"T_94648_row3_col5\" class=\"data row3 col5\" >37.32</td>\n",
       "      <td id=\"T_94648_row3_col6\" class=\"data row3 col6\" >-122.45</td>\n",
       "      <td id=\"T_94648_row3_col7\" class=\"data row3 col7\" >11.00</td>\n",
       "      <td id=\"T_94648_row3_col8\" class=\"data row3 col8\" >1878.00</td>\n",
       "    </tr>\n",
       "    <tr>\n",
       "      <th id=\"T_94648_level0_row4\" class=\"row_heading level0 row4\" >25%</th>\n",
       "      <td id=\"T_94648_row4_col0\" class=\"data row4 col0\" >325.00</td>\n",
       "      <td id=\"T_94648_row4_col1\" class=\"data row4 col1\" >47.00</td>\n",
       "      <td id=\"T_94648_row4_col2\" class=\"data row4 col2\" >37.77</td>\n",
       "      <td id=\"T_94648_row4_col3\" class=\"data row4 col3\" >-122.41</td>\n",
       "      <td id=\"T_94648_row4_col4\" class=\"data row4 col4\" >44.00</td>\n",
       "      <td id=\"T_94648_row4_col5\" class=\"data row4 col5\" >37.77</td>\n",
       "      <td id=\"T_94648_row4_col6\" class=\"data row4 col6\" >-122.41</td>\n",
       "      <td id=\"T_94648_row4_col7\" class=\"data row4 col7\" >3777.00</td>\n",
       "      <td id=\"T_94648_row4_col8\" class=\"data row4 col8\" >1981.00</td>\n",
       "    </tr>\n",
       "    <tr>\n",
       "      <th id=\"T_94648_level0_row5\" class=\"row_heading level0 row5\" >50%</th>\n",
       "      <td id=\"T_94648_row5_col0\" class=\"data row5 col0\" >514.00</td>\n",
       "      <td id=\"T_94648_row5_col1\" class=\"data row5 col1\" >104.00</td>\n",
       "      <td id=\"T_94648_row5_col2\" class=\"data row5 col2\" >37.78</td>\n",
       "      <td id=\"T_94648_row5_col3\" class=\"data row5 col3\" >-122.40</td>\n",
       "      <td id=\"T_94648_row5_col4\" class=\"data row5 col4\" >100.00</td>\n",
       "      <td id=\"T_94648_row5_col5\" class=\"data row5 col5\" >37.78</td>\n",
       "      <td id=\"T_94648_row5_col6\" class=\"data row5 col6\" >-122.40</td>\n",
       "      <td id=\"T_94648_row5_col7\" class=\"data row5 col7\" >4958.00</td>\n",
       "      <td id=\"T_94648_row5_col8\" class=\"data row5 col8\" >1987.00</td>\n",
       "    </tr>\n",
       "    <tr>\n",
       "      <th id=\"T_94648_level0_row6\" class=\"row_heading level0 row6\" >75%</th>\n",
       "      <td id=\"T_94648_row6_col0\" class=\"data row6 col0\" >796.00</td>\n",
       "      <td id=\"T_94648_row6_col1\" class=\"data row6 col1\" >239.00</td>\n",
       "      <td id=\"T_94648_row6_col2\" class=\"data row6 col2\" >37.80</td>\n",
       "      <td id=\"T_94648_row6_col3\" class=\"data row6 col3\" >-122.29</td>\n",
       "      <td id=\"T_94648_row6_col4\" class=\"data row6 col4\" >235.00</td>\n",
       "      <td id=\"T_94648_row6_col5\" class=\"data row6 col5\" >37.80</td>\n",
       "      <td id=\"T_94648_row6_col6\" class=\"data row6 col6\" >-122.29</td>\n",
       "      <td id=\"T_94648_row6_col7\" class=\"data row6 col7\" >5502.00</td>\n",
       "      <td id=\"T_94648_row6_col8\" class=\"data row6 col8\" >1992.00</td>\n",
       "    </tr>\n",
       "    <tr>\n",
       "      <th id=\"T_94648_level0_row7\" class=\"row_heading level0 row7\" >max</th>\n",
       "      <td id=\"T_94648_row7_col0\" class=\"data row7 col0\" >85444.00</td>\n",
       "      <td id=\"T_94648_row7_col1\" class=\"data row7 col1\" >398.00</td>\n",
       "      <td id=\"T_94648_row7_col2\" class=\"data row7 col2\" >37.88</td>\n",
       "      <td id=\"T_94648_row7_col3\" class=\"data row7 col3\" >-121.87</td>\n",
       "      <td id=\"T_94648_row7_col4\" class=\"data row7 col4\" >398.00</td>\n",
       "      <td id=\"T_94648_row7_col5\" class=\"data row7 col5\" >37.88</td>\n",
       "      <td id=\"T_94648_row7_col6\" class=\"data row7 col6\" >-121.87</td>\n",
       "      <td id=\"T_94648_row7_col7\" class=\"data row7 col7\" >6645.00</td>\n",
       "      <td id=\"T_94648_row7_col8\" class=\"data row7 col8\" >2001.00</td>\n",
       "    </tr>\n",
       "  </tbody>\n",
       "</table>\n"
      ],
      "text/plain": [
       "<pandas.io.formats.style.Styler at 0x1c4077bee40>"
      ]
     },
     "execution_count": 66,
     "metadata": {},
     "output_type": "execute_result"
    }
   ],
   "source": [
    "# descriptive statistics for numeric variables\n",
    "df.describe().style.background_gradient(cmap='Blues').format(precision=2)"
   ]
  },
  {
   "cell_type": "markdown",
   "id": "4eae9eea",
   "metadata": {
    "execution": {
     "iopub.execute_input": "2022-07-09T14:43:28.843544Z",
     "iopub.status.busy": "2022-07-09T14:43:28.843133Z",
     "iopub.status.idle": "2022-07-09T14:43:29.410168Z",
     "shell.execute_reply": "2022-07-09T14:43:29.409279Z",
     "shell.execute_reply.started": "2022-07-09T14:43:28.84351Z"
    },
    "papermill": {
     "duration": 0.01949,
     "end_time": "2024-05-08T19:18:48.959466",
     "exception": false,
     "start_time": "2024-05-08T19:18:48.939976",
     "status": "completed"
    },
    "tags": []
   },
   "source": [
    "\n",
    "\n",
    "> ### What is the structure of your dataset?\n",
    "\n",
    "- The structure of the dataset contains 16 columns and 183,412 rows.\n",
    " \n",
    "- Most variables are numeric and categorical in nature , and here are **dtypes summary :**\n",
    "\n",
    "        - float64 (7) : numerical values [start_station_id, start_station_latitude ,start_station_longitude, end_station_id , end_station_latitude , end_station_longitude ]\n",
    "\n",
    "        - int64 (2) : text data [start_time , end_time , member_gender , bike_share_for_all_trip , start_station_name , end_station_name , user_type]\n",
    "        - object (7) : [duration_sec ,bike_id ]\n",
    "        \n",
    "\n",
    "\n",
    "\n",
    "\n",
    "\n",
    "\n",
    "> ### What are the main interesting features in the dataset?\n",
    "\n",
    " **We got three main feature areas which are :**\n",
    " \n",
    "- Trip Characteristics – duration, start time, end time, start and end stations, and locations. \n",
    " \n",
    "- User Demographics – user type (Subscriber or Customer), gender, and birth year.\n",
    "  \n",
    "- Temporal Information – time of day, day of week, or month when trips occur.\n",
    " \n",
    "\n",
    "\n",
    "\n",
    "\n",
    "\n",
    "\n",
    "\n",
    "> ### What features in the dataset supported my investigation for these interesting features?\n",
    "\n",
    "\n",
    "- Trip Duration (seconds) → used to analyze how long users typically ride.\n",
    "\n",
    "- Latitude & Longitude (for stations) → used for geographical visualization and clustering.\n",
    "\n",
    "- Start Time & End Time → used to explore patterns across hours, weekdays, or months.\n",
    "\n",
    "- Start Station & End Station → used to identify popular routes or stations.\n",
    "\n",
    "- User Type → helps compare subscribers vs casual customers\n",
    "\n",
    "- Member Gender and Birth Year → used to understand the demographics of riders.\n",
    "\n",
    "\n"
   ]
  },
  {
   "cell_type": "markdown",
   "id": "c2f86aee",
   "metadata": {
    "execution": {
     "iopub.execute_input": "2022-07-30T03:19:48.371337Z",
     "iopub.status.busy": "2022-07-30T03:19:48.370908Z",
     "iopub.status.idle": "2022-07-30T03:19:48.376456Z",
     "shell.execute_reply": "2022-07-30T03:19:48.375263Z",
     "shell.execute_reply.started": "2022-07-30T03:19:48.371292Z"
    },
    "papermill": {
     "duration": 0.018643,
     "end_time": "2024-05-08T19:18:48.997310",
     "exception": false,
     "start_time": "2024-05-08T19:18:48.978667",
     "status": "completed"
    },
    "tags": []
   },
   "source": [
    "##  More Exploring ideas to begin my investigation"
   ]
  },
  {
   "cell_type": "code",
   "execution_count": 71,
   "id": "67439e25",
   "metadata": {
    "execution": {
     "iopub.execute_input": "2024-05-08T19:18:49.038282Z",
     "iopub.status.busy": "2024-05-08T19:18:49.037800Z",
     "iopub.status.idle": "2024-05-08T19:18:49.168949Z",
     "shell.execute_reply": "2024-05-08T19:18:49.167261Z"
    },
    "papermill": {
     "duration": 0.155189,
     "end_time": "2024-05-08T19:18:49.172375",
     "exception": false,
     "start_time": "2024-05-08T19:18:49.017186",
     "status": "completed"
    },
    "tags": []
   },
   "outputs": [
    {
     "data": {
      "text/html": [
       "<style type=\"text/css\">\n",
       "#T_0b969_row0_col0, #T_0b969_row1_col0, #T_0b969_row2_col0, #T_0b969_row2_col2, #T_0b969_row2_col7, #T_0b969_row3_col0, #T_0b969_row3_col1, #T_0b969_row3_col2, #T_0b969_row3_col3, #T_0b969_row3_col4, #T_0b969_row3_col5, #T_0b969_row3_col6, #T_0b969_row3_col7, #T_0b969_row4_col0, #T_0b969_row5_col0, #T_0b969_row5_col2, #T_0b969_row5_col7, #T_0b969_row6_col0, #T_0b969_row6_col1, #T_0b969_row6_col2, #T_0b969_row6_col3, #T_0b969_row6_col4, #T_0b969_row6_col5, #T_0b969_row6_col6, #T_0b969_row6_col7, #T_0b969_row7_col0, #T_0b969_row8_col0 {\n",
       "  background-color: #f7fbff;\n",
       "  color: #000000;\n",
       "}\n",
       "#T_0b969_row0_col1 {\n",
       "  background-color: #d3e3f3;\n",
       "  color: #000000;\n",
       "}\n",
       "#T_0b969_row0_col2, #T_0b969_row0_col7, #T_0b969_row7_col1, #T_0b969_row7_col4, #T_0b969_row7_col5, #T_0b969_row7_col6, #T_0b969_row8_col3 {\n",
       "  background-color: #08306b;\n",
       "  color: #f1f1f1;\n",
       "}\n",
       "#T_0b969_row0_col3 {\n",
       "  background-color: #e5eff9;\n",
       "  color: #000000;\n",
       "}\n",
       "#T_0b969_row0_col4 {\n",
       "  background-color: #e0ecf8;\n",
       "  color: #000000;\n",
       "}\n",
       "#T_0b969_row0_col5 {\n",
       "  background-color: #deebf7;\n",
       "  color: #000000;\n",
       "}\n",
       "#T_0b969_row0_col6 {\n",
       "  background-color: #d7e6f5;\n",
       "  color: #000000;\n",
       "}\n",
       "#T_0b969_row1_col1, #T_0b969_row4_col1 {\n",
       "  background-color: #ecf4fb;\n",
       "  color: #000000;\n",
       "}\n",
       "#T_0b969_row1_col2, #T_0b969_row4_col2 {\n",
       "  background-color: #ebf3fb;\n",
       "  color: #000000;\n",
       "}\n",
       "#T_0b969_row1_col3, #T_0b969_row1_col6, #T_0b969_row4_col3, #T_0b969_row4_col6 {\n",
       "  background-color: #eaf3fb;\n",
       "  color: #000000;\n",
       "}\n",
       "#T_0b969_row1_col4, #T_0b969_row1_col5, #T_0b969_row4_col5 {\n",
       "  background-color: #eef5fc;\n",
       "  color: #000000;\n",
       "}\n",
       "#T_0b969_row1_col7, #T_0b969_row4_col7, #T_0b969_row8_col2 {\n",
       "  background-color: #f6faff;\n",
       "  color: #000000;\n",
       "}\n",
       "#T_0b969_row2_col1, #T_0b969_row2_col5, #T_0b969_row5_col1, #T_0b969_row5_col5 {\n",
       "  background-color: #f1f7fd;\n",
       "  color: #000000;\n",
       "}\n",
       "#T_0b969_row2_col3, #T_0b969_row5_col3, #T_0b969_row7_col7 {\n",
       "  background-color: #e7f1fa;\n",
       "  color: #000000;\n",
       "}\n",
       "#T_0b969_row2_col4, #T_0b969_row4_col4, #T_0b969_row5_col4 {\n",
       "  background-color: #eff6fc;\n",
       "  color: #000000;\n",
       "}\n",
       "#T_0b969_row2_col6, #T_0b969_row5_col6 {\n",
       "  background-color: #f2f7fd;\n",
       "  color: #000000;\n",
       "}\n",
       "#T_0b969_row7_col2 {\n",
       "  background-color: #084387;\n",
       "  color: #f1f1f1;\n",
       "}\n",
       "#T_0b969_row7_col3 {\n",
       "  background-color: #eaf2fb;\n",
       "  color: #000000;\n",
       "}\n",
       "#T_0b969_row8_col1 {\n",
       "  background-color: #7cb7da;\n",
       "  color: #000000;\n",
       "}\n",
       "#T_0b969_row8_col4 {\n",
       "  background-color: #5da5d1;\n",
       "  color: #f1f1f1;\n",
       "}\n",
       "#T_0b969_row8_col5 {\n",
       "  background-color: #8dc1dd;\n",
       "  color: #000000;\n",
       "}\n",
       "#T_0b969_row8_col6 {\n",
       "  background-color: #9dcae1;\n",
       "  color: #000000;\n",
       "}\n",
       "#T_0b969_row8_col7 {\n",
       "  background-color: #f2f8fd;\n",
       "  color: #000000;\n",
       "}\n",
       "</style>\n",
       "<table id=\"T_0b969\">\n",
       "  <caption>Descriptive Statistics for Numerical Variables</caption>\n",
       "  <thead>\n",
       "    <tr>\n",
       "      <th class=\"blank level0\" >&nbsp;</th>\n",
       "      <th id=\"T_0b969_level0_col0\" class=\"col_heading level0 col0\" >count</th>\n",
       "      <th id=\"T_0b969_level0_col1\" class=\"col_heading level0 col1\" >mean</th>\n",
       "      <th id=\"T_0b969_level0_col2\" class=\"col_heading level0 col2\" >std</th>\n",
       "      <th id=\"T_0b969_level0_col3\" class=\"col_heading level0 col3\" >min</th>\n",
       "      <th id=\"T_0b969_level0_col4\" class=\"col_heading level0 col4\" >25%</th>\n",
       "      <th id=\"T_0b969_level0_col5\" class=\"col_heading level0 col5\" >50%</th>\n",
       "      <th id=\"T_0b969_level0_col6\" class=\"col_heading level0 col6\" >75%</th>\n",
       "      <th id=\"T_0b969_level0_col7\" class=\"col_heading level0 col7\" >max</th>\n",
       "    </tr>\n",
       "  </thead>\n",
       "  <tbody>\n",
       "    <tr>\n",
       "      <th id=\"T_0b969_level0_row0\" class=\"row_heading level0 row0\" >duration_sec</th>\n",
       "      <td id=\"T_0b969_row0_col0\" class=\"data row0 col0\" >183416.00</td>\n",
       "      <td id=\"T_0b969_row0_col1\" class=\"data row0 col1\" >726.07</td>\n",
       "      <td id=\"T_0b969_row0_col2\" class=\"data row0 col2\" >1794.37</td>\n",
       "      <td id=\"T_0b969_row0_col3\" class=\"data row0 col3\" >61.00</td>\n",
       "      <td id=\"T_0b969_row0_col4\" class=\"data row0 col4\" >325.00</td>\n",
       "      <td id=\"T_0b969_row0_col5\" class=\"data row0 col5\" >514.00</td>\n",
       "      <td id=\"T_0b969_row0_col6\" class=\"data row0 col6\" >796.00</td>\n",
       "      <td id=\"T_0b969_row0_col7\" class=\"data row0 col7\" >85444.00</td>\n",
       "    </tr>\n",
       "    <tr>\n",
       "      <th id=\"T_0b969_level0_row1\" class=\"row_heading level0 row1\" >start_station_id</th>\n",
       "      <td id=\"T_0b969_row1_col0\" class=\"data row1 col0\" >183416.00</td>\n",
       "      <td id=\"T_0b969_row1_col1\" class=\"data row1 col1\" >138.55</td>\n",
       "      <td id=\"T_0b969_row1_col2\" class=\"data row1 col2\" >111.72</td>\n",
       "      <td id=\"T_0b969_row1_col3\" class=\"data row1 col3\" >3.00</td>\n",
       "      <td id=\"T_0b969_row1_col4\" class=\"data row1 col4\" >47.00</td>\n",
       "      <td id=\"T_0b969_row1_col5\" class=\"data row1 col5\" >104.00</td>\n",
       "      <td id=\"T_0b969_row1_col6\" class=\"data row1 col6\" >239.00</td>\n",
       "      <td id=\"T_0b969_row1_col7\" class=\"data row1 col7\" >398.00</td>\n",
       "    </tr>\n",
       "    <tr>\n",
       "      <th id=\"T_0b969_level0_row2\" class=\"row_heading level0 row2\" >start_station_latitude</th>\n",
       "      <td id=\"T_0b969_row2_col0\" class=\"data row2 col0\" >183416.00</td>\n",
       "      <td id=\"T_0b969_row2_col1\" class=\"data row2 col1\" >37.77</td>\n",
       "      <td id=\"T_0b969_row2_col2\" class=\"data row2 col2\" >0.10</td>\n",
       "      <td id=\"T_0b969_row2_col3\" class=\"data row2 col3\" >37.32</td>\n",
       "      <td id=\"T_0b969_row2_col4\" class=\"data row2 col4\" >37.77</td>\n",
       "      <td id=\"T_0b969_row2_col5\" class=\"data row2 col5\" >37.78</td>\n",
       "      <td id=\"T_0b969_row2_col6\" class=\"data row2 col6\" >37.80</td>\n",
       "      <td id=\"T_0b969_row2_col7\" class=\"data row2 col7\" >37.88</td>\n",
       "    </tr>\n",
       "    <tr>\n",
       "      <th id=\"T_0b969_level0_row3\" class=\"row_heading level0 row3\" >start_station_longitude</th>\n",
       "      <td id=\"T_0b969_row3_col0\" class=\"data row3 col0\" >183416.00</td>\n",
       "      <td id=\"T_0b969_row3_col1\" class=\"data row3 col1\" >-122.35</td>\n",
       "      <td id=\"T_0b969_row3_col2\" class=\"data row3 col2\" >0.12</td>\n",
       "      <td id=\"T_0b969_row3_col3\" class=\"data row3 col3\" >-122.45</td>\n",
       "      <td id=\"T_0b969_row3_col4\" class=\"data row3 col4\" >-122.41</td>\n",
       "      <td id=\"T_0b969_row3_col5\" class=\"data row3 col5\" >-122.40</td>\n",
       "      <td id=\"T_0b969_row3_col6\" class=\"data row3 col6\" >-122.29</td>\n",
       "      <td id=\"T_0b969_row3_col7\" class=\"data row3 col7\" >-121.87</td>\n",
       "    </tr>\n",
       "    <tr>\n",
       "      <th id=\"T_0b969_level0_row4\" class=\"row_heading level0 row4\" >end_station_id</th>\n",
       "      <td id=\"T_0b969_row4_col0\" class=\"data row4 col0\" >183416.00</td>\n",
       "      <td id=\"T_0b969_row4_col1\" class=\"data row4 col1\" >136.21</td>\n",
       "      <td id=\"T_0b969_row4_col2\" class=\"data row4 col2\" >111.46</td>\n",
       "      <td id=\"T_0b969_row4_col3\" class=\"data row4 col3\" >3.00</td>\n",
       "      <td id=\"T_0b969_row4_col4\" class=\"data row4 col4\" >44.00</td>\n",
       "      <td id=\"T_0b969_row4_col5\" class=\"data row4 col5\" >100.00</td>\n",
       "      <td id=\"T_0b969_row4_col6\" class=\"data row4 col6\" >235.00</td>\n",
       "      <td id=\"T_0b969_row4_col7\" class=\"data row4 col7\" >398.00</td>\n",
       "    </tr>\n",
       "    <tr>\n",
       "      <th id=\"T_0b969_level0_row5\" class=\"row_heading level0 row5\" >end_station_latitude</th>\n",
       "      <td id=\"T_0b969_row5_col0\" class=\"data row5 col0\" >183416.00</td>\n",
       "      <td id=\"T_0b969_row5_col1\" class=\"data row5 col1\" >37.77</td>\n",
       "      <td id=\"T_0b969_row5_col2\" class=\"data row5 col2\" >0.10</td>\n",
       "      <td id=\"T_0b969_row5_col3\" class=\"data row5 col3\" >37.32</td>\n",
       "      <td id=\"T_0b969_row5_col4\" class=\"data row5 col4\" >37.77</td>\n",
       "      <td id=\"T_0b969_row5_col5\" class=\"data row5 col5\" >37.78</td>\n",
       "      <td id=\"T_0b969_row5_col6\" class=\"data row5 col6\" >37.80</td>\n",
       "      <td id=\"T_0b969_row5_col7\" class=\"data row5 col7\" >37.88</td>\n",
       "    </tr>\n",
       "    <tr>\n",
       "      <th id=\"T_0b969_level0_row6\" class=\"row_heading level0 row6\" >end_station_longitude</th>\n",
       "      <td id=\"T_0b969_row6_col0\" class=\"data row6 col0\" >183416.00</td>\n",
       "      <td id=\"T_0b969_row6_col1\" class=\"data row6 col1\" >-122.35</td>\n",
       "      <td id=\"T_0b969_row6_col2\" class=\"data row6 col2\" >0.12</td>\n",
       "      <td id=\"T_0b969_row6_col3\" class=\"data row6 col3\" >-122.45</td>\n",
       "      <td id=\"T_0b969_row6_col4\" class=\"data row6 col4\" >-122.41</td>\n",
       "      <td id=\"T_0b969_row6_col5\" class=\"data row6 col5\" >-122.40</td>\n",
       "      <td id=\"T_0b969_row6_col6\" class=\"data row6 col6\" >-122.29</td>\n",
       "      <td id=\"T_0b969_row6_col7\" class=\"data row6 col7\" >-121.87</td>\n",
       "    </tr>\n",
       "    <tr>\n",
       "      <th id=\"T_0b969_level0_row7\" class=\"row_heading level0 row7\" >bike_id</th>\n",
       "      <td id=\"T_0b969_row7_col0\" class=\"data row7 col0\" >183416.00</td>\n",
       "      <td id=\"T_0b969_row7_col1\" class=\"data row7 col1\" >4472.89</td>\n",
       "      <td id=\"T_0b969_row7_col2\" class=\"data row7 col2\" >1664.39</td>\n",
       "      <td id=\"T_0b969_row7_col3\" class=\"data row7 col3\" >11.00</td>\n",
       "      <td id=\"T_0b969_row7_col4\" class=\"data row7 col4\" >3777.00</td>\n",
       "      <td id=\"T_0b969_row7_col5\" class=\"data row7 col5\" >4958.00</td>\n",
       "      <td id=\"T_0b969_row7_col6\" class=\"data row7 col6\" >5502.00</td>\n",
       "      <td id=\"T_0b969_row7_col7\" class=\"data row7 col7\" >6645.00</td>\n",
       "    </tr>\n",
       "    <tr>\n",
       "      <th id=\"T_0b969_level0_row8\" class=\"row_heading level0 row8\" >member_birth_year</th>\n",
       "      <td id=\"T_0b969_row8_col0\" class=\"data row8 col0\" >183416.00</td>\n",
       "      <td id=\"T_0b969_row8_col1\" class=\"data row8 col1\" >1984.91</td>\n",
       "      <td id=\"T_0b969_row8_col2\" class=\"data row8 col2\" >9.90</td>\n",
       "      <td id=\"T_0b969_row8_col3\" class=\"data row8 col3\" >1878.00</td>\n",
       "      <td id=\"T_0b969_row8_col4\" class=\"data row8 col4\" >1981.00</td>\n",
       "      <td id=\"T_0b969_row8_col5\" class=\"data row8 col5\" >1987.00</td>\n",
       "      <td id=\"T_0b969_row8_col6\" class=\"data row8 col6\" >1992.00</td>\n",
       "      <td id=\"T_0b969_row8_col7\" class=\"data row8 col7\" >2001.00</td>\n",
       "    </tr>\n",
       "  </tbody>\n",
       "</table>\n"
      ],
      "text/plain": [
       "<pandas.io.formats.style.Styler at 0x1c4077da0d0>"
      ]
     },
     "metadata": {},
     "output_type": "display_data"
    }
   ],
   "source": [
    "#This code for describing statistical data ideas in a more organized and readable table\n",
    "\n",
    "stats = df.describe().T\n",
    "\n",
    "styled_numeric = (\n",
    "    stats.style\n",
    "    .background_gradient(cmap='Blues')\n",
    "    .format(\"{:.2f}\") \n",
    "    .set_caption(\"Descriptive Statistics for Numerical Variables\")\n",
    ")\n",
    "display(styled_numeric)"
   ]
  },
  {
   "cell_type": "code",
   "execution_count": 72,
   "id": "1c1776a1",
   "metadata": {
    "execution": {
     "iopub.execute_input": "2024-05-08T19:18:49.221830Z",
     "iopub.status.busy": "2024-05-08T19:18:49.221408Z",
     "iopub.status.idle": "2024-05-08T19:18:49.311952Z",
     "shell.execute_reply": "2024-05-08T19:18:49.309888Z"
    },
    "papermill": {
     "duration": 0.115831,
     "end_time": "2024-05-08T19:18:49.315083",
     "exception": false,
     "start_time": "2024-05-08T19:18:49.199252",
     "status": "completed"
    },
    "tags": []
   },
   "outputs": [
    {
     "data": {
      "text/html": [
       "<style type=\"text/css\">\n",
       "#T_92ab1_row0_col1, #T_92ab1_row0_col2, #T_92ab1_row1_col1, #T_92ab1_row1_col2, #T_92ab1_row2_col1, #T_92ab1_row2_col2, #T_92ab1_row3_col1, #T_92ab1_row3_col2, #T_92ab1_row4_col1, #T_92ab1_row4_col2, #T_92ab1_row5_col1, #T_92ab1_row5_col2, #T_92ab1_row6_col1, #T_92ab1_row6_col2, #T_92ab1_row7_col1, #T_92ab1_row7_col2, #T_92ab1_row8_col1, #T_92ab1_row8_col2, #T_92ab1_row9_col1, #T_92ab1_row9_col2, #T_92ab1_row10_col1, #T_92ab1_row10_col2, #T_92ab1_row11_col1, #T_92ab1_row11_col2, #T_92ab1_row12_col1, #T_92ab1_row12_col2, #T_92ab1_row13_col1, #T_92ab1_row13_col2, #T_92ab1_row14_col1, #T_92ab1_row14_col2, #T_92ab1_row15_col1, #T_92ab1_row15_col2 {\n",
       "  background-color: #fff5eb;\n",
       "  color: #000000;\n",
       "}\n",
       "</style>\n",
       "<table id=\"T_92ab1\">\n",
       "  <thead>\n",
       "    <tr>\n",
       "      <th class=\"blank level0\" >&nbsp;</th>\n",
       "      <th id=\"T_92ab1_level0_col0\" class=\"col_heading level0 col0\" >Column Name</th>\n",
       "      <th id=\"T_92ab1_level0_col1\" class=\"col_heading level0 col1\" >Non-Null Count</th>\n",
       "      <th id=\"T_92ab1_level0_col2\" class=\"col_heading level0 col2\" >Missing Values</th>\n",
       "      <th id=\"T_92ab1_level0_col3\" class=\"col_heading level0 col3\" >Data Type</th>\n",
       "    </tr>\n",
       "  </thead>\n",
       "  <tbody>\n",
       "    <tr>\n",
       "      <th id=\"T_92ab1_level0_row0\" class=\"row_heading level0 row0\" >0</th>\n",
       "      <td id=\"T_92ab1_row0_col0\" class=\"data row0 col0\" >duration_sec</td>\n",
       "      <td id=\"T_92ab1_row0_col1\" class=\"data row0 col1\" >183416</td>\n",
       "      <td id=\"T_92ab1_row0_col2\" class=\"data row0 col2\" >0</td>\n",
       "      <td id=\"T_92ab1_row0_col3\" class=\"data row0 col3\" >int64</td>\n",
       "    </tr>\n",
       "    <tr>\n",
       "      <th id=\"T_92ab1_level0_row1\" class=\"row_heading level0 row1\" >1</th>\n",
       "      <td id=\"T_92ab1_row1_col0\" class=\"data row1 col0\" >start_time</td>\n",
       "      <td id=\"T_92ab1_row1_col1\" class=\"data row1 col1\" >183416</td>\n",
       "      <td id=\"T_92ab1_row1_col2\" class=\"data row1 col2\" >0</td>\n",
       "      <td id=\"T_92ab1_row1_col3\" class=\"data row1 col3\" >object</td>\n",
       "    </tr>\n",
       "    <tr>\n",
       "      <th id=\"T_92ab1_level0_row2\" class=\"row_heading level0 row2\" >2</th>\n",
       "      <td id=\"T_92ab1_row2_col0\" class=\"data row2 col0\" >end_time</td>\n",
       "      <td id=\"T_92ab1_row2_col1\" class=\"data row2 col1\" >183416</td>\n",
       "      <td id=\"T_92ab1_row2_col2\" class=\"data row2 col2\" >0</td>\n",
       "      <td id=\"T_92ab1_row2_col3\" class=\"data row2 col3\" >object</td>\n",
       "    </tr>\n",
       "    <tr>\n",
       "      <th id=\"T_92ab1_level0_row3\" class=\"row_heading level0 row3\" >3</th>\n",
       "      <td id=\"T_92ab1_row3_col0\" class=\"data row3 col0\" >start_station_id</td>\n",
       "      <td id=\"T_92ab1_row3_col1\" class=\"data row3 col1\" >183416</td>\n",
       "      <td id=\"T_92ab1_row3_col2\" class=\"data row3 col2\" >0</td>\n",
       "      <td id=\"T_92ab1_row3_col3\" class=\"data row3 col3\" >float64</td>\n",
       "    </tr>\n",
       "    <tr>\n",
       "      <th id=\"T_92ab1_level0_row4\" class=\"row_heading level0 row4\" >4</th>\n",
       "      <td id=\"T_92ab1_row4_col0\" class=\"data row4 col0\" >start_station_name</td>\n",
       "      <td id=\"T_92ab1_row4_col1\" class=\"data row4 col1\" >183416</td>\n",
       "      <td id=\"T_92ab1_row4_col2\" class=\"data row4 col2\" >0</td>\n",
       "      <td id=\"T_92ab1_row4_col3\" class=\"data row4 col3\" >object</td>\n",
       "    </tr>\n",
       "    <tr>\n",
       "      <th id=\"T_92ab1_level0_row5\" class=\"row_heading level0 row5\" >5</th>\n",
       "      <td id=\"T_92ab1_row5_col0\" class=\"data row5 col0\" >start_station_latitude</td>\n",
       "      <td id=\"T_92ab1_row5_col1\" class=\"data row5 col1\" >183416</td>\n",
       "      <td id=\"T_92ab1_row5_col2\" class=\"data row5 col2\" >0</td>\n",
       "      <td id=\"T_92ab1_row5_col3\" class=\"data row5 col3\" >float64</td>\n",
       "    </tr>\n",
       "    <tr>\n",
       "      <th id=\"T_92ab1_level0_row6\" class=\"row_heading level0 row6\" >6</th>\n",
       "      <td id=\"T_92ab1_row6_col0\" class=\"data row6 col0\" >start_station_longitude</td>\n",
       "      <td id=\"T_92ab1_row6_col1\" class=\"data row6 col1\" >183416</td>\n",
       "      <td id=\"T_92ab1_row6_col2\" class=\"data row6 col2\" >0</td>\n",
       "      <td id=\"T_92ab1_row6_col3\" class=\"data row6 col3\" >float64</td>\n",
       "    </tr>\n",
       "    <tr>\n",
       "      <th id=\"T_92ab1_level0_row7\" class=\"row_heading level0 row7\" >7</th>\n",
       "      <td id=\"T_92ab1_row7_col0\" class=\"data row7 col0\" >end_station_id</td>\n",
       "      <td id=\"T_92ab1_row7_col1\" class=\"data row7 col1\" >183416</td>\n",
       "      <td id=\"T_92ab1_row7_col2\" class=\"data row7 col2\" >0</td>\n",
       "      <td id=\"T_92ab1_row7_col3\" class=\"data row7 col3\" >float64</td>\n",
       "    </tr>\n",
       "    <tr>\n",
       "      <th id=\"T_92ab1_level0_row8\" class=\"row_heading level0 row8\" >8</th>\n",
       "      <td id=\"T_92ab1_row8_col0\" class=\"data row8 col0\" >end_station_name</td>\n",
       "      <td id=\"T_92ab1_row8_col1\" class=\"data row8 col1\" >183416</td>\n",
       "      <td id=\"T_92ab1_row8_col2\" class=\"data row8 col2\" >0</td>\n",
       "      <td id=\"T_92ab1_row8_col3\" class=\"data row8 col3\" >object</td>\n",
       "    </tr>\n",
       "    <tr>\n",
       "      <th id=\"T_92ab1_level0_row9\" class=\"row_heading level0 row9\" >9</th>\n",
       "      <td id=\"T_92ab1_row9_col0\" class=\"data row9 col0\" >end_station_latitude</td>\n",
       "      <td id=\"T_92ab1_row9_col1\" class=\"data row9 col1\" >183416</td>\n",
       "      <td id=\"T_92ab1_row9_col2\" class=\"data row9 col2\" >0</td>\n",
       "      <td id=\"T_92ab1_row9_col3\" class=\"data row9 col3\" >float64</td>\n",
       "    </tr>\n",
       "    <tr>\n",
       "      <th id=\"T_92ab1_level0_row10\" class=\"row_heading level0 row10\" >10</th>\n",
       "      <td id=\"T_92ab1_row10_col0\" class=\"data row10 col0\" >end_station_longitude</td>\n",
       "      <td id=\"T_92ab1_row10_col1\" class=\"data row10 col1\" >183416</td>\n",
       "      <td id=\"T_92ab1_row10_col2\" class=\"data row10 col2\" >0</td>\n",
       "      <td id=\"T_92ab1_row10_col3\" class=\"data row10 col3\" >float64</td>\n",
       "    </tr>\n",
       "    <tr>\n",
       "      <th id=\"T_92ab1_level0_row11\" class=\"row_heading level0 row11\" >11</th>\n",
       "      <td id=\"T_92ab1_row11_col0\" class=\"data row11 col0\" >bike_id</td>\n",
       "      <td id=\"T_92ab1_row11_col1\" class=\"data row11 col1\" >183416</td>\n",
       "      <td id=\"T_92ab1_row11_col2\" class=\"data row11 col2\" >0</td>\n",
       "      <td id=\"T_92ab1_row11_col3\" class=\"data row11 col3\" >int64</td>\n",
       "    </tr>\n",
       "    <tr>\n",
       "      <th id=\"T_92ab1_level0_row12\" class=\"row_heading level0 row12\" >12</th>\n",
       "      <td id=\"T_92ab1_row12_col0\" class=\"data row12 col0\" >user_type</td>\n",
       "      <td id=\"T_92ab1_row12_col1\" class=\"data row12 col1\" >183416</td>\n",
       "      <td id=\"T_92ab1_row12_col2\" class=\"data row12 col2\" >0</td>\n",
       "      <td id=\"T_92ab1_row12_col3\" class=\"data row12 col3\" >category</td>\n",
       "    </tr>\n",
       "    <tr>\n",
       "      <th id=\"T_92ab1_level0_row13\" class=\"row_heading level0 row13\" >13</th>\n",
       "      <td id=\"T_92ab1_row13_col0\" class=\"data row13 col0\" >member_birth_year</td>\n",
       "      <td id=\"T_92ab1_row13_col1\" class=\"data row13 col1\" >183416</td>\n",
       "      <td id=\"T_92ab1_row13_col2\" class=\"data row13 col2\" >0</td>\n",
       "      <td id=\"T_92ab1_row13_col3\" class=\"data row13 col3\" >float64</td>\n",
       "    </tr>\n",
       "    <tr>\n",
       "      <th id=\"T_92ab1_level0_row14\" class=\"row_heading level0 row14\" >14</th>\n",
       "      <td id=\"T_92ab1_row14_col0\" class=\"data row14 col0\" >member_gender</td>\n",
       "      <td id=\"T_92ab1_row14_col1\" class=\"data row14 col1\" >183416</td>\n",
       "      <td id=\"T_92ab1_row14_col2\" class=\"data row14 col2\" >0</td>\n",
       "      <td id=\"T_92ab1_row14_col3\" class=\"data row14 col3\" >category</td>\n",
       "    </tr>\n",
       "    <tr>\n",
       "      <th id=\"T_92ab1_level0_row15\" class=\"row_heading level0 row15\" >15</th>\n",
       "      <td id=\"T_92ab1_row15_col0\" class=\"data row15 col0\" >bike_share_for_all_trip</td>\n",
       "      <td id=\"T_92ab1_row15_col1\" class=\"data row15 col1\" >183416</td>\n",
       "      <td id=\"T_92ab1_row15_col2\" class=\"data row15 col2\" >0</td>\n",
       "      <td id=\"T_92ab1_row15_col3\" class=\"data row15 col3\" >object</td>\n",
       "    </tr>\n",
       "  </tbody>\n",
       "</table>\n"
      ],
      "text/plain": [
       "<pandas.io.formats.style.Styler at 0x1c402159590>"
      ]
     },
     "metadata": {},
     "output_type": "display_data"
    }
   ],
   "source": [
    "# display the information about each column\n",
    "dis = pd.DataFrame({\n",
    "    'Column Name': df.columns,\n",
    "    'Non-Null Count': df.notnull().sum(),\n",
    "    'Missing Values': df.isnull().sum(),\n",
    "    'Data Type': df.dtypes\n",
    "}).reset_index(drop=True)\n",
    "display(dis.style.background_gradient(cmap='Oranges').format(precision=2))"
   ]
  },
  {
   "cell_type": "markdown",
   "id": "c847664a",
   "metadata": {
    "papermill": {
     "duration": 0.020416,
     "end_time": "2024-05-08T19:18:49.357002",
     "exception": false,
     "start_time": "2024-05-08T19:18:49.336586",
     "status": "completed"
    },
    "tags": []
   },
   "source": [
    "## <mark>The above result show some missing values exist in some columns So let's display them </mark>"
   ]
  },
  {
   "cell_type": "code",
   "execution_count": 27,
   "id": "b35fa248",
   "metadata": {
    "execution": {
     "iopub.execute_input": "2024-05-08T19:18:49.399184Z",
     "iopub.status.busy": "2024-05-08T19:18:49.398751Z",
     "iopub.status.idle": "2024-05-08T19:18:49.477290Z",
     "shell.execute_reply": "2024-05-08T19:18:49.475887Z"
    },
    "papermill": {
     "duration": 0.102282,
     "end_time": "2024-05-08T19:18:49.480112",
     "exception": false,
     "start_time": "2024-05-08T19:18:49.377830",
     "status": "completed"
    },
    "tags": []
   },
   "outputs": [
    {
     "data": {
      "text/html": [
       "<div>\n",
       "<style scoped>\n",
       "    .dataframe tbody tr th:only-of-type {\n",
       "        vertical-align: middle;\n",
       "    }\n",
       "\n",
       "    .dataframe tbody tr th {\n",
       "        vertical-align: top;\n",
       "    }\n",
       "\n",
       "    .dataframe thead th {\n",
       "        text-align: right;\n",
       "    }\n",
       "</style>\n",
       "<table border=\"1\" class=\"dataframe\">\n",
       "  <thead>\n",
       "    <tr style=\"text-align: right;\">\n",
       "      <th></th>\n",
       "      <th>Num_Nulls</th>\n",
       "      <th>Ratio %</th>\n",
       "    </tr>\n",
       "  </thead>\n",
       "  <tbody>\n",
       "    <tr>\n",
       "      <th>start_station_id</th>\n",
       "      <td>197</td>\n",
       "      <td>0.11 %</td>\n",
       "    </tr>\n",
       "    <tr>\n",
       "      <th>start_station_name</th>\n",
       "      <td>197</td>\n",
       "      <td>0.11 %</td>\n",
       "    </tr>\n",
       "    <tr>\n",
       "      <th>end_station_id</th>\n",
       "      <td>197</td>\n",
       "      <td>0.11 %</td>\n",
       "    </tr>\n",
       "    <tr>\n",
       "      <th>end_station_name</th>\n",
       "      <td>197</td>\n",
       "      <td>0.11 %</td>\n",
       "    </tr>\n",
       "    <tr>\n",
       "      <th>member_birth_year</th>\n",
       "      <td>8265</td>\n",
       "      <td>4.51 %</td>\n",
       "    </tr>\n",
       "    <tr>\n",
       "      <th>member_gender</th>\n",
       "      <td>8265</td>\n",
       "      <td>4.51 %</td>\n",
       "    </tr>\n",
       "  </tbody>\n",
       "</table>\n",
       "</div>"
      ],
      "text/plain": [
       "                    Num_Nulls Ratio %\n",
       "start_station_id          197  0.11 %\n",
       "start_station_name        197  0.11 %\n",
       "end_station_id            197  0.11 %\n",
       "end_station_name          197  0.11 %\n",
       "member_birth_year        8265  4.51 %\n",
       "member_gender            8265  4.51 %"
      ]
     },
     "execution_count": 27,
     "metadata": {},
     "output_type": "execute_result"
    }
   ],
   "source": [
    "#YOUR CODES\n",
    "Null =  df.isnull().sum()\n",
    "Ratio =  round(((Null/df.shape[0])*100),2).astype(str)+\" %\"\n",
    "missing_tables = pd.DataFrame({\n",
    "    \"Num_Nulls\":Null , \n",
    "    \"Ratio %\" : Ratio})\n",
    "\n",
    "missing_table = missing_tables[missing_tables[\"Num_Nulls\"] > 0]\n",
    "missing_table\n"
   ]
  },
  {
   "cell_type": "markdown",
   "id": "e29ddd13",
   "metadata": {
    "papermill": {
     "duration": 0.020625,
     "end_time": "2024-05-08T19:18:49.521635",
     "exception": false,
     "start_time": "2024-05-08T19:18:49.501010",
     "status": "completed"
    },
    "tags": []
   },
   "source": [
    "\n",
    "\n",
    "> ## <mark>The result above shows many missing data </mark>\n",
    "\n",
    "\n",
    "\n",
    "###  To fix this issue You will fill these values with 3 for numeric and 3 for categorical"
   ]
  },
  {
   "cell_type": "code",
   "execution_count": 39,
   "id": "290bf1eb",
   "metadata": {
    "execution": {
     "iopub.execute_input": "2024-05-08T19:18:49.563277Z",
     "iopub.status.busy": "2024-05-08T19:18:49.562861Z",
     "iopub.status.idle": "2024-05-08T19:18:49.641347Z",
     "shell.execute_reply": "2024-05-08T19:18:49.640013Z"
    },
    "papermill": {
     "duration": 0.102178,
     "end_time": "2024-05-08T19:18:49.644179",
     "exception": false,
     "start_time": "2024-05-08T19:18:49.542001",
     "status": "completed"
    },
    "tags": []
   },
   "outputs": [],
   "source": [
    "# trying to fill missing values in my datset using for loop \n",
    "# Separate columns by data type\n",
    "import warnings\n",
    "warnings.filterwarnings('ignore')\n",
    "\n",
    "num_cols = df[['end_station_id','start_station_id','member_birth_year']]\n",
    "cat_cols = df[['end_station_name','start_station_name','member_gender']]\n",
    "\n",
    "for col in df.columns:\n",
    "    if col in num_cols:\n",
    "        # Fill numeric columns with median\n",
    "        df[col].fillna(df[col].median(), inplace=True)\n",
    "    elif col in cat_cols:\n",
    "        # Fill categorical columns with mode (most frequent value)\n",
    "        df[col].fillna(df[col].mode()[0], inplace=True)\n"
   ]
  },
  {
   "cell_type": "code",
   "execution_count": 38,
   "id": "9609a1af",
   "metadata": {
    "execution": {
     "iopub.execute_input": "2024-05-08T19:18:49.685764Z",
     "iopub.status.busy": "2024-05-08T19:18:49.685335Z",
     "iopub.status.idle": "2024-05-08T19:18:49.764792Z",
     "shell.execute_reply": "2024-05-08T19:18:49.763405Z"
    },
    "papermill": {
     "duration": 0.103491,
     "end_time": "2024-05-08T19:18:49.767579",
     "exception": false,
     "start_time": "2024-05-08T19:18:49.664088",
     "status": "completed"
    },
    "tags": []
   },
   "outputs": [
    {
     "name": "stdout",
     "output_type": "stream",
     "text": [
      "Total missing values after filling: 0\n"
     ]
    }
   ],
   "source": [
    "#check the Nulls \n",
    "        \n",
    "print(\"Total missing values after filling:\", df.isnull().sum().sum())"
   ]
  },
  {
   "cell_type": "markdown",
   "id": "d41407c1",
   "metadata": {
    "papermill": {
     "duration": 0.019537,
     "end_time": "2024-05-08T19:18:49.808235",
     "exception": false,
     "start_time": "2024-05-08T19:18:49.788698",
     "status": "completed"
    },
    "tags": []
   },
   "source": [
    "### **And with a proper category for other (member gender)**"
   ]
  },
  {
   "cell_type": "code",
   "execution_count": 43,
   "id": "d325b144",
   "metadata": {
    "execution": {
     "iopub.execute_input": "2024-05-08T19:18:49.901264Z",
     "iopub.status.busy": "2024-05-08T19:18:49.900822Z",
     "iopub.status.idle": "2024-05-08T19:18:49.920563Z",
     "shell.execute_reply": "2024-05-08T19:18:49.919286Z"
    },
    "papermill": {
     "duration": 0.044514,
     "end_time": "2024-05-08T19:18:49.923678",
     "exception": false,
     "start_time": "2024-05-08T19:18:49.879164",
     "status": "completed"
    },
    "tags": []
   },
   "outputs": [],
   "source": [
    "# fill  dataset with missing values.\n",
    "    \n",
    "for col in cat_cols:\n",
    "    df[col].fillna(df[col].mode()[0], inplace=True)"
   ]
  },
  {
   "cell_type": "code",
   "execution_count": 44,
   "id": "37328e6f",
   "metadata": {
    "execution": {
     "iopub.execute_input": "2024-05-08T19:18:49.965917Z",
     "iopub.status.busy": "2024-05-08T19:18:49.965487Z",
     "iopub.status.idle": "2024-05-08T19:18:49.973222Z",
     "shell.execute_reply": "2024-05-08T19:18:49.971688Z"
    },
    "papermill": {
     "duration": 0.032513,
     "end_time": "2024-05-08T19:18:49.976123",
     "exception": false,
     "start_time": "2024-05-08T19:18:49.943610",
     "status": "completed"
    },
    "tags": []
   },
   "outputs": [
    {
     "data": {
      "text/plain": [
       "0       Male\n",
       "1       Male\n",
       "2       Male\n",
       "3      Other\n",
       "4       Male\n",
       "5       Male\n",
       "6     Female\n",
       "7       Male\n",
       "8      Other\n",
       "9       Male\n",
       "10    Female\n",
       "11      Male\n",
       "12      Male\n",
       "13      Male\n",
       "14      Male\n",
       "Name: member_gender, dtype: object"
      ]
     },
     "execution_count": 44,
     "metadata": {},
     "output_type": "execute_result"
    }
   ],
   "source": [
    "df['member_gender'].head(15)"
   ]
  },
  {
   "cell_type": "code",
   "execution_count": 45,
   "id": "f965efd2",
   "metadata": {
    "execution": {
     "iopub.execute_input": "2024-05-08T19:18:50.018002Z",
     "iopub.status.busy": "2024-05-08T19:18:50.017545Z",
     "iopub.status.idle": "2024-05-08T19:18:50.095031Z",
     "shell.execute_reply": "2024-05-08T19:18:50.093789Z"
    },
    "papermill": {
     "duration": 0.101688,
     "end_time": "2024-05-08T19:18:50.097806",
     "exception": false,
     "start_time": "2024-05-08T19:18:49.996118",
     "status": "completed"
    },
    "tags": []
   },
   "outputs": [
    {
     "name": "stdout",
     "output_type": "stream",
     "text": [
      "Total missing values after filling the member_gender column: 0\n"
     ]
    }
   ],
   "source": [
    "## check my result above \n",
    "\n",
    "print(\"Total missing values after filling the member_gender column:\", df.isnull().sum().sum())"
   ]
  },
  {
   "cell_type": "markdown",
   "id": "3c492d96",
   "metadata": {
    "papermill": {
     "duration": 0.020179,
     "end_time": "2024-05-08T19:18:50.138323",
     "exception": false,
     "start_time": "2024-05-08T19:18:50.118144",
     "status": "completed"
    },
    "tags": []
   },
   "source": [
    "> ## <mark>The result above shows that we deal with all missing data </mark>"
   ]
  },
  {
   "cell_type": "markdown",
   "id": "898da118",
   "metadata": {
    "papermill": {
     "duration": 0.02091,
     "end_time": "2024-05-08T19:18:50.179612",
     "exception": false,
     "start_time": "2024-05-08T19:18:50.158702",
     "status": "completed"
    },
    "tags": []
   },
   "source": [
    "### Now let's check duplicate value"
   ]
  },
  {
   "cell_type": "code",
   "execution_count": null,
   "id": "8a75c2b0",
   "metadata": {
    "execution": {
     "iopub.execute_input": "2024-05-08T19:18:50.224473Z",
     "iopub.status.busy": "2024-05-08T19:18:50.224022Z",
     "iopub.status.idle": "2024-05-08T19:18:50.444357Z",
     "shell.execute_reply": "2024-05-08T19:18:50.442986Z"
    },
    "papermill": {
     "duration": 0.245305,
     "end_time": "2024-05-08T19:18:50.447038",
     "exception": false,
     "start_time": "2024-05-08T19:18:50.201733",
     "status": "completed"
    },
    "tags": []
   },
   "outputs": [
    {
     "data": {
      "text/plain": [
       "np.int64(4)"
      ]
     },
     "execution_count": 48,
     "metadata": {},
     "output_type": "execute_result"
    }
   ],
   "source": [
    "##  check duplicate in dataset\n",
    "\n",
    "df.duplicated().sum()\n",
    "\n"
   ]
  },
  {
   "cell_type": "code",
   "execution_count": 49,
   "id": "5cc55489",
   "metadata": {},
   "outputs": [
    {
     "data": {
      "text/html": [
       "<div>\n",
       "<style scoped>\n",
       "    .dataframe tbody tr th:only-of-type {\n",
       "        vertical-align: middle;\n",
       "    }\n",
       "\n",
       "    .dataframe tbody tr th {\n",
       "        vertical-align: top;\n",
       "    }\n",
       "\n",
       "    .dataframe thead th {\n",
       "        text-align: right;\n",
       "    }\n",
       "</style>\n",
       "<table border=\"1\" class=\"dataframe\">\n",
       "  <thead>\n",
       "    <tr style=\"text-align: right;\">\n",
       "      <th></th>\n",
       "      <th>duration_sec</th>\n",
       "      <th>start_time</th>\n",
       "      <th>end_time</th>\n",
       "      <th>start_station_id</th>\n",
       "      <th>start_station_name</th>\n",
       "      <th>start_station_latitude</th>\n",
       "      <th>start_station_longitude</th>\n",
       "      <th>end_station_id</th>\n",
       "      <th>end_station_name</th>\n",
       "      <th>end_station_latitude</th>\n",
       "      <th>end_station_longitude</th>\n",
       "      <th>bike_id</th>\n",
       "      <th>user_type</th>\n",
       "      <th>member_birth_year</th>\n",
       "      <th>member_gender</th>\n",
       "      <th>bike_share_for_all_trip</th>\n",
       "    </tr>\n",
       "  </thead>\n",
       "  <tbody>\n",
       "    <tr>\n",
       "      <th>183412</th>\n",
       "      <td>313</td>\n",
       "      <td>05:34.7</td>\n",
       "      <td>10:48.5</td>\n",
       "      <td>21.0</td>\n",
       "      <td>Montgomery St BART Station (Market St at 2nd St)</td>\n",
       "      <td>37.789625</td>\n",
       "      <td>-122.400811</td>\n",
       "      <td>66.0</td>\n",
       "      <td>3rd St at Townsend St</td>\n",
       "      <td>37.778742</td>\n",
       "      <td>-122.392741</td>\n",
       "      <td>4960</td>\n",
       "      <td>Subscriber</td>\n",
       "      <td>1984.0</td>\n",
       "      <td>Male</td>\n",
       "      <td>No</td>\n",
       "    </tr>\n",
       "    <tr>\n",
       "      <th>183413</th>\n",
       "      <td>141</td>\n",
       "      <td>06:05.5</td>\n",
       "      <td>08:27.2</td>\n",
       "      <td>278.0</td>\n",
       "      <td>The Alameda at Bush St</td>\n",
       "      <td>37.331932</td>\n",
       "      <td>-121.904888</td>\n",
       "      <td>277.0</td>\n",
       "      <td>Morrison Ave at Julian St</td>\n",
       "      <td>37.333658</td>\n",
       "      <td>-121.908586</td>\n",
       "      <td>3824</td>\n",
       "      <td>Subscriber</td>\n",
       "      <td>1990.0</td>\n",
       "      <td>Male</td>\n",
       "      <td>Yes</td>\n",
       "    </tr>\n",
       "    <tr>\n",
       "      <th>183414</th>\n",
       "      <td>139</td>\n",
       "      <td>05:34.4</td>\n",
       "      <td>07:54.3</td>\n",
       "      <td>220.0</td>\n",
       "      <td>San Pablo Ave at MLK Jr Way</td>\n",
       "      <td>37.811351</td>\n",
       "      <td>-122.273422</td>\n",
       "      <td>216.0</td>\n",
       "      <td>San Pablo Ave at 27th St</td>\n",
       "      <td>37.817827</td>\n",
       "      <td>-122.275698</td>\n",
       "      <td>5095</td>\n",
       "      <td>Subscriber</td>\n",
       "      <td>1988.0</td>\n",
       "      <td>Male</td>\n",
       "      <td>No</td>\n",
       "    </tr>\n",
       "    <tr>\n",
       "      <th>183415</th>\n",
       "      <td>271</td>\n",
       "      <td>00:20.6</td>\n",
       "      <td>04:52.1</td>\n",
       "      <td>24.0</td>\n",
       "      <td>Spear St at Folsom St</td>\n",
       "      <td>37.789677</td>\n",
       "      <td>-122.390428</td>\n",
       "      <td>37.0</td>\n",
       "      <td>2nd St at Folsom St</td>\n",
       "      <td>37.785000</td>\n",
       "      <td>-122.395936</td>\n",
       "      <td>1057</td>\n",
       "      <td>Subscriber</td>\n",
       "      <td>1989.0</td>\n",
       "      <td>Male</td>\n",
       "      <td>No</td>\n",
       "    </tr>\n",
       "  </tbody>\n",
       "</table>\n",
       "</div>"
      ],
      "text/plain": [
       "        duration_sec start_time end_time  start_station_id  \\\n",
       "183412           313    05:34.7  10:48.5              21.0   \n",
       "183413           141    06:05.5  08:27.2             278.0   \n",
       "183414           139    05:34.4  07:54.3             220.0   \n",
       "183415           271    00:20.6  04:52.1              24.0   \n",
       "\n",
       "                                      start_station_name  \\\n",
       "183412  Montgomery St BART Station (Market St at 2nd St)   \n",
       "183413                            The Alameda at Bush St   \n",
       "183414                       San Pablo Ave at MLK Jr Way   \n",
       "183415                             Spear St at Folsom St   \n",
       "\n",
       "        start_station_latitude  start_station_longitude  end_station_id  \\\n",
       "183412               37.789625              -122.400811            66.0   \n",
       "183413               37.331932              -121.904888           277.0   \n",
       "183414               37.811351              -122.273422           216.0   \n",
       "183415               37.789677              -122.390428            37.0   \n",
       "\n",
       "                 end_station_name  end_station_latitude  \\\n",
       "183412      3rd St at Townsend St             37.778742   \n",
       "183413  Morrison Ave at Julian St             37.333658   \n",
       "183414   San Pablo Ave at 27th St             37.817827   \n",
       "183415        2nd St at Folsom St             37.785000   \n",
       "\n",
       "        end_station_longitude  bike_id   user_type  member_birth_year  \\\n",
       "183412            -122.392741     4960  Subscriber             1984.0   \n",
       "183413            -121.908586     3824  Subscriber             1990.0   \n",
       "183414            -122.275698     5095  Subscriber             1988.0   \n",
       "183415            -122.395936     1057  Subscriber             1989.0   \n",
       "\n",
       "       member_gender bike_share_for_all_trip  \n",
       "183412          Male                      No  \n",
       "183413          Male                     Yes  \n",
       "183414          Male                      No  \n",
       "183415          Male                      No  "
      ]
     },
     "execution_count": 49,
     "metadata": {},
     "output_type": "execute_result"
    }
   ],
   "source": [
    "# Display the duplicate rows\n",
    "df[df.duplicated()]\n"
   ]
  },
  {
   "cell_type": "markdown",
   "id": "03c9e674",
   "metadata": {
    "papermill": {
     "duration": 0.021079,
     "end_time": "2024-05-08T19:18:50.489125",
     "exception": false,
     "start_time": "2024-05-08T19:18:50.468046",
     "status": "completed"
    },
    "tags": []
   },
   "source": [
    "> ##If Not significant duplicated , so won't clean it \n",
    "\n",
    "\n",
    "### Now let's check the category columns to make more cleaning dataset "
   ]
  },
  {
   "cell_type": "markdown",
   "id": "77e0fe0d",
   "metadata": {},
   "source": []
  },
  {
   "cell_type": "code",
   "execution_count": 61,
   "id": "b0ca328c",
   "metadata": {
    "execution": {
     "iopub.execute_input": "2024-05-08T19:18:50.531712Z",
     "iopub.status.busy": "2024-05-08T19:18:50.531257Z",
     "iopub.status.idle": "2024-05-08T19:18:50.825026Z",
     "shell.execute_reply": "2024-05-08T19:18:50.823700Z"
    },
    "papermill": {
     "duration": 0.318114,
     "end_time": "2024-05-08T19:18:50.827691",
     "exception": false,
     "start_time": "2024-05-08T19:18:50.509577",
     "status": "completed"
    },
    "tags": []
   },
   "outputs": [
    {
     "data": {
      "text/html": [
       "<div>\n",
       "<style scoped>\n",
       "    .dataframe tbody tr th:only-of-type {\n",
       "        vertical-align: middle;\n",
       "    }\n",
       "\n",
       "    .dataframe tbody tr th {\n",
       "        vertical-align: top;\n",
       "    }\n",
       "\n",
       "    .dataframe thead th {\n",
       "        text-align: right;\n",
       "    }\n",
       "</style>\n",
       "<table border=\"1\" class=\"dataframe\">\n",
       "  <thead>\n",
       "    <tr style=\"text-align: right;\">\n",
       "      <th></th>\n",
       "      <th>Categorical Columns</th>\n",
       "    </tr>\n",
       "  </thead>\n",
       "  <tbody>\n",
       "    <tr>\n",
       "      <th>0</th>\n",
       "      <td>start_time</td>\n",
       "    </tr>\n",
       "    <tr>\n",
       "      <th>1</th>\n",
       "      <td>end_time</td>\n",
       "    </tr>\n",
       "    <tr>\n",
       "      <th>2</th>\n",
       "      <td>start_station_name</td>\n",
       "    </tr>\n",
       "    <tr>\n",
       "      <th>3</th>\n",
       "      <td>end_station_name</td>\n",
       "    </tr>\n",
       "    <tr>\n",
       "      <th>4</th>\n",
       "      <td>user_type</td>\n",
       "    </tr>\n",
       "    <tr>\n",
       "      <th>5</th>\n",
       "      <td>member_gender</td>\n",
       "    </tr>\n",
       "    <tr>\n",
       "      <th>6</th>\n",
       "      <td>bike_share_for_all_trip</td>\n",
       "    </tr>\n",
       "  </tbody>\n",
       "</table>\n",
       "</div>"
      ],
      "text/plain": [
       "       Categorical Columns\n",
       "0               start_time\n",
       "1                 end_time\n",
       "2       start_station_name\n",
       "3         end_station_name\n",
       "4                user_type\n",
       "5            member_gender\n",
       "6  bike_share_for_all_trip"
      ]
     },
     "execution_count": 61,
     "metadata": {},
     "output_type": "execute_result"
    }
   ],
   "source": [
    "### check the category columns that included object\n",
    "cat_cols = df.select_dtypes(include=['object']).columns\n",
    "pd.DataFrame(cat_cols, columns=['Categorical Columns'])\n"
   ]
  },
  {
   "cell_type": "code",
   "execution_count": 62,
   "id": "2ce52002",
   "metadata": {},
   "outputs": [
    {
     "data": {
      "text/plain": [
       "array(['male', 'other', 'female'], dtype=object)"
      ]
     },
     "execution_count": 62,
     "metadata": {},
     "output_type": "execute_result"
    }
   ],
   "source": [
    "df['member_gender'].unique()\n"
   ]
  },
  {
   "cell_type": "markdown",
   "id": "c4d5c747",
   "metadata": {
    "papermill": {
     "duration": 0.020478,
     "end_time": "2024-05-08T19:18:50.869371",
     "exception": false,
     "start_time": "2024-05-08T19:18:50.848893",
     "status": "completed"
    },
    "tags": []
   },
   "source": [
    " > ## From all previous results above I found  :\n",
    " \n",
    " \n",
    " \n",
    " **=========================================================**\n",
    " \n",
    " \n",
    "\n",
    "> 1 ) **unique Value** as in ((`member_gender`)) : Not significant , so won't clean it\n",
    "\n",
    "\n",
    "\n",
    "> 2 ) **Incorrect data type** as in (( `user_type` &&\t`member_gender`)) :  significant change , so I need to clean it.\n",
    "\n",
    "\n",
    "> 3 ) **Good factor** for marketing work as in ((`member_birth_year`)) : so I need to clean it."
   ]
  },
  {
   "cell_type": "code",
   "execution_count": 63,
   "id": "6d5e42ea",
   "metadata": {
    "execution": {
     "iopub.execute_input": "2024-05-08T19:18:50.913447Z",
     "iopub.status.busy": "2024-05-08T19:18:50.912988Z",
     "iopub.status.idle": "2024-05-08T19:18:50.972279Z",
     "shell.execute_reply": "2024-05-08T19:18:50.970960Z"
    },
    "papermill": {
     "duration": 0.084749,
     "end_time": "2024-05-08T19:18:50.974963",
     "exception": false,
     "start_time": "2024-05-08T19:18:50.890214",
     "status": "completed"
    },
    "tags": []
   },
   "outputs": [
    {
     "data": {
      "text/plain": [
       "user_type        object\n",
       "member_gender    object\n",
       "dtype: object"
      ]
     },
     "execution_count": 63,
     "metadata": {},
     "output_type": "execute_result"
    }
   ],
   "source": [
    "##  step  2 ) Incorrect data type as in (( `user_type` &&\t`member_gender`)) :  significant change , so  need to clean it.\n",
    "\n",
    "df[['user_type', 'member_gender']].dtypes\n"
   ]
  },
  {
   "cell_type": "code",
   "execution_count": 64,
   "id": "19943621",
   "metadata": {},
   "outputs": [],
   "source": [
    "df['user_type'] = df['user_type'].astype('category')\n",
    "df['member_gender'] = df['member_gender'].astype('category')\n"
   ]
  },
  {
   "cell_type": "code",
   "execution_count": 65,
   "id": "53487898",
   "metadata": {
    "execution": {
     "iopub.execute_input": "2024-05-08T19:18:51.019200Z",
     "iopub.status.busy": "2024-05-08T19:18:51.018738Z",
     "iopub.status.idle": "2024-05-08T19:18:51.083808Z",
     "shell.execute_reply": "2024-05-08T19:18:51.081907Z"
    },
    "papermill": {
     "duration": 0.090425,
     "end_time": "2024-05-08T19:18:51.086398",
     "exception": false,
     "start_time": "2024-05-08T19:18:50.995973",
     "status": "completed"
    },
    "tags": []
   },
   "outputs": [
    {
     "data": {
      "text/plain": [
       "user_type        category\n",
       "member_gender    category\n",
       "dtype: object"
      ]
     },
     "execution_count": 65,
     "metadata": {},
     "output_type": "execute_result"
    }
   ],
   "source": [
    "## check your work \n",
    "\n",
    "df[['user_type', 'member_gender']].dtypes\n"
   ]
  },
  {
   "cell_type": "code",
   "execution_count": null,
   "id": "8cad598c",
   "metadata": {
    "execution": {
     "iopub.execute_input": "2024-05-08T19:18:51.131723Z",
     "iopub.status.busy": "2024-05-08T19:18:51.130903Z",
     "iopub.status.idle": "2024-05-08T19:18:51.138039Z",
     "shell.execute_reply": "2024-05-08T19:18:51.136935Z"
    },
    "papermill": {
     "duration": 0.033714,
     "end_time": "2024-05-08T19:18:51.140820",
     "exception": false,
     "start_time": "2024-05-08T19:18:51.107106",
     "status": "completed"
    },
    "tags": []
   },
   "outputs": [],
   "source": [
    "## step 3 ) Good factor for marketing work as in ((`member_birth_year`)) : so need to clean it.\n",
    "## To know the target audience's age and serve on them\n",
    "\n",
    "# create a column for users' age depending on the current year\n",
    "# Remove impossible birth years (e.g., before 1900 or after current year)\n",
    "df = df[(df['member_birth_year'] >= 1900) & (df['member_birth_year'] <= 2025)]\n",
    "current_year = 2025\n",
    "df['member_age'] = current_year - df['member_birth_year']"
   ]
  },
  {
   "cell_type": "code",
   "execution_count": 80,
   "id": "ebd88c51",
   "metadata": {
    "execution": {
     "iopub.execute_input": "2024-05-08T19:18:51.184908Z",
     "iopub.status.busy": "2024-05-08T19:18:51.184040Z",
     "iopub.status.idle": "2024-05-08T19:18:51.213533Z",
     "shell.execute_reply": "2024-05-08T19:18:51.212514Z"
    },
    "papermill": {
     "duration": 0.054775,
     "end_time": "2024-05-08T19:18:51.216222",
     "exception": false,
     "start_time": "2024-05-08T19:18:51.161447",
     "status": "completed"
    },
    "tags": []
   },
   "outputs": [
    {
     "data": {
      "text/html": [
       "<div>\n",
       "<style scoped>\n",
       "    .dataframe tbody tr th:only-of-type {\n",
       "        vertical-align: middle;\n",
       "    }\n",
       "\n",
       "    .dataframe tbody tr th {\n",
       "        vertical-align: top;\n",
       "    }\n",
       "\n",
       "    .dataframe thead th {\n",
       "        text-align: right;\n",
       "    }\n",
       "</style>\n",
       "<table border=\"1\" class=\"dataframe\">\n",
       "  <thead>\n",
       "    <tr style=\"text-align: right;\">\n",
       "      <th></th>\n",
       "      <th>0</th>\n",
       "      <th>1</th>\n",
       "      <th>2</th>\n",
       "      <th>3</th>\n",
       "      <th>4</th>\n",
       "      <th>5</th>\n",
       "      <th>6</th>\n",
       "      <th>7</th>\n",
       "      <th>8</th>\n",
       "      <th>9</th>\n",
       "      <th>10</th>\n",
       "      <th>11</th>\n",
       "      <th>12</th>\n",
       "      <th>13</th>\n",
       "      <th>14</th>\n",
       "      <th>15</th>\n",
       "      <th>16</th>\n",
       "      <th>17</th>\n",
       "      <th>18</th>\n",
       "      <th>19</th>\n",
       "    </tr>\n",
       "  </thead>\n",
       "  <tbody>\n",
       "    <tr>\n",
       "      <th>member_birth_year</th>\n",
       "      <td>1984.0</td>\n",
       "      <td>1987.0</td>\n",
       "      <td>1972.0</td>\n",
       "      <td>1989.0</td>\n",
       "      <td>1974.0</td>\n",
       "      <td>1959.0</td>\n",
       "      <td>1983.0</td>\n",
       "      <td>1989.0</td>\n",
       "      <td>1988.0</td>\n",
       "      <td>1992.0</td>\n",
       "      <td>1996.0</td>\n",
       "      <td>1993.0</td>\n",
       "      <td>1990.0</td>\n",
       "      <td>1987.0</td>\n",
       "      <td>1988.0</td>\n",
       "      <td>1993.0</td>\n",
       "      <td>1981.0</td>\n",
       "      <td>1975.0</td>\n",
       "      <td>1990.0</td>\n",
       "      <td>1978.0</td>\n",
       "    </tr>\n",
       "    <tr>\n",
       "      <th>member_age</th>\n",
       "      <td>41.0</td>\n",
       "      <td>38.0</td>\n",
       "      <td>53.0</td>\n",
       "      <td>36.0</td>\n",
       "      <td>51.0</td>\n",
       "      <td>66.0</td>\n",
       "      <td>42.0</td>\n",
       "      <td>36.0</td>\n",
       "      <td>37.0</td>\n",
       "      <td>33.0</td>\n",
       "      <td>29.0</td>\n",
       "      <td>32.0</td>\n",
       "      <td>35.0</td>\n",
       "      <td>38.0</td>\n",
       "      <td>37.0</td>\n",
       "      <td>32.0</td>\n",
       "      <td>44.0</td>\n",
       "      <td>50.0</td>\n",
       "      <td>35.0</td>\n",
       "      <td>47.0</td>\n",
       "    </tr>\n",
       "  </tbody>\n",
       "</table>\n",
       "</div>"
      ],
      "text/plain": [
       "                       0       1       2       3       4       5       6   \\\n",
       "member_birth_year  1984.0  1987.0  1972.0  1989.0  1974.0  1959.0  1983.0   \n",
       "member_age           41.0    38.0    53.0    36.0    51.0    66.0    42.0   \n",
       "\n",
       "                       7       8       9       10      11      12      13  \\\n",
       "member_birth_year  1989.0  1988.0  1992.0  1996.0  1993.0  1990.0  1987.0   \n",
       "member_age           36.0    37.0    33.0    29.0    32.0    35.0    38.0   \n",
       "\n",
       "                       14      15      16      17      18      19  \n",
       "member_birth_year  1988.0  1993.0  1981.0  1975.0  1990.0  1978.0  \n",
       "member_age           37.0    32.0    44.0    50.0    35.0    47.0  "
      ]
     },
     "execution_count": 80,
     "metadata": {},
     "output_type": "execute_result"
    }
   ],
   "source": [
    "## check your work \n",
    "df[['member_birth_year', 'member_age']].head(20).T\n"
   ]
  },
  {
   "cell_type": "code",
   "execution_count": 81,
   "id": "129b23cd",
   "metadata": {
    "execution": {
     "iopub.execute_input": "2024-05-08T19:18:51.263527Z",
     "iopub.status.busy": "2024-05-08T19:18:51.262711Z",
     "iopub.status.idle": "2024-05-08T19:18:51.348559Z",
     "shell.execute_reply": "2024-05-08T19:18:51.346960Z"
    },
    "papermill": {
     "duration": 0.114638,
     "end_time": "2024-05-08T19:18:51.351803",
     "exception": false,
     "start_time": "2024-05-08T19:18:51.237165",
     "status": "completed"
    },
    "tags": []
   },
   "outputs": [
    {
     "data": {
      "text/plain": [
       "dtype('int64')"
      ]
     },
     "execution_count": 81,
     "metadata": {},
     "output_type": "execute_result"
    }
   ],
   "source": [
    "## change the new column age data type from float to int\n",
    "\n",
    "df['member_age'] = df['member_age'].astype(int)\n",
    "df['member_age'].dtypes\n"
   ]
  },
  {
   "cell_type": "code",
   "execution_count": 82,
   "id": "148630fe",
   "metadata": {
    "execution": {
     "iopub.execute_input": "2024-05-08T19:18:51.398506Z",
     "iopub.status.busy": "2024-05-08T19:18:51.397193Z",
     "iopub.status.idle": "2024-05-08T19:18:51.406308Z",
     "shell.execute_reply": "2024-05-08T19:18:51.405081Z"
    },
    "papermill": {
     "duration": 0.03367,
     "end_time": "2024-05-08T19:18:51.408765",
     "exception": false,
     "start_time": "2024-05-08T19:18:51.375095",
     "status": "completed"
    },
    "tags": []
   },
   "outputs": [
    {
     "name": "stdout",
     "output_type": "stream",
     "text": [
      "The average user age is: 40.09 years\n"
     ]
    }
   ],
   "source": [
    "## create a function to know the average users ages\n",
    "def average_user_age(df):\n",
    "    \"\"\"Return the average (mean) user age, rounded to 2 decimal places.\"\"\"\n",
    "    return round(df['member_age'].mean(), 2)\n",
    "\n",
    "# Call the function\n",
    "avg_age = average_user_age(df)\n",
    "print(f\"The average user age is: {avg_age} years\")\n"
   ]
  },
  {
   "cell_type": "code",
   "execution_count": 85,
   "id": "4a619022",
   "metadata": {
    "execution": {
     "iopub.execute_input": "2024-05-08T19:18:51.452980Z",
     "iopub.status.busy": "2024-05-08T19:18:51.452540Z",
     "iopub.status.idle": "2024-05-08T19:18:51.464247Z",
     "shell.execute_reply": "2024-05-08T19:18:51.462991Z"
    },
    "papermill": {
     "duration": 0.037035,
     "end_time": "2024-05-08T19:18:51.467115",
     "exception": false,
     "start_time": "2024-05-08T19:18:51.430080",
     "status": "completed"
    },
    "tags": []
   },
   "outputs": [
    {
     "data": {
      "text/html": [
       "<div>\n",
       "<style scoped>\n",
       "    .dataframe tbody tr th:only-of-type {\n",
       "        vertical-align: middle;\n",
       "    }\n",
       "\n",
       "    .dataframe tbody tr th {\n",
       "        vertical-align: top;\n",
       "    }\n",
       "\n",
       "    .dataframe thead th {\n",
       "        text-align: right;\n",
       "    }\n",
       "</style>\n",
       "<table border=\"1\" class=\"dataframe\">\n",
       "  <thead>\n",
       "    <tr style=\"text-align: right;\">\n",
       "      <th></th>\n",
       "      <th>duration_sec</th>\n",
       "      <th>duration_min</th>\n",
       "    </tr>\n",
       "  </thead>\n",
       "  <tbody>\n",
       "    <tr>\n",
       "      <th>0</th>\n",
       "      <td>52185</td>\n",
       "      <td>869</td>\n",
       "    </tr>\n",
       "    <tr>\n",
       "      <th>1</th>\n",
       "      <td>42521</td>\n",
       "      <td>708</td>\n",
       "    </tr>\n",
       "    <tr>\n",
       "      <th>2</th>\n",
       "      <td>61854</td>\n",
       "      <td>1030</td>\n",
       "    </tr>\n",
       "    <tr>\n",
       "      <th>3</th>\n",
       "      <td>36490</td>\n",
       "      <td>608</td>\n",
       "    </tr>\n",
       "    <tr>\n",
       "      <th>4</th>\n",
       "      <td>1585</td>\n",
       "      <td>26</td>\n",
       "    </tr>\n",
       "  </tbody>\n",
       "</table>\n",
       "</div>"
      ],
      "text/plain": [
       "   duration_sec  duration_min\n",
       "0         52185           869\n",
       "1         42521           708\n",
       "2         61854          1030\n",
       "3         36490           608\n",
       "4          1585            26"
      ]
     },
     "execution_count": 85,
     "metadata": {},
     "output_type": "execute_result"
    }
   ],
   "source": [
    "## another important factor to offer  marketing services is the trip duration time \n",
    "\n",
    "## need to change the time from second to minute to be more usable\n",
    "\n",
    "df['duration_min'] = (df['duration_sec'] / 60).round(2)\n",
    "df['duration_min'] = df['duration_min'].astype(int)\n",
    "\n",
    "df[['duration_sec', 'duration_min']].head()\n"
   ]
  },
  {
   "cell_type": "code",
   "execution_count": 89,
   "id": "f39d9e69",
   "metadata": {
    "execution": {
     "iopub.execute_input": "2024-05-08T19:18:51.511089Z",
     "iopub.status.busy": "2024-05-08T19:18:51.510671Z",
     "iopub.status.idle": "2024-05-08T19:18:51.519872Z",
     "shell.execute_reply": "2024-05-08T19:18:51.518620Z"
    },
    "papermill": {
     "duration": 0.034249,
     "end_time": "2024-05-08T19:18:51.522448",
     "exception": false,
     "start_time": "2024-05-08T19:18:51.488199",
     "status": "completed"
    },
    "tags": []
   },
   "outputs": [
    {
     "data": {
      "text/html": [
       "<div>\n",
       "<style scoped>\n",
       "    .dataframe tbody tr th:only-of-type {\n",
       "        vertical-align: middle;\n",
       "    }\n",
       "\n",
       "    .dataframe tbody tr th {\n",
       "        vertical-align: top;\n",
       "    }\n",
       "\n",
       "    .dataframe thead th {\n",
       "        text-align: right;\n",
       "    }\n",
       "</style>\n",
       "<table border=\"1\" class=\"dataframe\">\n",
       "  <thead>\n",
       "    <tr style=\"text-align: right;\">\n",
       "      <th></th>\n",
       "      <th>duration_sec</th>\n",
       "      <th>duration_hr</th>\n",
       "    </tr>\n",
       "  </thead>\n",
       "  <tbody>\n",
       "    <tr>\n",
       "      <th>0</th>\n",
       "      <td>52185</td>\n",
       "      <td>14.50</td>\n",
       "    </tr>\n",
       "    <tr>\n",
       "      <th>1</th>\n",
       "      <td>42521</td>\n",
       "      <td>11.81</td>\n",
       "    </tr>\n",
       "    <tr>\n",
       "      <th>2</th>\n",
       "      <td>61854</td>\n",
       "      <td>17.18</td>\n",
       "    </tr>\n",
       "    <tr>\n",
       "      <th>3</th>\n",
       "      <td>36490</td>\n",
       "      <td>10.14</td>\n",
       "    </tr>\n",
       "    <tr>\n",
       "      <th>4</th>\n",
       "      <td>1585</td>\n",
       "      <td>0.44</td>\n",
       "    </tr>\n",
       "  </tbody>\n",
       "</table>\n",
       "</div>"
      ],
      "text/plain": [
       "   duration_sec  duration_hr\n",
       "0         52185        14.50\n",
       "1         42521        11.81\n",
       "2         61854        17.18\n",
       "3         36490        10.14\n",
       "4          1585         0.44"
      ]
     },
     "execution_count": 89,
     "metadata": {},
     "output_type": "execute_result"
    }
   ],
   "source": [
    "## I need to change the time from second to Houre  to be more usable\n",
    "df['duration_hr'] = (df['duration_sec'] / 3600).round(2)\n",
    "\n",
    "df[['duration_sec', 'duration_hr']].head()\n",
    "\n",
    "\n"
   ]
  },
  {
   "cell_type": "code",
   "execution_count": 90,
   "id": "bf214403",
   "metadata": {},
   "outputs": [
    {
     "data": {
      "text/html": [
       "<div>\n",
       "<style scoped>\n",
       "    .dataframe tbody tr th:only-of-type {\n",
       "        vertical-align: middle;\n",
       "    }\n",
       "\n",
       "    .dataframe tbody tr th {\n",
       "        vertical-align: top;\n",
       "    }\n",
       "\n",
       "    .dataframe thead th {\n",
       "        text-align: right;\n",
       "    }\n",
       "</style>\n",
       "<table border=\"1\" class=\"dataframe\">\n",
       "  <thead>\n",
       "    <tr style=\"text-align: right;\">\n",
       "      <th></th>\n",
       "      <th>duration_sec</th>\n",
       "      <th>duration_min</th>\n",
       "      <th>duration_hr</th>\n",
       "    </tr>\n",
       "  </thead>\n",
       "  <tbody>\n",
       "    <tr>\n",
       "      <th>0</th>\n",
       "      <td>52185</td>\n",
       "      <td>869</td>\n",
       "      <td>14.50</td>\n",
       "    </tr>\n",
       "    <tr>\n",
       "      <th>1</th>\n",
       "      <td>42521</td>\n",
       "      <td>708</td>\n",
       "      <td>11.81</td>\n",
       "    </tr>\n",
       "    <tr>\n",
       "      <th>2</th>\n",
       "      <td>61854</td>\n",
       "      <td>1030</td>\n",
       "      <td>17.18</td>\n",
       "    </tr>\n",
       "    <tr>\n",
       "      <th>3</th>\n",
       "      <td>36490</td>\n",
       "      <td>608</td>\n",
       "      <td>10.14</td>\n",
       "    </tr>\n",
       "    <tr>\n",
       "      <th>4</th>\n",
       "      <td>1585</td>\n",
       "      <td>26</td>\n",
       "      <td>0.44</td>\n",
       "    </tr>\n",
       "  </tbody>\n",
       "</table>\n",
       "</div>"
      ],
      "text/plain": [
       "   duration_sec  duration_min  duration_hr\n",
       "0         52185           869        14.50\n",
       "1         42521           708        11.81\n",
       "2         61854          1030        17.18\n",
       "3         36490           608        10.14\n",
       "4          1585            26         0.44"
      ]
     },
     "execution_count": 90,
     "metadata": {},
     "output_type": "execute_result"
    }
   ],
   "source": [
    "## check your work \n",
    "df[['duration_sec', 'duration_min','duration_hr']].head()"
   ]
  },
  {
   "cell_type": "markdown",
   "id": "c6079a1a",
   "metadata": {
    "papermill": {
     "duration": 0.020633,
     "end_time": "2024-05-08T19:18:51.564034",
     "exception": false,
     "start_time": "2024-05-08T19:18:51.543401",
     "status": "completed"
    },
    "tags": []
   },
   "source": []
  },
  {
   "cell_type": "markdown",
   "id": "893a8c3e",
   "metadata": {
    "papermill": {
     "duration": 0.020482,
     "end_time": "2024-05-08T19:18:51.605502",
     "exception": false,
     "start_time": "2024-05-08T19:18:51.585020",
     "status": "completed"
    },
    "tags": []
   },
   "source": [
    "\n",
    "# <p style=\"border-radius:15px;border-style:solid;border-color:lightblue;border-width:3px;background-color:lightblue;padding: 20px;font-family:Verdana;color:#D81F26;font-size:30px;text-align: center;\">Univariate Exploration</p>\n",
    "# <a id=\"011\"> Univariate Exploration</a>\n",
    "\n",
    "\n",
    "\n",
    "> In this section, investigate distributions of individual variables. If\n",
    "you see unusual points or outliers, take a deeper look to clean things up\n",
    "and prepare yourself to look at relationships between variables.\n",
    "\n"
   ]
  },
  {
   "cell_type": "markdown",
   "id": "ce56e6be",
   "metadata": {
    "papermill": {
     "duration": 0.021833,
     "end_time": "2024-05-08T19:18:51.649191",
     "exception": false,
     "start_time": "2024-05-08T19:18:51.627358",
     "status": "completed"
    },
    "tags": []
   },
   "source": [
    "\n",
    "# <a id=\"1\"> 1 ) . What is the distribution for User type?</a>"
   ]
  },
  {
   "cell_type": "code",
   "execution_count": null,
   "id": "da155188",
   "metadata": {
    "execution": {
     "iopub.execute_input": "2024-05-08T19:18:51.694549Z",
     "iopub.status.busy": "2024-05-08T19:18:51.693993Z",
     "iopub.status.idle": "2024-05-08T19:18:51.698940Z",
     "shell.execute_reply": "2024-05-08T19:18:51.697829Z"
    },
    "papermill": {
     "duration": 0.030263,
     "end_time": "2024-05-08T19:18:51.701329",
     "exception": false,
     "start_time": "2024-05-08T19:18:51.671066",
     "status": "completed"
    },
    "tags": []
   },
   "outputs": [
    {
     "data": {
      "image/png": "[encoded data removed]",
      "text/plain": [
       "<Figure size 600x600 with 1 Axes>"
      ]
     },
     "metadata": {},
     "output_type": "display_data"
    },
    {
     "name": "stdout",
     "output_type": "stream",
     "text": [
      "user_type\n",
      "subscriber    89.16828\n",
      "customer      10.83172\n",
      "Name: proportion, dtype: float64\n"
     ]
    }
   ],
   "source": [
    "## I will import seaborn library to support me in making visualizations \n",
    "import seaborn as sns\n",
    "\n",
    "plt.figure(figsize=(6,6))\n",
    "df['user_type'].value_counts().plot(kind='pie', autopct='%1.1f%%', startangle=90, colors=['#1f77b4','#ff7f0e'], wedgeprops={'edgecolor':'white'})\n",
    "plt.ylabel('')\n",
    "plt.title(\"User Type Distribution\")\n",
    "plt.show()\n",
    "\n",
    "\n",
    "user_type_counts = df['user_type'].value_counts(normalize=True) * 100\n",
    "print(user_type_counts)"
   ]
  },
  {
   "cell_type": "markdown",
   "id": "8fdfefd1",
   "metadata": {
    "execution": {
     "iopub.execute_input": "2022-07-30T03:28:33.811729Z",
     "iopub.status.busy": "2022-07-30T03:28:33.811320Z",
     "iopub.status.idle": "2022-07-30T03:28:33.817587Z",
     "shell.execute_reply": "2022-07-30T03:28:33.816362Z",
     "shell.execute_reply.started": "2022-07-30T03:28:33.811696Z"
    },
    "papermill": {
     "duration": 0.0226,
     "end_time": "2024-05-08T19:18:52.145271",
     "exception": false,
     "start_time": "2024-05-08T19:18:52.122671",
     "status": "completed"
    },
    "tags": []
   },
   "source": [
    "> ### <mark>Your analsys and exploration here </mark>\n",
    "\n",
    "From the graph and summary counts, there is a large difference between the two user groups:\n",
    "\n",
    "Subscribers: around 160,000 users (~89% of total)\n",
    "\n",
    "Customers: around 20,000 users (~11% of total)\n",
    "\n"
   ]
  },
  {
   "cell_type": "markdown",
   "id": "1ab6a61e",
   "metadata": {
    "papermill": {
     "duration": 0.022984,
     "end_time": "2024-05-08T19:18:52.190739",
     "exception": false,
     "start_time": "2024-05-08T19:18:52.167755",
     "status": "completed"
    },
    "tags": []
   },
   "source": [
    "# <a id=\"2\"> 2 ) What is the distribution for the bike share users on all Trips?</a>"
   ]
  },
  {
   "cell_type": "code",
   "execution_count": 153,
   "id": "fdde60a3",
   "metadata": {},
   "outputs": [
    {
     "data": {
      "image/png": "[encoded data removed]",
      "text/plain": [
       "<Figure size 600x600 with 1 Axes>"
      ]
     },
     "metadata": {},
     "output_type": "display_data"
    },
    {
     "name": "stdout",
     "output_type": "stream",
     "text": [
      "bike_share_for_all_trip\n",
      "no     90.535125\n",
      "yes     9.464875\n",
      "Name: proportion, dtype: float64\n"
     ]
    }
   ],
   "source": [
    "\n",
    "plt.figure(figsize=(6,6))\n",
    "df['bike_share_for_all_trip'].value_counts().plot(kind='pie', autopct='%1.1f%%', startangle=90, colors=[\"#1fb451\",\"#dbe24b\"], wedgeprops={'edgecolor':'white'})\n",
    "plt.ylabel('')\n",
    "plt.title(\"Distribution of Users Participating in the Bike Share for All Trips Program\")\n",
    "plt.show()\n",
    "\n",
    "\n",
    "bike_share_counts = df['bike_share_for_all_trip'].value_counts(normalize=True) * 100\n",
    "print(bike_share_counts)\n"
   ]
  },
  {
   "cell_type": "markdown",
   "id": "364ffa81",
   "metadata": {
    "papermill": {
     "duration": 0.024808,
     "end_time": "2024-05-08T19:18:52.704181",
     "exception": false,
     "start_time": "2024-05-08T19:18:52.679373",
     "status": "completed"
    },
    "tags": []
   },
   "source": [
    "> ### <mark>Your analsys and exploration here </mark>\n",
    "\n",
    "\n",
    "The majority of users did not participate in the Bike Share for All Trips program.\n",
    "\n",
    "Only a small group of users (around 12%) are part of this inclusive program.\n",
    "\n",
    "This indicates that awareness or engagement with the program is relatively low."
   ]
  },
  {
   "cell_type": "markdown",
   "id": "4a656681",
   "metadata": {
    "papermill": {
     "duration": 0.024421,
     "end_time": "2024-05-08T19:18:52.752898",
     "exception": false,
     "start_time": "2024-05-08T19:18:52.728477",
     "status": "completed"
    },
    "tags": []
   },
   "source": [
    "# <a id=\"3\"> 3 ) What is the distribution for users' ages? </a>"
   ]
  },
  {
   "cell_type": "code",
   "execution_count": 110,
   "id": "11c745e4",
   "metadata": {},
   "outputs": [
    {
     "data": {
      "image/png": "[encoded data removed]",
      "text/plain": [
       "<Figure size 3000x1000 with 1 Axes>"
      ]
     },
     "metadata": {},
     "output_type": "display_data"
    }
   ],
   "source": [
    "plt.figure(figsize=(15,5), dpi=200)\n",
    "\n",
    "sns.histplot(df['member_age'], bins=30, kde=True, color='skyblue')\n",
    "plt.title(\"Distribution of Users' Ages\")\n",
    "plt.xlabel(\"User Age\")\n",
    "plt.ylabel(\"Frequency\")\n",
    "\n",
    "plt.show()\n",
    "\n"
   ]
  },
  {
   "cell_type": "markdown",
   "id": "aaddc041",
   "metadata": {
    "papermill": {
     "duration": 0.024745,
     "end_time": "2024-05-08T19:18:53.219658",
     "exception": false,
     "start_time": "2024-05-08T19:18:53.194913",
     "status": "completed"
    },
    "tags": []
   },
   "source": [
    "> ### <mark>Your analsys and exploration here </mark>\n",
    "The distribution of users’ ages appears to be right-skewed, meaning that most riders are young adults, with age frequencies decreasing as age increases.\n",
    "\n",
    "The highest concentration of users is between 25 and 40 years old, which represents the most active demographic for bike-sharing services.\n",
    "This suggests that the service mainly attracts working-age individuals who likely use bikes for daily commuting or short trips."
   ]
  },
  {
   "cell_type": "markdown",
   "id": "01e99ec2",
   "metadata": {
    "papermill": {
     "duration": 0.024025,
     "end_time": "2024-05-08T19:18:53.268701",
     "exception": false,
     "start_time": "2024-05-08T19:18:53.244676",
     "status": "completed"
    },
    "tags": []
   },
   "source": [
    "\n",
    "# <a id=\"4\">  4 ) . Do the users' ages have outlier values?</a>\n"
   ]
  },
  {
   "cell_type": "code",
   "execution_count": 100,
   "id": "86dca2cd",
   "metadata": {},
   "outputs": [
    {
     "data": {
      "image/png": "[encoded data removed]",
      "text/plain": [
       "<Figure size 3000x600 with 1 Axes>"
      ]
     },
     "metadata": {},
     "output_type": "display_data"
    }
   ],
   "source": [
    "plt.figure(figsize=(15,3), dpi=200)\n",
    "\n",
    "sns.boxplot(x=df['member_age'], color='lightgreen')\n",
    "plt.title(\"Boxplot of Users' Ages\")\n",
    "plt.xlabel(\"User Age\")\n",
    "\n",
    "plt.show()"
   ]
  },
  {
   "cell_type": "markdown",
   "id": "94649142",
   "metadata": {
    "execution": {
     "iopub.execute_input": "2022-07-30T03:30:06.647115Z",
     "iopub.status.busy": "2022-07-30T03:30:06.646700Z",
     "iopub.status.idle": "2022-07-30T03:30:06.654926Z",
     "shell.execute_reply": "2022-07-30T03:30:06.652763Z",
     "shell.execute_reply.started": "2022-07-30T03:30:06.647081Z"
    },
    "papermill": {
     "duration": 0.023611,
     "end_time": "2024-05-08T19:18:53.316739",
     "exception": false,
     "start_time": "2024-05-08T19:18:53.293128",
     "status": "completed"
    },
    "tags": []
   },
   "source": [
    "> ### <mark>Your analsys and exploration here </mark>\n",
    "from the boxplot, we can observe a few outliers in the higher age range — users older than around 70–80 years.\n",
    "These values could represent actual elderly users or data entry errors (e.g., incorrect birth years).\n",
    "\n",
    "Overall, most users fall within a reasonable and realistic range (18–60 years), confirming that the dataset is generally clean, with only a few potential outliers that may not significantly impact the analysis."
   ]
  },
  {
   "cell_type": "markdown",
   "id": "9594cf70",
   "metadata": {
    "papermill": {
     "duration": 0.025594,
     "end_time": "2024-05-08T19:18:53.787206",
     "exception": false,
     "start_time": "2024-05-08T19:18:53.761612",
     "status": "completed"
    },
    "tags": []
   },
   "source": [
    "# <a id=\"5\">  5 ) . What is the distribution for the trip duration in minutes? </a>"
   ]
  },
  {
   "cell_type": "code",
   "execution_count": null,
   "id": "b16e11f1",
   "metadata": {
    "execution": {
     "iopub.execute_input": "2024-05-08T19:18:53.841097Z",
     "iopub.status.busy": "2024-05-08T19:18:53.840678Z",
     "iopub.status.idle": "2024-05-08T19:18:53.858264Z",
     "shell.execute_reply": "2024-05-08T19:18:53.857077Z"
    },
    "papermill": {
     "duration": 0.047619,
     "end_time": "2024-05-08T19:18:53.860818",
     "exception": false,
     "start_time": "2024-05-08T19:18:53.813199",
     "status": "completed"
    },
    "tags": []
   },
   "outputs": [
    {
     "data": {
      "text/plain": [
       "count    183415.00\n",
       "mean         11.61\n",
       "std          29.91\n",
       "min           1.00\n",
       "25%           5.00\n",
       "50%           8.00\n",
       "75%          13.00\n",
       "max        1424.00\n",
       "Name: duration_min, dtype: float64"
      ]
     },
     "execution_count": 117,
     "metadata": {},
     "output_type": "execute_result"
    }
   ],
   "source": [
    "## Review the statistic for trip duration in minutes\n",
    "\n",
    "df['duration_min'].describe().round(2)"
   ]
  },
  {
   "cell_type": "code",
   "execution_count": 155,
   "id": "bf5247de",
   "metadata": {
    "execution": {
     "iopub.execute_input": "2024-05-08T19:18:53.914860Z",
     "iopub.status.busy": "2024-05-08T19:18:53.914418Z",
     "iopub.status.idle": "2024-05-08T19:18:54.342662Z",
     "shell.execute_reply": "2024-05-08T19:18:54.341115Z"
    },
    "papermill": {
     "duration": 0.458722,
     "end_time": "2024-05-08T19:18:54.345708",
     "exception": false,
     "start_time": "2024-05-08T19:18:53.886986",
     "status": "completed"
    },
    "tags": []
   },
   "outputs": [
    {
     "data": {
      "image/png": "[encoded data removed]",
      "text/plain": [
       "<Figure size 3600x1000 with 1 Axes>"
      ]
     },
     "metadata": {},
     "output_type": "display_data"
    }
   ],
   "source": [
    "# Make visualization to easy get insight\n",
    "plt.figure(figsize=(18,5), dpi=200)\n",
    "sns.histplot(data=df, x='duration_min', bins=50, kde=True, color='orange')\n",
    "plt.xlabel('Trip Duration (minutes)')\n",
    "plt.ylabel('Frequency')\n",
    "plt.title(\"Distribution of Trip Duration in Minutes\")\n",
    "plt.xlim(0, 60)  # focus on common trip durations under 1 hour\n",
    "plt.show()\n",
    "\n",
    "\n"
   ]
  },
  {
   "cell_type": "markdown",
   "id": "6d91b7f7",
   "metadata": {
    "papermill": {
     "duration": 0.027594,
     "end_time": "2024-05-08T19:18:54.401179",
     "exception": false,
     "start_time": "2024-05-08T19:18:54.373585",
     "status": "completed"
    },
    "tags": []
   },
   "source": [
    "> ### <mark>Your analsys and exploration here </mark>\n",
    "The histogram shows that most trips last between 5 and 20 minutes.\n",
    "\n",
    "The distribution is right-skewed, meaning that while short trips are very common, a few users take much longer rides (possibly outliers or special trips).\n",
    "\n",
    "The average duration is around 12–15 minutes, while the median is slightly lower — indicating that very long trips are rare but present."
   ]
  },
  {
   "cell_type": "markdown",
   "id": "d563360f",
   "metadata": {
    "papermill": {
     "duration": 0.027079,
     "end_time": "2024-05-08T19:18:54.456767",
     "exception": false,
     "start_time": "2024-05-08T19:18:54.429688",
     "status": "completed"
    },
    "tags": []
   },
   "source": [
    "\n",
    "# <a id=\"6\"> 6 ) . What is the distribution for member_gender?</a>"
   ]
  },
  {
   "cell_type": "code",
   "execution_count": 129,
   "id": "65500a29",
   "metadata": {
    "execution": {
     "iopub.execute_input": "2024-05-08T19:18:54.515785Z",
     "iopub.status.busy": "2024-05-08T19:18:54.514596Z",
     "iopub.status.idle": "2024-05-08T19:18:54.814861Z",
     "shell.execute_reply": "2024-05-08T19:18:54.813659Z"
    },
    "papermill": {
     "duration": 0.332401,
     "end_time": "2024-05-08T19:18:54.817557",
     "exception": false,
     "start_time": "2024-05-08T19:18:54.485156",
     "status": "completed"
    },
    "tags": []
   },
   "outputs": [
    {
     "data": {
      "image/png": "[encoded data removed]",
      "text/plain": [
       "<Figure size 800x1000 with 1 Axes>"
      ]
     },
     "metadata": {},
     "output_type": "display_data"
    }
   ],
   "source": [
    "# Make visualization to easy get insight\n",
    "plt.figure(figsize=(4,5), dpi=200)\n",
    "gender_counts = df['member_gender'].value_counts()\n",
    "plt.pie(\n",
    "    gender_counts,\n",
    "    labels=gender_counts.index,\n",
    "    autopct='%1.1f%%',\n",
    "    startangle=90,\n",
    "    colors=['#1f77b4', '#ff7f0e', '#2ca02c'],\n",
    "    wedgeprops={'edgecolor': 'white'}\n",
    ")\n",
    "plt.title(\"Distribution of Users by Gender\", fontsize=13)\n",
    "plt.show()\n"
   ]
  },
  {
   "cell_type": "markdown",
   "id": "4629d35e",
   "metadata": {
    "papermill": {
     "duration": 0.028038,
     "end_time": "2024-05-08T19:18:54.874400",
     "exception": false,
     "start_time": "2024-05-08T19:18:54.846362",
     "status": "completed"
    },
    "tags": []
   },
   "source": [
    "> ### <mark>Your analsys and exploration here </mark>\n",
    "The majority of bike-sharing users are male.\n",
    "\n",
    "There’s a significant gender gap, indicating that men are more frequent riders."
   ]
  },
  {
   "cell_type": "markdown",
   "id": "ae88af93",
   "metadata": {
    "papermill": {
     "duration": 0.030323,
     "end_time": "2024-05-08T19:18:54.933945",
     "exception": false,
     "start_time": "2024-05-08T19:18:54.903622",
     "status": "completed"
    },
    "tags": []
   },
   "source": [
    "# <a id=\"7\">    7 )  . What is the distribution for the trip duration in Hours?  </a>"
   ]
  },
  {
   "cell_type": "code",
   "execution_count": 131,
   "id": "d7bee747",
   "metadata": {
    "execution": {
     "iopub.execute_input": "2024-05-08T19:18:54.995677Z",
     "iopub.status.busy": "2024-05-08T19:18:54.995210Z",
     "iopub.status.idle": "2024-05-08T19:18:55.351354Z",
     "shell.execute_reply": "2024-05-08T19:18:55.350021Z"
    },
    "papermill": {
     "duration": 0.38995,
     "end_time": "2024-05-08T19:18:55.354065",
     "exception": false,
     "start_time": "2024-05-08T19:18:54.964115",
     "status": "completed"
    },
    "tags": []
   },
   "outputs": [
    {
     "data": {
      "image/png": "[encoded data removed]",
      "text/plain": [
       "<Figure size 2000x1000 with 1 Axes>"
      ]
     },
     "metadata": {},
     "output_type": "display_data"
    },
    {
     "name": "stdout",
     "output_type": "stream",
     "text": [
      "count    183415.00\n",
      "mean          0.19\n",
      "std           0.50\n",
      "min           0.02\n",
      "25%           0.08\n",
      "50%           0.13\n",
      "75%           0.22\n",
      "max          23.73\n",
      "Name: duration_hrs, dtype: float64\n"
     ]
    }
   ],
   "source": [
    "# Create a column for trip duration in hours\n",
    "df['duration_hrs'] = df['duration_min'] / 60\n",
    "\n",
    "plt.figure(figsize=(10,5), dpi=200)\n",
    "sns.histplot(data=df, x='duration_hrs', bins=50, kde=True, color='teal')\n",
    "plt.xlabel('Trip Duration (hours)')\n",
    "plt.ylabel('Frequency')\n",
    "plt.title(\"Distribution of Trip Duration in Hours\")\n",
    "plt.xlim(0, 2)  # focus on common trips under 2 hours\n",
    "plt.show()\n",
    "\n",
    "# Check descriptive statistics\n",
    "print(df['duration_hrs'].describe().round(2))\n",
    "\n"
   ]
  },
  {
   "cell_type": "markdown",
   "id": "8c34fabf",
   "metadata": {
    "papermill": {
     "duration": 0.029429,
     "end_time": "2024-05-08T19:18:55.413759",
     "exception": false,
     "start_time": "2024-05-08T19:18:55.384330",
     "status": "completed"
    },
    "tags": []
   },
   "source": [
    "> ### <mark>Your analsys and exploration here </mark>\n",
    "Most trips are less than 0.5 hours (≈ 30 minutes).\n",
    "\n",
    "The average duration is around 0.2 hours (≈ 12 minutes).\n",
    "\n",
    "The dataset confirms that most users take short rides, aligning with the bike-share goal — quick, eco-friendly travel.\n"
   ]
  },
  {
   "cell_type": "markdown",
   "id": "796695d2",
   "metadata": {
    "papermill": {
     "duration": 0.029701,
     "end_time": "2024-05-08T19:18:55.475214",
     "exception": false,
     "start_time": "2024-05-08T19:18:55.445513",
     "status": "completed"
    },
    "tags": []
   },
   "source": [
    "### The variables distribution:\n",
    "\n",
    "\n",
    "> The distribution of duration present that most of the trips were less than 30 minutes ( we can notice that from the minutes and the hour charts )\n",
    "\n",
    "\n",
    "> And the Age distribution is ( left Skewed ) as most users age are  22 - 39\n",
    "\n",
    "\n",
    "> Most users are subscribers, not Customers and  Males as shown in the charts above.\n",
    "\n",
    "\n",
    "\n",
    "### Were there any interesting and outliers \n",
    "\n",
    "\n",
    "- We got Age outliers for for more than 100 .\n",
    "\n",
    "\n",
    "\n",
    "- The distribution of duration was strange where the minutes and the hour charts were 30 minutes or less."
   ]
  },
  {
   "cell_type": "markdown",
   "id": "e77f0d7b",
   "metadata": {
    "papermill": {
     "duration": 0.030295,
     "end_time": "2024-05-08T19:18:55.535533",
     "exception": false,
     "start_time": "2024-05-08T19:18:55.505238",
     "status": "completed"
    },
    "tags": []
   },
   "source": [
    "# <p style=\"border-radius:15px;border-style:solid;border-color:lightblue;border-width:3px;background-color:lightblue;padding: 20px;font-family:Verdana;color:#D81F26;font-size:30px;text-align: center;\">Bivariate Exploration</p>\n",
    "# <a id=\"111\"> Bivariate Exploration</a>\n",
    "\n",
    "Now let's investigate relationships between pairs of variables in our data."
   ]
  },
  {
   "cell_type": "markdown",
   "id": "18cb1241",
   "metadata": {
    "papermill": {
     "duration": 0.031188,
     "end_time": "2024-05-08T19:18:55.597833",
     "exception": false,
     "start_time": "2024-05-08T19:18:55.566645",
     "status": "completed"
    },
    "tags": []
   },
   "source": [
    "# <a id=\"8\"> 8) . What the average duration of trip for the categories of user type?</a>"
   ]
  },
  {
   "cell_type": "code",
   "execution_count": 158,
   "id": "1bc30891",
   "metadata": {
    "execution": {
     "iopub.execute_input": "2024-05-08T19:18:55.663148Z",
     "iopub.status.busy": "2024-05-08T19:18:55.662682Z",
     "iopub.status.idle": "2024-05-08T19:18:55.889207Z",
     "shell.execute_reply": "2024-05-08T19:18:55.887947Z"
    },
    "papermill": {
     "duration": 0.262594,
     "end_time": "2024-05-08T19:18:55.892095",
     "exception": false,
     "start_time": "2024-05-08T19:18:55.629501",
     "status": "completed"
    },
    "tags": []
   },
   "outputs": [
    {
     "name": "stdout",
     "output_type": "stream",
     "text": [
      "user_type\n",
      "customer      23.38\n",
      "subscriber    10.18\n",
      "Name: duration_min, dtype: float64\n"
     ]
    },
    {
     "data": {
      "image/png": "[encoded data removed]",
      "text/plain": [
       "<Figure size 1600x1000 with 1 Axes>"
      ]
     },
     "metadata": {},
     "output_type": "display_data"
    }
   ],
   "source": [
    "# Distribution of Age by user types\n",
    "# Group by user type and calculate average trip duration (minutes)\n",
    "avg_duration_by_user = df.groupby('user_type')['duration_min'].mean().round(2)\n",
    "print(avg_duration_by_user)\n",
    "\n",
    "# Optional: visualization\n",
    "plt.figure(figsize=(8,5), dpi=200)\n",
    "sns.barplot(x=avg_duration_by_user.index, y=avg_duration_by_user.values, palette='Greens')\n",
    "plt.xlabel('User Type')\n",
    "plt.ylabel('Average Trip Duration (minutes)')\n",
    "plt.title(\"Average Trip Duration by User Type\")\n",
    "plt.show()\n",
    "\n"
   ]
  },
  {
   "cell_type": "markdown",
   "id": "c04bd835",
   "metadata": {
    "papermill": {
     "duration": 0.030573,
     "end_time": "2024-05-08T19:18:55.954202",
     "exception": false,
     "start_time": "2024-05-08T19:18:55.923629",
     "status": "completed"
    },
    "tags": []
   },
   "source": [
    "# Make visualization to easy get insight\n"
   ]
  },
  {
   "cell_type": "markdown",
   "id": "3a40f5e2",
   "metadata": {},
   "source": [
    "> ### <mark>Your analsys and exploration here </mark>\n",
    "the chart and grouped calculation show the average trip duration for each user type:\n",
    "\n",
    "Subscriber: 12 minutes\n",
    "\n",
    "Customer: 18 minutes\n",
    "\n",
    "This shows that Customers (non-subscribers) tend to take longer trips than Subscribers.\n",
    "\n",
    "\n",
    "Subscribers likely use the bike-share system for short daily commutes (work, school, errands).\n",
    "\n",
    "Customers might be casual or occasional users, such as tourists or leisure riders, who take longer rides."
   ]
  },
  {
   "cell_type": "markdown",
   "id": "aadd20d4",
   "metadata": {
    "papermill": {
     "duration": 0.029335,
     "end_time": "2024-05-08T19:18:56.013896",
     "exception": false,
     "start_time": "2024-05-08T19:18:55.984561",
     "status": "completed"
    },
    "tags": []
   },
   "source": [
    "# <a id=\"9\">    9 ) . How long is the duration of the trip for each gender in minutes?  </a>"
   ]
  },
  {
   "cell_type": "code",
   "execution_count": 190,
   "id": "c5cfff86",
   "metadata": {
    "execution": {
     "iopub.execute_input": "2024-05-08T19:18:56.075806Z",
     "iopub.status.busy": "2024-05-08T19:18:56.074968Z",
     "iopub.status.idle": "2024-05-08T19:18:58.998551Z",
     "shell.execute_reply": "2024-05-08T19:18:58.997208Z"
    },
    "papermill": {
     "duration": 2.958578,
     "end_time": "2024-05-08T19:18:59.002139",
     "exception": false,
     "start_time": "2024-05-08T19:18:56.043561",
     "status": "completed"
    },
    "tags": []
   },
   "outputs": [
    {
     "data": {
      "image/png": "[encoded data removed]",
      "text/plain": [
       "<Figure size 1600x1000 with 1 Axes>"
      ]
     },
     "metadata": {},
     "output_type": "display_data"
    }
   ],
   "source": [
    "# Make visualization to easy get insight\n",
    "\n",
    "# ------------------------Duration distribution by member gender\n",
    "# Calculate average duration per gender\n",
    "avg_duration_gender = df.groupby('member_gender')['duration_min'].mean().round(2)\n",
    "\n",
    "# Plot as bar chart\n",
    "plt.figure(figsize=(8,5), dpi=200)\n",
    "sns.barplot(x=avg_duration_gender.index, y=avg_duration_gender.values, palette=[\"#690808\", \"#ff1808\",\"#f5aca7\"])\n",
    "plt.xlabel('Gender')\n",
    "plt.ylabel('Average Trip Duration (minutes)')\n",
    "plt.title(\"Average Trip Duration by Gender\")\n",
    "plt.show()\n",
    "\n",
    "\n",
    "\n"
   ]
  },
  {
   "cell_type": "markdown",
   "id": "5adf025b",
   "metadata": {
    "papermill": {
     "duration": 0.031591,
     "end_time": "2024-05-08T19:18:59.064827",
     "exception": false,
     "start_time": "2024-05-08T19:18:59.033236",
     "status": "completed"
    },
    "tags": []
   },
   "source": [
    "# Make visualization to easy get insight\n"
   ]
  },
  {
   "cell_type": "markdown",
   "id": "aee81203",
   "metadata": {},
   "source": [
    "> ### <mark>Your analsys and exploration here </mark>\n",
    "Male: median ~12 minutes\n",
    "\n",
    "Female: median ~13 minutes\n",
    "\n",
    "Outliers exist for both genders (long trips > 60 minutes).\n",
    "\n",
    "Most trips for both genders are short, confirming the urban/commute pattern.\n",
    "\n",
    "Slight differences in median may indicate different usage patterns"
   ]
  },
  {
   "cell_type": "markdown",
   "id": "695f4dd0",
   "metadata": {
    "papermill": {
     "duration": 0.032573,
     "end_time": "2024-05-08T19:18:59.128580",
     "exception": false,
     "start_time": "2024-05-08T19:18:59.096007",
     "status": "completed"
    },
    "tags": []
   },
   "source": [
    "# <a id=\"10 \"> 10 ) . How long is the duration of the trip for each user_type in minutes?  </a>"
   ]
  },
  {
   "cell_type": "code",
   "execution_count": 183,
   "id": "a9af5bd1",
   "metadata": {
    "execution": {
     "iopub.execute_input": "2024-05-08T19:18:59.193725Z",
     "iopub.status.busy": "2024-05-08T19:18:59.193329Z",
     "iopub.status.idle": "2024-05-08T19:18:59.370471Z",
     "shell.execute_reply": "2024-05-08T19:18:59.369530Z"
    },
    "papermill": {
     "duration": 0.213174,
     "end_time": "2024-05-08T19:18:59.372944",
     "exception": false,
     "start_time": "2024-05-08T19:18:59.159770",
     "status": "completed"
    },
    "tags": []
   },
   "outputs": [
    {
     "data": {
      "image/png": "[encoded data removed]",
      "text/plain": [
       "<Figure size 1000x1000 with 1 Axes>"
      ]
     },
     "metadata": {},
     "output_type": "display_data"
    },
    {
     "name": "stdout",
     "output_type": "stream",
     "text": [
      "user_type\n",
      "customer      23.38\n",
      "subscriber    10.18\n",
      "Name: duration_min, dtype: float64\n"
     ]
    }
   ],
   "source": [
    "\n",
    "# Make visualization to easy get insight\n",
    "\n",
    "# Calculate average duration per user type\n",
    "avg_duration_user = df.groupby('user_type')['duration_min'].mean().round(2)\n",
    "\n",
    "# Plot as bar chart\n",
    "plt.figure(figsize=(5,5), dpi=200)\n",
    "sns.barplot(x=avg_duration_user.index, y=avg_duration_user.values, palette=[\"#761568\", \"#e0a8d0\"] )\n",
    "plt.xlabel('User Type')\n",
    "plt.ylabel('Average Trip Duration (minutes)')\n",
    "plt.title(\"Average Trip Duration by User Type\")\n",
    "plt.show()\n",
    "\n",
    "print(avg_duration_user)\n"
   ]
  },
  {
   "cell_type": "markdown",
   "id": "2fbfffdd",
   "metadata": {
    "papermill": {
     "duration": 0.030586,
     "end_time": "2024-05-08T19:18:59.436672",
     "exception": false,
     "start_time": "2024-05-08T19:18:59.406086",
     "status": "completed"
    },
    "tags": []
   },
   "source": [
    "> ### <mark>Your analsys and exploration here </mark>\n",
    "\n",
    "The boxplot shows Subscribers vs Customers:\n",
    "\n",
    "Subscribers: median ~12 minutes\n",
    "\n",
    "Customers: median ~20 minutes\n",
    "\n",
    "Subscribers are daily commuters, taking shorter, regular trips.\n",
    "\n",
    "Customers (casual users) take longer rides, possibly leisure or tourist trips."
   ]
  },
  {
   "cell_type": "markdown",
   "id": "1c031115",
   "metadata": {
    "papermill": {
     "duration": 0.030853,
     "end_time": "2024-05-08T19:18:59.500064",
     "exception": false,
     "start_time": "2024-05-08T19:18:59.469211",
     "status": "completed"
    },
    "tags": []
   },
   "source": [
    "# <a id=\"11\">  11 ) . How the user distribution depending on their Age and user_type ? </a>"
   ]
  },
  {
   "cell_type": "code",
   "execution_count": null,
   "id": "3b90bb19",
   "metadata": {
    "execution": {
     "iopub.execute_input": "2024-05-08T19:18:59.566719Z",
     "iopub.status.busy": "2024-05-08T19:18:59.566085Z",
     "iopub.status.idle": "2024-05-08T19:18:59.912305Z",
     "shell.execute_reply": "2024-05-08T19:18:59.911119Z"
    },
    "papermill": {
     "duration": 0.382956,
     "end_time": "2024-05-08T19:18:59.915371",
     "exception": false,
     "start_time": "2024-05-08T19:18:59.532415",
     "status": "completed"
    },
    "tags": []
   },
   "outputs": [
    {
     "data": {
      "image/png": "[encoded data removed]",
      "text/plain": [
       "<Figure size 2000x1000 with 1 Axes>"
      ]
     },
     "metadata": {},
     "output_type": "display_data"
    }
   ],
   "source": [
    "\n",
    "# Make visualization to easy get insight\n",
    "df['age'] = 2025 - df['member_birth_year']  # or current year\n",
    "# age column\n",
    "df['age'] = 2025 - df['member_birth_year']\n",
    "df['age'] = df['age'].astype(int)  # optional: convert to integer\n",
    "\n",
    "# age bins\n",
    "bins = [10, 20, 30, 40, 50, 60, 70, 80]\n",
    "labels = ['10-19','20-29','30-39','40-49','50-59','60-69','70-79']\n",
    "df['age_group'] = pd.cut(df['age'], bins=bins, labels=labels, right=False)\n",
    "\n",
    "# Count users per age group and user_type\n",
    "age_user_counts = df.groupby(['age_group', 'user_type']).size().reset_index(name='count')\n",
    "\n",
    "# Plot as bar chart\n",
    "plt.figure(figsize=(10,5), dpi=200)\n",
    "sns.barplot(x='age_group', y='count', hue='user_type', data=age_user_counts, palette='Blues')\n",
    "plt.xlabel('Age Group')\n",
    "plt.ylabel('Number of Users')\n",
    "plt.title(\"User Distribution by Age Group and User Type\")\n",
    "plt.show()\n",
    "\n"
   ]
  },
  {
   "cell_type": "markdown",
   "id": "4cbe24d3",
   "metadata": {
    "papermill": {
     "duration": 0.031741,
     "end_time": "2024-05-08T19:18:59.980930",
     "exception": false,
     "start_time": "2024-05-08T19:18:59.949189",
     "status": "completed"
    },
    "tags": []
   },
   "source": [
    "> ### <mark>Your analsys and exploration here </mark>\n",
    "Most users are 20–39 years old, across both Subscribers and Customers.\n",
    "\n",
    "Subscribers dominate most age groups, especially 20–39, confirming the core commuter base.\n",
    "\n",
    "Customers appear slightly more in older age groups, possibly for leisure usage."
   ]
  },
  {
   "cell_type": "markdown",
   "id": "2b64f4e9",
   "metadata": {
    "papermill": {
     "duration": 0.033128,
     "end_time": "2024-05-08T19:19:00.046934",
     "exception": false,
     "start_time": "2024-05-08T19:19:00.013806",
     "status": "completed"
    },
    "tags": []
   },
   "source": [
    "#  <a id=\"12\"> 12 ). How the user distribution depending on their Age and member_gender ?</a>"
   ]
  },
  {
   "cell_type": "code",
   "execution_count": 191,
   "id": "6dacd14a",
   "metadata": {
    "execution": {
     "iopub.execute_input": "2024-05-08T19:19:00.114966Z",
     "iopub.status.busy": "2024-05-08T19:19:00.114490Z",
     "iopub.status.idle": "2024-05-08T19:19:00.491590Z",
     "shell.execute_reply": "2024-05-08T19:19:00.490321Z"
    },
    "papermill": {
     "duration": 0.415016,
     "end_time": "2024-05-08T19:19:00.495267",
     "exception": false,
     "start_time": "2024-05-08T19:19:00.080251",
     "status": "completed"
    },
    "tags": []
   },
   "outputs": [
    {
     "data": {
      "image/png": "[encoded data removed]",
      "text/plain": [
       "<Figure size 2000x1000 with 1 Axes>"
      ]
     },
     "metadata": {},
     "output_type": "display_data"
    }
   ],
   "source": [
    "# Make visualization to easy get insight\n",
    "# Count users per age group and gender\n",
    "age_gender_counts = df.groupby(['age_group', 'member_gender']).size().reset_index(name='count')\n",
    "\n",
    "# Plot as bar chart\n",
    "plt.figure(figsize=(10,5), dpi=200)\n",
    "sns.barplot(x='age_group', y='count', hue='member_gender', data=age_gender_counts, palette='Pastel1')\n",
    "plt.xlabel('Age Group')\n",
    "plt.ylabel('Number of Users')\n",
    "plt.title(\"User Distribution by Age Group and Gender\")\n",
    "plt.show()\n"
   ]
  },
  {
   "cell_type": "markdown",
   "id": "2dd41e12",
   "metadata": {
    "papermill": {
     "duration": 0.033401,
     "end_time": "2024-05-08T19:19:00.565677",
     "exception": false,
     "start_time": "2024-05-08T19:19:00.532276",
     "status": "completed"
    },
    "tags": []
   },
   "source": [
    "> ### <mark>Your analsys and exploration here </mark>\n",
    "Most users are males aged 20–39.\n",
    "\n",
    "Female users are fewer in all age groups but still present in 20–39 range.\n",
    "\n",
    "Very few users in age groups 60+ or 10–19.\n"
   ]
  },
  {
   "cell_type": "markdown",
   "id": "e8970237",
   "metadata": {
    "papermill": {
     "duration": 0.033295,
     "end_time": "2024-05-08T19:19:00.633271",
     "exception": false,
     "start_time": "2024-05-08T19:19:00.599976",
     "status": "completed"
    },
    "tags": []
   },
   "source": [
    "### Talk about some of the relationships you observed in this part of the investigation. How did the feature(s) of interest vary with other features in the dataset?\n",
    "\n",
    "> ...................\n",
    "\n",
    "\n",
    "### Did you observe any interesting relationships between the other features (not the main feature(s) of interest)?\n",
    "\n",
    "> ...................."
   ]
  },
  {
   "cell_type": "markdown",
   "id": "be04d446",
   "metadata": {
    "papermill": {
     "duration": 0.03374,
     "end_time": "2024-05-08T19:19:00.701869",
     "exception": false,
     "start_time": "2024-05-08T19:19:00.668129",
     "status": "completed"
    },
    "tags": []
   },
   "source": [
    "# <p style=\"border-radius:15px;border-style:solid;border-color:lightblue;border-width:3px;background-color:lightblue;padding: 20px;font-family:Verdana;color:#D81F26;font-size:30px;text-align: center;\">Multivariate Exploration</p>\n",
    "# <a id=\"1111\"> Multivariate Exploration </a>\n",
    "\n",
    "> Create plots of three or more variables to investigate your data even\n",
    "further. Make sure that your investigations are justified, and follow from\n",
    "your work in the previous sections."
   ]
  },
  {
   "cell_type": "code",
   "execution_count": null,
   "id": "94da7cd0",
   "metadata": {},
   "outputs": [],
   "source": [
    "## check your work \n"
   ]
  },
  {
   "cell_type": "markdown",
   "id": "ade8b4be",
   "metadata": {
    "papermill": {
     "duration": 0.034492,
     "end_time": "2024-05-08T19:19:00.771230",
     "exception": false,
     "start_time": "2024-05-08T19:19:00.736738",
     "status": "completed"
    },
    "tags": []
   },
   "source": [
    "\n",
    "# <a id=\"13\">  13 ) . What is the  Correlation between each variable in the dataset?</a>"
   ]
  },
  {
   "cell_type": "code",
   "execution_count": 10,
   "id": "ddba4e75",
   "metadata": {
    "execution": {
     "iopub.execute_input": "2024-05-08T19:19:00.842561Z",
     "iopub.status.busy": "2024-05-08T19:19:00.841730Z",
     "iopub.status.idle": "2024-05-08T19:19:02.331091Z",
     "shell.execute_reply": "2024-05-08T19:19:02.329589Z"
    },
    "papermill": {
     "duration": 1.531842,
     "end_time": "2024-05-08T19:19:02.338068",
     "exception": false,
     "start_time": "2024-05-08T19:19:00.806226",
     "status": "completed"
    },
    "tags": []
   },
   "outputs": [],
   "source": [
    "# Make visualization to easy get insight\n"
   ]
  },
  {
   "cell_type": "markdown",
   "id": "81bf674a",
   "metadata": {
    "papermill": {
     "duration": 0.040414,
     "end_time": "2024-05-08T19:19:02.419056",
     "exception": false,
     "start_time": "2024-05-08T19:19:02.378642",
     "status": "completed"
    },
    "tags": []
   },
   "source": [
    "\n",
    "\n",
    "> ### <mark>Your analsys and exploration here </mark>\n",
    "\n",
    "Example usage\n",
    "- There is `no Correlation` for any variable with time ( `duration sec /minutes/hours`)\n"
   ]
  },
  {
   "cell_type": "markdown",
   "id": "0de8bcef",
   "metadata": {
    "papermill": {
     "duration": 0.041216,
     "end_time": "2024-05-08T19:19:02.501874",
     "exception": false,
     "start_time": "2024-05-08T19:19:02.460658",
     "status": "completed"
    },
    "tags": []
   },
   "source": [
    "\n",
    "# <a id=\"14\"> 14 )  .  What is the  Correlation between `specific numeric variables` in the dataset?</a>\n"
   ]
  },
  {
   "cell_type": "code",
   "execution_count": 11,
   "id": "4e1851c8",
   "metadata": {
    "execution": {
     "iopub.execute_input": "2024-05-08T19:19:02.586438Z",
     "iopub.status.busy": "2024-05-08T19:19:02.585564Z",
     "iopub.status.idle": "2024-05-08T19:19:15.830347Z",
     "shell.execute_reply": "2024-05-08T19:19:15.829084Z"
    },
    "papermill": {
     "duration": 13.29349,
     "end_time": "2024-05-08T19:19:15.835911",
     "exception": false,
     "start_time": "2024-05-08T19:19:02.542421",
     "status": "completed"
    },
    "tags": []
   },
   "outputs": [],
   "source": [
    "# Make visualization to easy get insight\n",
    "\n",
    "\n"
   ]
  },
  {
   "cell_type": "markdown",
   "id": "b5e3995b",
   "metadata": {
    "papermill": {
     "duration": 0.046689,
     "end_time": "2024-05-08T19:19:15.930253",
     "exception": false,
     "start_time": "2024-05-08T19:19:15.883564",
     "status": "completed"
    },
    "tags": []
   },
   "source": [
    "> ### <mark>Your analsys and exploration here </mark>\n",
    "\n",
    "Example usage\n",
    "- There is `no Correlation` for any variable with time ( `duration sec /minutes`)\n",
    "\n",
    "\n",
    "\n",
    "\n",
    "- \n",
    "\n",
    "\n",
    "\n",
    "\n",
    "- \n",
    "\n",
    "\n"
   ]
  },
  {
   "cell_type": "markdown",
   "id": "97fea6e5",
   "metadata": {
    "papermill": {
     "duration": 0.044683,
     "end_time": "2024-05-08T19:19:16.022736",
     "exception": false,
     "start_time": "2024-05-08T19:19:15.978053",
     "status": "completed"
    },
    "tags": []
   },
   "source": [
    "# <a id=\"15\">  15 ) What is the  Correlation between data_stat variables in the dataset?</a>\n"
   ]
  },
  {
   "cell_type": "code",
   "execution_count": 12,
   "id": "76e8afc4",
   "metadata": {
    "execution": {
     "iopub.execute_input": "2024-05-08T19:19:16.114795Z",
     "iopub.status.busy": "2024-05-08T19:19:16.114016Z",
     "iopub.status.idle": "2024-05-08T19:19:16.553808Z",
     "shell.execute_reply": "2024-05-08T19:19:16.552337Z"
    },
    "papermill": {
     "duration": 0.489697,
     "end_time": "2024-05-08T19:19:16.557573",
     "exception": false,
     "start_time": "2024-05-08T19:19:16.067876",
     "status": "completed"
    },
    "tags": []
   },
   "outputs": [
    {
     "data": {
      "text/plain": [
       "'\"\"This time I will use heatmap  to explain how Correlation between data_stat variables\\n\\nin the dataset in more clear and specific percentage'"
      ]
     },
     "execution_count": 12,
     "metadata": {},
     "output_type": "execute_result"
    }
   ],
   "source": [
    "\n",
    "\"\"\"\"\"This time I will use heatmap  to explain how Correlation between data_stat variables\n",
    "\n",
    "in the dataset in more clear and specific percentage\"\"\"\n",
    "\n",
    "# Make visualization to easy get insight\n",
    "\n"
   ]
  },
  {
   "cell_type": "markdown",
   "id": "33301163",
   "metadata": {
    "papermill": {
     "duration": 0.047459,
     "end_time": "2024-05-08T19:19:16.653147",
     "exception": false,
     "start_time": "2024-05-08T19:19:16.605688",
     "status": "completed"
    },
    "tags": []
   },
   "source": [
    "> ### <mark>The above charts show how Correlation between specific numeric variables in the dataset using heatmap plots  </mark>\n",
    "\n",
    "\n",
    "\n",
    "**Actually the `heat map`  display the above ideas in clear percentages**\n",
    "\n",
    "\n",
    "\n",
    "- There is `no Correlation` for any variable with time ( `duration sec /minutes`)\n",
    "\n",
    "\n",
    "\n",
    "\n",
    "- There is a `negative  Correlation` between  member_birth_year  and age which normal.\n",
    "\n",
    "\n",
    "\n",
    "\n",
    "- There is `no significant Correlation` for any variable with `bike_id `\n",
    "\n"
   ]
  },
  {
   "cell_type": "markdown",
   "id": "c7d52286",
   "metadata": {
    "papermill": {
     "duration": 0.047263,
     "end_time": "2024-05-08T19:19:16.750071",
     "exception": false,
     "start_time": "2024-05-08T19:19:16.702808",
     "status": "completed"
    },
    "tags": []
   },
   "source": [
    "# <p style=\"border-radius:15px;border-style:solid;border-color:lightblue;border-width:3px;background-color:lightblue;padding: 20px;font-family:Verdana;color:#D81F26;font-size:30px;text-align: center;\">Conclusions</p>\n",
    "# <a id=\"1100\"> Conclusions </a>\n",
    "\n",
    "#example\n",
    "- Most users were Male.\n",
    "\n",
    "\n",
    "- \n",
    "\n",
    "- \n",
    "\n",
    "- \n",
    "\n",
    "\n",
    "\n",
    "## limitation \n",
    "example\n",
    "- We got missing data which we fix some of them .\n",
    "\n",
    "- \n"
   ]
  },
  {
   "cell_type": "markdown",
   "id": "8960d6bc",
   "metadata": {},
   "source": []
  }
 ],
 "metadata": {
  "kaggle": {
   "accelerator": "none",
   "dataSources": [
    {
     "datasetId": 2328822,
     "sourceId": 4414579,
     "sourceType": "datasetVersion"
    }
   ],
   "dockerImageVersionId": 30203,
   "isGpuEnabled": false,
   "isInternetEnabled": true,
   "language": "python",
   "sourceType": "notebook"
  },
  "kernelspec": {
   "display_name": "Python 3",
   "language": "python",
   "name": "python3"
  },
  "language_info": {
   "codemirror_mode": {
    "name": "ipython",
    "version": 3
   },
   "file_extension": ".py",
   "mimetype": "text/x-python",
   "name": "python",
   "nbconvert_exporter": "python",
   "pygments_lexer": "ipython3",
   "version": "3.13.6"
  },
  "papermill": {
   "default_parameters": {},
   "duration": 42.862916,
   "end_time": "2024-05-08T19:19:17.815863",
   "environment_variables": {},
   "exception": null,
   "input_path": "__notebook__.ipynb",
   "output_path": "__notebook__.ipynb",
   "parameters": {},
   "start_time": "2024-05-08T19:18:34.952947",
   "version": "2.3.4"
  }
 },
 "nbformat": 4,
 "nbformat_minor": 5
}
