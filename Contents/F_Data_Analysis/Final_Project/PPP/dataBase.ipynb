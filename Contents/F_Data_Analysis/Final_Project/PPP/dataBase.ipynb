{
 "cells": [
  {
   "cell_type": "code",
   "execution_count": 2,
   "id": "04a31469",
   "metadata": {},
   "outputs": [],
   "source": [
    "import psycopg2\n",
    "\n",
    "# Connect to PostgreSQL\n",
    "\n",
    "conn = psycopg2.connect(\n",
    "    dbname=\"GoBike\",\n",
    "    user=\"postgres\",\n",
    "    password=\"habiba2004#\",\n",
    "    host=\"localhost\",\n",
    "    port=\"5433\"\n",
    ")"
   ]
  },
  {
   "cell_type": "code",
   "execution_count": 3,
   "id": "09963f01",
   "metadata": {},
   "outputs": [
    {
     "name": "stdout",
     "output_type": "stream",
     "text": [
      "Database connected successfully.\n"
     ]
    }
   ],
   "source": [
    "\n",
    "cur = conn.cursor()\n",
    "print(\"Database connected successfully.\")\n",
    "\n"
   ]
  },
  {
   "cell_type": "code",
   "execution_count": 3,
   "id": "492f2e6a",
   "metadata": {},
   "outputs": [
    {
     "name": "stdout",
     "output_type": "stream",
     "text": [
      "Rows inserted into dim_time table\n",
      "Number of rows: 3\n"
     ]
    }
   ],
   "source": [
    "\n",
    "#Insert rows and values FOR time\n",
    "sql = \"INSERT INTO  dim_time (date, hour, day, day_of_week, month, year) VALUES(%s,%s,%s,%s,%s,%s)\"\n",
    "data = [ \n",
    "        ('2023-01-01', 10, 1, 'Sunday', 1, 2023),\n",
    "        ('2023-01-02', 11, 2, 'Monday', 1, 2023),\n",
    "        ('2023-01-03', 12, 3, 'Tuesday', 1, 2023)\n",
    "    ]\n",
    "\n",
    "cur.executemany(sql, data)\n",
    "conn.commit()\n",
    "print(\"Rows inserted into dim_time table\")\n",
    "print(\"Number of rows:\" ,cur.rowcount)\n"
   ]
  },
  {
   "cell_type": "code",
   "execution_count": 4,
   "id": "e0dfc556",
   "metadata": {},
   "outputs": [
    {
     "name": "stdout",
     "output_type": "stream",
     "text": [
      "Rows inserted into dim_station table\n",
      "Number of rows: 3\n"
     ]
    }
   ],
   "source": [
    "\n",
    "#Insert rows and values FOR station\n",
    "sql = \"INSERT INTO dim_station (station_name, latitude, longitude) VALUES (%s,%s,%s)\"\n",
    "data = [\n",
    "    (\"Market St Station\", 37.7749, -122.4194),\n",
    "    (\"Central Park Station\", 40.7128, -74.0060),\n",
    "    (\"Tower Bridge Station\", 51.5074, -0.1278)\n",
    "]\n",
    "cur.executemany(sql, data)\n",
    "conn.commit()\n",
    "print(\"Rows inserted into dim_station table\")\n",
    "print(\"Number of rows:\" ,cur.rowcount)\n",
    "  "
   ]
  },
  {
   "cell_type": "code",
   "execution_count": 9,
   "id": "0a8208ff",
   "metadata": {},
   "outputs": [
    {
     "name": "stdout",
     "output_type": "stream",
     "text": [
      "Rows inserted successfully into dim_user\n"
     ]
    }
   ],
   "source": [
    "sql = \"INSERT INTO dim_user (birth_year, age, gender, user_type) VALUES (%s,%s,%s,%s)\"\n",
    "data = [\n",
    "    (1990, 33, 'Male', 'Subscriber'),\n",
    "    (1995, 28, 'Female', 'Customer'),\n",
    "    (1988, 35, 'Male', 'Subscriber')\n",
    "]\n",
    "\n",
    "cur.executemany(sql, data)\n",
    "conn.commit()\n",
    "print(\"Rows inserted successfully into dim_user\")"
   ]
  },
  {
   "cell_type": "code",
   "execution_count": 29,
   "id": "38d3d957",
   "metadata": {},
   "outputs": [],
   "source": [
    "sql = \"\"\"INSERT INTO fact_trips\n",
    "(start_time, end_time, duration_sec, bike_id, start_station_id, end_station_id, user_id, time_id) \n",
    "VALUES (%s,%s,%s,%s,%s,%s,%s,%s)\"\"\"\n",
    "\n",
    "data = [\n",
    "    ('2023-01-01 10:00:00', '2023-01-01 10:30:00', 1800, 'B001', 1, 2, 1, 1),\n",
    "    ('2023-01-02 11:15:00', '2023-01-02 11:45:00', 1800, 'B002', 2, 3, 2, 2),\n",
    "    ('2023-01-03 12:05:00', '2023-01-03 12:50:00', 2700, 'B003', 3, 1, 3, 3)\n",
    "]\n",
    "\n",
    "cur.executemany(sql, data)\n",
    "conn.commit()\n"
   ]
  },
  {
   "cell_type": "code",
   "execution_count": 30,
   "id": "b541ae1b",
   "metadata": {},
   "outputs": [
    {
     "name": "stdout",
     "output_type": "stream",
     "text": [
      "Rows inserted into fact_trip table\n",
      "Number of rows: 3\n"
     ]
    }
   ],
   "source": [
    "print(\"Rows inserted into fact_trip table\")\n",
    "print(\"Number of rows:\" ,cur.rowcount)"
   ]
  },
  {
   "cell_type": "code",
   "execution_count": 28,
   "id": "aef15918",
   "metadata": {},
   "outputs": [],
   "source": [
    "conn.rollback()\n"
   ]
  },
  {
   "cell_type": "code",
   "execution_count": 4,
   "id": "e13271d0",
   "metadata": {},
   "outputs": [
    {
     "name": "stdout",
     "output_type": "stream",
     "text": [
      "[(1, 'Market St Station', 37.7749, -122.4194), (2, 'Central Park Station', 40.7128, -74.006), (3, 'Tower Bridge Station', 51.5074, -0.1278)]\n",
      "[(1, 1990, 33, 'Male', 'Subscriber'), (2, 1995, 28, 'Female', 'Customer'), (3, 1988, 35, 'Male', 'Subscriber'), (4, 1990, 33, 'Male', 'Subscriber'), (5, 1995, 28, 'Female', 'Customer'), (6, 1988, 35, 'Male', 'Subscriber')]\n",
      "[(1, datetime.date(2023, 1, 1), 10, 1, 'Sunday', 1, 2023), (2, datetime.date(2023, 1, 2), 11, 2, 'Monday', 1, 2023), (3, datetime.date(2023, 1, 3), 12, 3, 'Tuesday', 1, 2023)]\n"
     ]
    }
   ],
   "source": [
    "cur.execute(\"SELECT * FROM dim_station;\")\n",
    "print(cur.fetchall())\n",
    "\n",
    "cur.execute(\"SELECT * FROM dim_user;\")\n",
    "print(cur.fetchall())\n",
    "\n",
    "cur.execute(\"SELECT * FROM dim_time;\")\n",
    "print(cur.fetchall())\n"
   ]
  },
  {
   "cell_type": "code",
   "execution_count": 1,
   "id": "7ab545d5",
   "metadata": {},
   "outputs": [
    {
     "ename": "SystemExit",
     "evalue": "0",
     "output_type": "error",
     "traceback": [
      "An exception has occurred, use %tb to see the full traceback.\n",
      "\u001b[31mSystemExit\u001b[39m\u001b[31m:\u001b[39m 0\n"
     ]
    },
    {
     "name": "stderr",
     "output_type": "stream",
     "text": [
      "C:\\Users\\habib\\AppData\\Roaming\\Python\\Python313\\site-packages\\IPython\\core\\interactiveshell.py:3707: UserWarning: To exit: use 'exit', 'quit', or Ctrl-D.\n",
      "  warn(\"To exit: use 'exit', 'quit', or Ctrl-D.\", stacklevel=1)\n"
     ]
    }
   ],
   "source": [
    "import sys\n",
    "import psycopg2\n",
    "from PyQt5.QtWidgets import (\n",
    "    QApplication, QMainWindow, QAction, QTableWidget, QTableWidgetItem, \n",
    "    QWidget, QVBoxLayout, QPushButton, QMessageBox\n",
    ")\n",
    "from PyQt5.QtCore import Qt\n",
    "\n",
    "class DatabaseViewer(QMainWindow):\n",
    "    def __init__(self):\n",
    "        super().__init__()\n",
    "        self.setWindowTitle(\"Bike Sharing Dashboard\")\n",
    "        self.setGeometry(200, 100, 800, 500)\n",
    "\n",
    "        # DB connection\n",
    "        try:\n",
    "            self.conn = psycopg2.connect(\n",
    "                dbname=\"GoBike\",\n",
    "                user=\"postgres\",\n",
    "                password=\"habiba2004#\",\n",
    "                host=\"localhost\",\n",
    "                port=\"5433\"\n",
    "            )\n",
    "            self.cur = self.conn.cursor()\n",
    "        except Exception as e:\n",
    "            QMessageBox.critical(self, \"DB Error\", str(e))\n",
    "            sys.exit(1)\n",
    "\n",
    "        # Central widget\n",
    "        self.central_widget = QWidget()\n",
    "        self.layout = QVBoxLayout()\n",
    "        self.table = QTableWidget()\n",
    "        self.refresh_btn = QPushButton(\"🔄 Refresh Data\")\n",
    "        self.refresh_btn.clicked.connect(self.refresh_data)\n",
    "\n",
    "        self.layout.addWidget(self.table)\n",
    "        self.layout.addWidget(self.refresh_btn)\n",
    "        self.central_widget.setLayout(self.layout)\n",
    "        self.setCentralWidget(self.central_widget)\n",
    "\n",
    "        # Menu bar\n",
    "        menubar = self.menuBar()\n",
    "        viewMenu = menubar.addMenu(\"📊 View\")\n",
    "\n",
    "        users_action = QAction(\"Users\", self)\n",
    "        users_action.triggered.connect(lambda: self.load_table(\"dim_user\"))\n",
    "        stations_action = QAction(\"Stations\", self)\n",
    "        stations_action.triggered.connect(lambda: self.load_table(\"dim_station\"))\n",
    "        trips_action = QAction(\"Trips\", self)\n",
    "        trips_action.triggered.connect(lambda: self.load_table(\"fact_trips\"))\n",
    "\n",
    "        viewMenu.addAction(users_action)\n",
    "        viewMenu.addAction(stations_action)\n",
    "        viewMenu.addAction(trips_action)\n",
    "\n",
    "        self.current_table = \"dim_user\"\n",
    "        self.load_table(self.current_table)\n",
    "\n",
    "    def load_table(self, table_name):\n",
    "        try:\n",
    "            self.cur.execute(f\"SELECT * FROM {table_name}\")\n",
    "            rows = self.cur.fetchall()\n",
    "            cols = [desc[0] for desc in self.cur.description]\n",
    "\n",
    "            self.table.setRowCount(len(rows))\n",
    "            self.table.setColumnCount(len(cols))\n",
    "            self.table.setHorizontalHeaderLabels(cols)\n",
    "\n",
    "            for i, row in enumerate(rows):\n",
    "                for j, val in enumerate(row):\n",
    "                    self.table.setItem(i, j, QTableWidgetItem(str(val)))\n",
    "\n",
    "            self.table.resizeColumnsToContents()\n",
    "            self.current_table = table_name\n",
    "        except Exception as e:\n",
    "            QMessageBox.critical(self, \"Error\", str(e))\n",
    "\n",
    "    def refresh_data(self):\n",
    "        self.load_table(self.current_table)\n",
    "\n",
    "    def closeEvent(self, event):\n",
    "        if self.conn:\n",
    "            self.cur.close()\n",
    "            self.conn.close()\n",
    "        event.accept()\n",
    "\n",
    "if __name__ == \"__main__\":\n",
    "    app = QApplication(sys.argv)\n",
    "    viewer = DatabaseViewer()\n",
    "    viewer.show()\n",
    "    sys.exit(app.exec_())\n",
    "\n"
   ]
  },
  {
   "cell_type": "code",
   "execution_count": null,
   "id": "88852460",
   "metadata": {},
   "outputs": [],
   "source": []
  }
 ],
 "metadata": {
  "kernelspec": {
   "display_name": "Python 3",
   "language": "python",
   "name": "python3"
  },
  "language_info": {
   "codemirror_mode": {
    "name": "ipython",
    "version": 3
   },
   "file_extension": ".py",
   "mimetype": "text/x-python",
   "name": "python",
   "nbconvert_exporter": "python",
   "pygments_lexer": "ipython3",
   "version": "3.13.6"
  }
 },
 "nbformat": 4,
 "nbformat_minor": 5
}
