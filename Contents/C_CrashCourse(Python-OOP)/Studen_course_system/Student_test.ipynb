{
 "cells": [
  {
   "cell_type": "code",
   "execution_count": null,
   "id": "c853a5ca",
   "metadata": {},
   "outputs": [
    {
     "data": {
      "text/plain": [
       "1"
      ]
     },
     "execution_count": 2,
     "metadata": {},
     "output_type": "execute_result"
    }
   ],
   "source": [
    "'''\n",
    "\n",
    "doc ...\n",
    "\n",
    "'''\n",
    "class Student:\n",
    "    _id_counter = 1\n",
    "    def __init__(self,name):\n",
    "        self.name = name\n",
    "        self.student_id = Student._id_counter\n",
    "        self.student_id+=1\n",
    "        \n",
    "        \n",
    "s1 = Student(\"Habiba\")\n",
    "s1._id_counter # 1\n",
    "\n"
   ]
  },
  {
   "cell_type": "code",
   "execution_count": 4,
   "id": "c5bb16f8",
   "metadata": {},
   "outputs": [
    {
     "data": {
      "text/plain": [
       "'habiba'"
      ]
     },
     "execution_count": 4,
     "metadata": {},
     "output_type": "execute_result"
    }
   ],
   "source": [
    "class Student:\n",
    "    _id_counter = 1\n",
    "    def __init__(self,name):\n",
    "        self.name = name\n",
    "        self.student_id = Student._id_counter\n",
    "        self.student_id+=1\n",
    "        self.grade = {}\n",
    "        self.enrolled_courses = []\n",
    "        \n",
    "s1 = Student(\"Habiba\")\n",
    "s1 # printing the memory address\n",
    "\n",
    "name = input(\"enter your name\")\n",
    "s1 = Student(name)\n",
    "s1.name"
   ]
  },
  {
   "cell_type": "code",
   "execution_count": null,
   "id": "6e7b305f",
   "metadata": {},
   "outputs": [
    {
     "name": "stdout",
     "output_type": "stream",
     "text": [
      "student ID : 1 , Name ; habiba\n",
      "student ID : 2 , Name ; habiba\n"
     ]
    }
   ],
   "source": [
    "class Student:\n",
    "    _id_counter = 1\n",
    "    def __init__(self,name):\n",
    "        self.name = name\n",
    "        self.student_id = Student._id_counter\n",
    "        Student._id_counter+=1\n",
    "        self.grade = {}\n",
    "        self.enrolled_courses = []\n",
    "        \n",
    "    def __str__(self):\n",
    "        return f\"student ID : {self.student_id} , Name ; {self.name}\"\n",
    "name = input(\"enter your name\")\n",
    "s1 = Student(name)\n",
    "print(s1)   # print the string inside s1\n",
    "s1  # still printing memory address \n",
    "\n"
   ]
  },
  {
   "cell_type": "code",
   "execution_count": null,
   "id": "dd063cf9",
   "metadata": {},
   "outputs": [
    {
     "name": "stdout",
     "output_type": "stream",
     "text": [
      "student ID : 1 , Name ; habiba\n"
     ]
    },
    {
     "data": {
      "text/plain": [
       "student ID : 1 , Name ; habiba"
      ]
     },
     "execution_count": 9,
     "metadata": {},
     "output_type": "execute_result"
    }
   ],
   "source": [
    "class Student:\n",
    "    _id_counter = 1\n",
    "    def __init__(self,name):\n",
    "        self.name = name\n",
    "        self.student_id = Student._id_counter\n",
    "        Student._id_counter+=1\n",
    "        self.grade = {}\n",
    "        self.enrolled_courses = []\n",
    "        \n",
    "    def __str__(self):\n",
    "        return f\"student ID : {self.student_id} , Name : {self.name} ,grades : {self.grade}\"\n",
    "    def __repr__(self):\n",
    "        return f\"student ID : {self.student_id} , Name : {self.name} ,grades : {self.grade}\"\n",
    "    \n",
    "name = input(\"enter your name\")\n",
    "s1 = Student(name)\n",
    "print(s1)   # print the string inside s1\n",
    "s1  #       !!! it prints the value !!!!    \n",
    "\n"
   ]
  },
  {
   "cell_type": "code",
   "execution_count": null,
   "id": "40128189",
   "metadata": {},
   "outputs": [
    {
     "name": "stdout",
     "output_type": "stream",
     "text": [
      "habiba\n"
     ]
    }
   ],
   "source": [
    "class Student:\n",
    "    _id_counter = 1\n",
    "    def __init__(self,name):\n",
    "        self.name = name\n",
    "        self.student_id = Student._id_counter\n",
    "        Student._id_counter+=1\n",
    "        self.grade = {}\n",
    "        self.enrolled_courses = []\n",
    "        \n",
    "    def __str__(self):\n",
    "        return f\"student ID : {self.student_id} , Name : {self.name} ,grades : {self.grade}\"\n",
    "    def __repr__(self):\n",
    "        return f\"student ID : {self.student_id} , Name : {self.name} ,grades : {self.grade}\"\n",
    "    \n",
    "    def info(self):\n",
    "        return self.name\n",
    "    \n",
    "s1 = Student('habiba') \n",
    "print(s1.info) # bound method ?? -read only func"
   ]
  },
  {
   "cell_type": "code",
   "execution_count": null,
   "id": "29ac612a",
   "metadata": {},
   "outputs": [
    {
     "name": "stdout",
     "output_type": "stream",
     "text": [
      "habiba\n"
     ]
    },
    {
     "ename": "AttributeError",
     "evalue": "property 'info' of 'Student' object has no setter",
     "output_type": "error",
     "traceback": [
      "\u001b[31m---------------------------------------------------------------------------\u001b[39m",
      "\u001b[31mAttributeError\u001b[39m                            Traceback (most recent call last)",
      "\u001b[36mCell\u001b[39m\u001b[36m \u001b[39m\u001b[32mIn[16]\u001b[39m\u001b[32m, line 23\u001b[39m\n\u001b[32m     20\u001b[39m \u001b[38;5;28mprint\u001b[39m(s1.info)\n\u001b[32m     22\u001b[39m \u001b[38;5;66;03m# if\u001b[39;00m\n\u001b[32m---> \u001b[39m\u001b[32m23\u001b[39m \u001b[43ms1\u001b[49m\u001b[43m.\u001b[49m\u001b[43minfo\u001b[49m = \u001b[33m'\u001b[39m\u001b[33mmicheal\u001b[39m\u001b[33m'\u001b[39m\n",
      "\u001b[31mAttributeError\u001b[39m: property 'info' of 'Student' object has no setter"
     ]
    }
   ],
   "source": [
    "class Student:\n",
    "    _id_counter = 1\n",
    "    def __init__(self,name):\n",
    "        self.name = name\n",
    "        self.student_id = Student._id_counter\n",
    "        Student._id_counter+=1\n",
    "        self.grade = {}\n",
    "        self.enrolled_courses = []\n",
    "        \n",
    "    def __str__(self):\n",
    "        return f\"student ID : {self.student_id} , Name : {self.name} ,grades : {self.grade}\"\n",
    "    def __repr__(self):\n",
    "        return f\"student ID : {self.student_id} , Name : {self.name} ,grades : {self.grade}\"\n",
    "    \n",
    "    @property   # -> lets you make a method behave like an attribute (s1.info without () and returns value directly).\n",
    "    def info(self):\n",
    "        return self.name\n",
    "    \n",
    "s1 = Student('habiba') \n",
    "print(s1.info)\n",
    "\n",
    "# IT'S A READ-ONLY .\n",
    "s1.info = 'micheal' #gives an AttributeError :  property 'info' of 'Student' object has no setter"
   ]
  },
  {
   "cell_type": "code",
   "execution_count": null,
   "id": "54d761ae",
   "metadata": {},
   "outputs": [
    {
     "name": "stdout",
     "output_type": "stream",
     "text": [
      "Habiba Nasser\n",
      "Laila\n",
      "Ahmed\n",
      "Laila Ahmed\n"
     ]
    }
   ],
   "source": [
    "'''\n",
    "Without setter → property is read-only.\n",
    "With setter → property is writable.\n",
    "'''\n",
    "\n",
    "class Student:\n",
    "    def __init__(self, first, last):\n",
    "        self.first = first\n",
    "        self.last = last\n",
    "\n",
    "    @property\n",
    "    def full_name(self):\n",
    "        return f\"{self.first} {self.last}\"\n",
    "\n",
    "    @full_name.setter\n",
    "    def full_name(self, name):\n",
    "        first, last = name.split(\" \")\n",
    "        self.first = first\n",
    "        self.last = last\n",
    "\n",
    "s1 = Student(\"Habiba\", \"Nasser\")\n",
    "print(s1.full_name)   # \"Habiba Nasser\"\n",
    "\n",
    "s1.full_name = \"Laila Ahmed\"   # now we can set it like an attribute\n",
    "print(s1.first)       # \"Laila\"\n",
    "print(s1.last)        # \"Ahmed\"\n",
    "print(s1.full_name)   # \"Laila Ahmed\"\n"
   ]
  },
  {
   "cell_type": "code",
   "execution_count": null,
   "id": "67914312",
   "metadata": {},
   "outputs": [
    {
     "data": {
      "text/plain": [
       "'student ID : 1 , Name : habiba ,grades : {2: 20}'"
      ]
     },
     "execution_count": 20,
     "metadata": {},
     "output_type": "execute_result"
    }
   ],
   "source": [
    "class Student:\n",
    "    _id_counter = 1\n",
    "    def __init__(self,name):\n",
    "        self.name = name\n",
    "        self.student_id = Student._id_counter\n",
    "        Student._id_counter+=1\n",
    "        self.grades = {}\n",
    "        self.enrolled_courses = []\n",
    "        \n",
    "    def __str__(self):\n",
    "        return f\"student ID : {self.student_id} , Name : {self.name} , grades : {self.grades}\"\n",
    "    def __repr__(self):\n",
    "        return f\"student ID : {self.student_id} , Name : {self.name} , grades : {self.grades}\"\n",
    "    \n",
    "    def add_grade(self,course_id,grade):\n",
    "        self.grades[course_id] = grade\n",
    "        \n",
    "        \n",
    "s = Student('habiba')\n",
    "s.add_grade(2,20)\n",
    "str(s)"
   ]
  },
  {
   "cell_type": "code",
   "execution_count": 22,
   "id": "d72ed5c0",
   "metadata": {},
   "outputs": [
    {
     "data": {
      "text/plain": [
       "\"student ID : 1 , Name : habiba , grades : {} , enrolled in :['DS']\""
      ]
     },
     "execution_count": 22,
     "metadata": {},
     "output_type": "execute_result"
    }
   ],
   "source": [
    "class Student:\n",
    "    _id_counter = 1\n",
    "    def __init__(self,name):\n",
    "        self.name = name\n",
    "        self.student_id = Student._id_counter\n",
    "        Student._id_counter+=1\n",
    "        self.grades = {}\n",
    "        self.enrolled_courses = []\n",
    "        \n",
    "    def __str__(self):\n",
    "        return f\"student ID : {self.student_id} , Name : {self.name} , grades : {self.grades} , enrolled in :{self.enrolled_courses}\"\n",
    "    def __repr__(self):\n",
    "        return f\"student ID : {self.student_id} , Name : {self.name} , grades : {self.grades} , enrolled in :{self.enrolled_courses}\"\n",
    "    \n",
    "    def add_grade(self,course_id,grade):\n",
    "        self.grades[course_id] = grade\n",
    "    \n",
    "    def enrolled_in_course(self,course):\n",
    "        self.enrolled_courses.append(course)\n",
    "        \n",
    "s=Student('habiba')\n",
    "s.enrolled_in_course('DS')\n",
    "str(s)"
   ]
  }
 ],
 "metadata": {
  "kernelspec": {
   "display_name": "Python 3",
   "language": "python",
   "name": "python3"
  },
  "language_info": {
   "codemirror_mode": {
    "name": "ipython",
    "version": 3
   },
   "file_extension": ".py",
   "mimetype": "text/x-python",
   "name": "python",
   "nbconvert_exporter": "python",
   "pygments_lexer": "ipython3",
   "version": "3.13.6"
  }
 },
 "nbformat": 4,
 "nbformat_minor": 5
}
