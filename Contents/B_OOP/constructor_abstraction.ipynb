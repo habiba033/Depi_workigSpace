{
 "cells": [
  {
   "cell_type": "code",
   "execution_count": null,
   "id": "6880af14",
   "metadata": {},
   "outputs": [
    {
     "data": {
      "text/plain": [
       "'habiba'"
      ]
     },
     "execution_count": 4,
     "metadata": {},
     "output_type": "execute_result"
    }
   ],
   "source": [
    "class Student:\n",
    "    #dundert __ 'double underscore -> built in func , python speaks with it first\n",
    "    def __init__(self,name):\n",
    "        #auto initialize the attributes\n",
    "        self.name = name\n",
    "    \n",
    "s1 = Student('habiba')\n",
    "s1.name\n",
    "    "
   ]
  },
  {
   "cell_type": "code",
   "execution_count": 5,
   "id": "1e911444",
   "metadata": {},
   "outputs": [
    {
     "data": {
      "text/plain": [
       "'habibanasser@gmail.com'"
      ]
     },
     "execution_count": 5,
     "metadata": {},
     "output_type": "execute_result"
    }
   ],
   "source": [
    "class Student2:\n",
    "    def __init__(self,first,last):\n",
    "        self.firstname = first\n",
    "        self.lastname = last\n",
    "        self.email = first+last+'@gmail.com'\n",
    "    \n",
    "s2 = Student2('habiba','nasser')\n",
    "s2.email"
   ]
  },
  {
   "cell_type": "code",
   "execution_count": null,
   "id": "2079a3d9",
   "metadata": {},
   "outputs": [],
   "source": [
    "#inheritence\n",
    "class Person:\n",
    "    pass\n",
    "class student3(Person):\n",
    "    # WHICH MEANS THAT STUDENT INHERIT FROM PERSON\n",
    "    pass"
   ]
  },
  {
   "cell_type": "code",
   "execution_count": 7,
   "id": "bc1bc08e",
   "metadata": {},
   "outputs": [
    {
     "name": "stdout",
     "output_type": "stream",
     "text": [
      "move from cat\n"
     ]
    }
   ],
   "source": [
    "#ABSTRACT CLASS\n",
    "from abc import ABC , abstractmethod\n",
    "class Animal(ABC):\n",
    "    #decorator @ -> the normal func became an abstract method\n",
    "    @abstractmethod\n",
    "    def move(self):\n",
    "        pass\n",
    "    \n",
    "class Bird(Animal):\n",
    "    def move(self):\n",
    "        print(\"move from bird\")\n",
    "        \n",
    "class Cat(Animal):\n",
    "    def move(self):\n",
    "        print(\"move from cat\")\n",
    "        \n",
    "        \n",
    "a = Cat()\n",
    "a.move()"
   ]
  }
 ],
 "metadata": {
  "kernelspec": {
   "display_name": "Python 3",
   "language": "python",
   "name": "python3"
  },
  "language_info": {
   "codemirror_mode": {
    "name": "ipython",
    "version": 3
   },
   "file_extension": ".py",
   "mimetype": "text/x-python",
   "name": "python",
   "nbconvert_exporter": "python",
   "pygments_lexer": "ipython3",
   "version": "3.13.6"
  }
 },
 "nbformat": 4,
 "nbformat_minor": 5
}
