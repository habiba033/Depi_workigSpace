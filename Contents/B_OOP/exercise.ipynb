{
 "cells": [
  {
   "cell_type": "code",
   "execution_count": 21,
   "id": "fcb2c2c1",
   "metadata": {},
   "outputs": [
    {
     "name": "stdout",
     "output_type": "stream",
     "text": [
      "2.0\n",
      "30\n",
      "200\n",
      "10\n",
      "Error : division by zero\n"
     ]
    }
   ],
   "source": [
    "#exercise 1 \n",
    "'''\n",
    "calculator class\n",
    "'''\n",
    "class Calc:\n",
    "    def __init__(self,num1,num2):\n",
    "        self.num1 = num1\n",
    "        self.num2 = num2\n",
    "        \n",
    "    def add(self):\n",
    "        return self.num1 + self.num2 \n",
    "    def sub(self):\n",
    "        return self.num1 - self.num2 \n",
    "    def multi(self):\n",
    "        return self.num1 * self.num2 \n",
    "    def divide(self):\n",
    "        try:\n",
    "            return self.num1 / self.num2\n",
    "        except Exception as e:\n",
    "            return f\"Error : {e}\"\n",
    "        \n",
    "c1 = Calc(20,10)\n",
    "print(c1.divide())\n",
    "print(c1.add())\n",
    "print(c1.multi())\n",
    "print(c1.sub())\n",
    "\n",
    "c2 = Calc(10,0)\n",
    "print(c2.divide())"
   ]
  },
  {
   "cell_type": "code",
   "execution_count": 8,
   "id": "4fcad934",
   "metadata": {},
   "outputs": [
    {
     "name": "stdout",
     "output_type": "stream",
     "text": [
      "hello my name is ahmed , i'm 33 and i am a male\n"
     ]
    }
   ],
   "source": [
    "#exercise 2\n",
    "'''\n",
    "Create a class Person with attributes: name, age, gender.\n",
    "Write a method introduce() that prints a sentence introducing the person.\n",
    "Create an object of Person and call the method.\n",
    "'''\n",
    "class Person:\n",
    "    name= 'ahmed'\n",
    "    age = 33\n",
    "    gender = 'male'\n",
    "    def introduce(self):\n",
    "        print(f\"hello my name is {self.name} , i'm {self.age} and i am a {self.gender}\")\n",
    "\n",
    "p = Person()\n",
    "p.introduce()"
   ]
  },
  {
   "cell_type": "code",
   "execution_count": 9,
   "id": "59e317b6",
   "metadata": {},
   "outputs": [
    {
     "name": "stdout",
     "output_type": "stream",
     "text": [
      "name : ahmed , faculty : AI , born in 2001\n",
      "name : ola , faculty : DS , born in 2002\n"
     ]
    }
   ],
   "source": [
    "# Exercise 3 – Constructor and Self\n",
    "'''\n",
    "Make a class Student with attributes: name, faculty, year.\n",
    "Use the constructor (__init__) to initialize them.\n",
    "Write a method display_info() that prints all student details.\n",
    "Create two student objects with different data and call display_info() for each.'''\n",
    "\n",
    "class Student:\n",
    "    def __init__(self,name,faculty,year):\n",
    "        self.name = name\n",
    "        self.faculty = faculty\n",
    "        self.year = year\n",
    "        \n",
    "    def display_info(self):\n",
    "        print(f'name : {self.name} , faculty : {self.faculty} , born in {self.year}')\n",
    "        \n",
    "std1 = Student(\"ahmed\",\"AI\",2001)\n",
    "std1.display_info()\n",
    "\n",
    "std2 = Student(\"ola\",\"DS\",2002)\n",
    "std2.display_info()"
   ]
  },
  {
   "cell_type": "code",
   "execution_count": 11,
   "id": "ece7da85",
   "metadata": {},
   "outputs": [
    {
     "name": "stdout",
     "output_type": "stream",
     "text": [
      "name : habiba , faculty : CS\n"
     ]
    }
   ],
   "source": [
    "# Exercise 4 – Inheritance\n",
    "'''\n",
    "Create a class Person with attribute name.\n",
    "Create a class Student that inherits from Person and adds faculty.\n",
    "Write a method in Student that prints both name and faculty.\n",
    "Create a student object and call the method.'''\n",
    "class Person1():\n",
    "    def __init__(self,name):\n",
    "        self.name = name\n",
    "\n",
    "class Student(Person1):\n",
    "    #we can use super()\n",
    "    def __init__(self, name,faculty):\n",
    "        super().__init__(name)\n",
    "        self.faculty = faculty\n",
    "    \n",
    "    def dis_info(self):\n",
    "        print(f\"name : {self.name} , faculty : {self.faculty}\")\n",
    "        \n",
    "s2 = Student('habiba','CS')\n",
    "s2.dis_info()"
   ]
  },
  {
   "cell_type": "code",
   "execution_count": 5,
   "id": "d69da403",
   "metadata": {},
   "outputs": [
    {
     "name": "stdout",
     "output_type": "stream",
     "text": [
      "bird flies\n",
      "Cat walks\n"
     ]
    }
   ],
   "source": [
    "# Exercise 5 – Abstract Class\n",
    "'''\n",
    "Import ABC and abstractmethod.\n",
    "Create an abstract class Animal with an abstract method move().\n",
    "Create two classes Cat and Bird that inherit from Animal.\n",
    "Each must implement the move() method in their own way (e.g., “Cat walks”, “Bird flies”).\n",
    "Create objects from Cat and Bird and call their move() methods.'''\n",
    "\n",
    "from abc import ABC , abstractmethod\n",
    "\n",
    "class Animal(ABC):\n",
    "    @abstractmethod\n",
    "    def move(self):\n",
    "        pass\n",
    "    \n",
    "class Cat(Animal):\n",
    "    def move(self):\n",
    "        return 'Cat walks'\n",
    "\n",
    "class Bird(Animal):\n",
    "    def move(self):\n",
    "        return \"bird flies\"\n",
    "    \n",
    "b = Bird()\n",
    "print(b.move())\n",
    "c=Cat()\n",
    "print(c.move())"
   ]
  },
  {
   "cell_type": "code",
   "execution_count": 7,
   "id": "3f696112",
   "metadata": {},
   "outputs": [
    {
     "name": "stdout",
     "output_type": "stream",
     "text": [
      "Can't instantiate abstract class Animal without an implementation for abstract method 'move'\n"
     ]
    }
   ],
   "source": [
    "# Exercise 6 – Why Abstract Class Can’t Be Instantiated\n",
    "'''\n",
    "Try to create an object of the abstract class Animal.\n",
    "Observe that Python gives an error because abstract classes are only blueprints, not real objects.'''\n",
    "from abc import ABC , abstractmethod\n",
    "\n",
    "class Animal(ABC):\n",
    "    @abstractmethod\n",
    "    def move(self):\n",
    "        pass\n",
    "try:    \n",
    "    a = Animal()\n",
    "    print(a.move())\n",
    "except Exception as e:\n",
    "    print(e)"
   ]
  },
  {
   "cell_type": "code",
   "execution_count": null,
   "id": "b7c8ac5d",
   "metadata": {},
   "outputs": [],
   "source": []
  }
 ],
 "metadata": {
  "kernelspec": {
   "display_name": "Python 3",
   "language": "python",
   "name": "python3"
  },
  "language_info": {
   "codemirror_mode": {
    "name": "ipython",
    "version": 3
   },
   "file_extension": ".py",
   "mimetype": "text/x-python",
   "name": "python",
   "nbconvert_exporter": "python",
   "pygments_lexer": "ipython3",
   "version": "3.13.6"
  }
 },
 "nbformat": 4,
 "nbformat_minor": 5
}
